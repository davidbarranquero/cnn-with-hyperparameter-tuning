{
 "cells": [
  {
   "cell_type": "markdown",
   "id": "3a6db2cd",
   "metadata": {},
   "source": [
    "## David Barranquero"
   ]
  },
  {
   "cell_type": "code",
   "execution_count": 1,
   "id": "f30e2fc8",
   "metadata": {},
   "outputs": [
    {
     "name": "stderr",
     "output_type": "stream",
     "text": [
      "2023-01-03 14:14:37.300061: I tensorflow/core/platform/cpu_feature_guard.cc:193] This TensorFlow binary is optimized with oneAPI Deep Neural Network Library (oneDNN) to use the following CPU instructions in performance-critical operations:  AVX2 FMA\n",
      "To enable them in other operations, rebuild TensorFlow with the appropriate compiler flags.\n"
     ]
    }
   ],
   "source": [
    "import numpy as np\n",
    "import pandas as pd\n",
    "import matplotlib.pyplot as plt\n",
    "import tensorflow as tf\n",
    "from tensorflow import keras\n",
    "from keras.utils import to_categorical\n",
    "from keras.layers import Conv2D, MaxPooling2D, Dense, Flatten, Dropout\n",
    "from keras.callbacks import EarlyStopping\n",
    "from sklearn.model_selection import GridSearchCV"
   ]
  },
  {
   "cell_type": "code",
   "execution_count": 2,
   "id": "eb57c00f",
   "metadata": {},
   "outputs": [],
   "source": [
    "%matplotlib inline"
   ]
  },
  {
   "cell_type": "code",
   "execution_count": 3,
   "id": "eba00a4b",
   "metadata": {},
   "outputs": [
    {
     "name": "stdout",
     "output_type": "stream",
     "text": [
      "2.10.0\n"
     ]
    }
   ],
   "source": [
    "print(tf.__version__)"
   ]
  },
  {
   "cell_type": "markdown",
   "id": "043ee764",
   "metadata": {},
   "source": [
    "Setting a random seed."
   ]
  },
  {
   "cell_type": "code",
   "execution_count": 4,
   "id": "6ceaab73",
   "metadata": {},
   "outputs": [],
   "source": [
    "seed = 54321\n",
    "np.random.seed(seed)\n",
    "tf.random.set_seed(seed)"
   ]
  },
  {
   "cell_type": "markdown",
   "id": "2f90e096",
   "metadata": {},
   "source": [
    "We're going to build a convolutional neural network for image classification. The dataset we will use is the MNIST Fashion Dataset, which contains 60,000 training images and 10,000 test images, all 28x28 and in greyscale. The dataset contains an equal amount of images of 10 different clothing articles. We begin first by reading in the dataset."
   ]
  },
  {
   "cell_type": "code",
   "execution_count": 5,
   "id": "cfba2b87",
   "metadata": {},
   "outputs": [],
   "source": [
    "(X_train, y_train), (X_test, y_test) = keras.datasets.fashion_mnist.load_data()"
   ]
  },
  {
   "cell_type": "code",
   "execution_count": 6,
   "id": "d7e8379c",
   "metadata": {},
   "outputs": [],
   "source": [
    "class_names = [\"T-shirt/top\", \n",
    "               \"Trouser\", \n",
    "               \"Pullover\", \n",
    "               \"Dress\", \n",
    "               \"Coat\", \n",
    "               \"Sandal\", \n",
    "               \"Shirt\", \n",
    "               \"Sneaker\", \n",
    "               \"Bag\", \n",
    "               \"Ankle boot\"]"
   ]
  },
  {
   "cell_type": "markdown",
   "id": "4d163b6e",
   "metadata": {},
   "source": [
    "Next, we visualise our dataset, viewing the first entry in the test dataset."
   ]
  },
  {
   "cell_type": "code",
   "execution_count": 7,
   "id": "7c8493d7",
   "metadata": {},
   "outputs": [
    {
     "name": "stdout",
     "output_type": "stream",
     "text": [
      "Ankle boot\n"
     ]
    }
   ],
   "source": [
    "print(class_names[y_train[0]])"
   ]
  },
  {
   "cell_type": "markdown",
   "id": "ebba0a0e",
   "metadata": {},
   "source": [
    "As well as visualising the image itself."
   ]
  },
  {
   "cell_type": "code",
   "execution_count": 8,
   "id": "25109b72",
   "metadata": {},
   "outputs": [
    {
     "data": {
      "text/plain": [
       "<matplotlib.image.AxesImage at 0x7fcf9f7084c0>"
      ]
     },
     "execution_count": 8,
     "metadata": {},
     "output_type": "execute_result"
    },
    {
     "data": {
      "image/png": "[encoded data removed]",
      "text/plain": [
       "<Figure size 432x288 with 1 Axes>"
      ]
     },
     "metadata": {
      "needs_background": "light"
     },
     "output_type": "display_data"
    }
   ],
   "source": [
    "plt.imshow(X_train[0], cmap='Greys')"
   ]
  },
  {
   "cell_type": "markdown",
   "id": "80a4d2b9",
   "metadata": {},
   "source": [
    "## Pre-processing"
   ]
  },
  {
   "cell_type": "markdown",
   "id": "106a258c",
   "metadata": {},
   "source": [
    "Firstly, we must perform pre-processing on the dataset. We are going to employ Min-Max normalisation on the dataset to place all values between 0 and 1. By normalising, the network will achieve a faster convergence to the local minimum. Fortunately, because of the 256 pixel values ranging from 0 to 255, the normalisation effect is achieved by simply dividing the dataset by 255. To do so, we first convert the dataset type to float, and then perform the normalisation. Furthermore, as general practice for when we deal with colour images and have three RGB colour channels, we reshape the dataset to include this information. We define a function for this preprocessing."
   ]
  },
  {
   "cell_type": "code",
   "execution_count": 9,
   "id": "6d8cb2e4",
   "metadata": {},
   "outputs": [],
   "source": [
    "def normalise_data(dataset):\n",
    "    dataset = dataset.reshape((dataset.shape[0], 28, 28, 1))\n",
    "    dataset = dataset.astype('float32')\n",
    "    dataset /= 255\n",
    "    \n",
    "    return dataset"
   ]
  },
  {
   "cell_type": "code",
   "execution_count": 10,
   "id": "b00a8e30",
   "metadata": {},
   "outputs": [],
   "source": [
    "X_train = normalise_data(X_train)\n",
    "X_test = normalise_data(X_test)"
   ]
  },
  {
   "cell_type": "markdown",
   "id": "8ea5b543",
   "metadata": {},
   "source": [
    "Furthermore, we define a validation set using the first 10000 images of the training dataset. Ideally, when creating a validation set, it is wise to perform stratified sampling on your dataset. When there are large class imbalances, stratified sampling lowers the sampling variance of dataset split, which translates to better performance for the image classification model. However, if we look at the unique counts of the first 10000 images, we can see that there is a fairly uniform distribution of roughly a thousand per image, so the advantage of stratified sampling is minimal over simple random sampling."
   ]
  },
  {
   "cell_type": "code",
   "execution_count": 11,
   "id": "ada10d99",
   "metadata": {},
   "outputs": [
    {
     "data": {
      "text/plain": [
       "(array([0, 1, 2, 3, 4, 5, 6, 7, 8, 9], dtype=uint8),\n",
       " array([ 942, 1027, 1016, 1019,  974,  989, 1021, 1022,  990, 1000]))"
      ]
     },
     "execution_count": 11,
     "metadata": {},
     "output_type": "execute_result"
    }
   ],
   "source": [
    "np.unique(y_train[:10000], return_counts=True)"
   ]
  },
  {
   "cell_type": "markdown",
   "id": "f0000eb1",
   "metadata": {},
   "source": [
    "For this reason, we will use the first 10000 images for our validation set, and the remaining 50000 for our training set."
   ]
  },
  {
   "cell_type": "code",
   "execution_count": 12,
   "id": "7bfe256a",
   "metadata": {},
   "outputs": [],
   "source": [
    "X_valid, X_train = X_train[:10000], X_train[10000:]\n",
    "y_valid, y_train = y_train[:10000], y_train[10000:]"
   ]
  },
  {
   "cell_type": "markdown",
   "id": "8d5bd634",
   "metadata": {},
   "source": [
    "Finally, we confirm the set sizes and shapes of our data"
   ]
  },
  {
   "cell_type": "code",
   "execution_count": 13,
   "id": "58fcf2b7",
   "metadata": {},
   "outputs": [
    {
     "name": "stdout",
     "output_type": "stream",
     "text": [
      "(50000, 28, 28, 1)\n",
      "(50000,)\n"
     ]
    }
   ],
   "source": [
    "print(X_train.shape)\n",
    "print(y_train.shape)"
   ]
  },
  {
   "cell_type": "code",
   "execution_count": 14,
   "id": "ba49bd54",
   "metadata": {},
   "outputs": [
    {
     "name": "stdout",
     "output_type": "stream",
     "text": [
      "(10000, 28, 28, 1)\n",
      "(10000,)\n"
     ]
    }
   ],
   "source": [
    "print(X_valid.shape)\n",
    "print(y_valid.shape)"
   ]
  },
  {
   "cell_type": "code",
   "execution_count": 15,
   "id": "1073c466",
   "metadata": {},
   "outputs": [
    {
     "name": "stdout",
     "output_type": "stream",
     "text": [
      "(10000, 28, 28, 1)\n",
      "(10000,)\n"
     ]
    }
   ],
   "source": [
    "print(X_test.shape)\n",
    "print(y_test.shape)"
   ]
  },
  {
   "cell_type": "markdown",
   "id": "c8023b0a",
   "metadata": {},
   "source": [
    "## Building the Model"
   ]
  },
  {
   "cell_type": "markdown",
   "id": "3208414d",
   "metadata": {},
   "source": [
    "For image classification tasks, convolutional neural networks consistently provide the best performance.\n",
    "\n",
    "Our model will consist of a convolutional layer with 32 filters and the standard 3x3 kernel size, with a stride of 1. We will use a layer of padding to ensure that the output is of the same shape and information is not lost. Finally, for our activation function we will use ReLU. ReLU is defined as ReLU(a) = max(0,a). It leads to faster convergence by promoting sparsity in the model, as well as avoiding the vanishing/exploding gradients issue of other activation functions. \n",
    "\n",
    "Next, we employ a pooling layer using max pooling, again using the standard 2x2 pool size with a step size of 2. Pooling layers are effective at reducing the dimensionality of the dataset while retaining the most important information.\n",
    "\n",
    "This convolution and pooling is then repeated again, with 64 kernels, to capture more complex shapes and images.\n",
    "\n",
    "Finally, we flatten the dataset in order to use the dense layers of standard feed-forward neural networks for the classification. We will use two fully connected layers with 100 neurons each, and the ReLU activation. Each will have a dropout layer with a rate of 25% to create a more robust classifier. Finally, we add an output layer, with the softmax activation, as this is a multi-class classification task."
   ]
  },
  {
   "cell_type": "code",
   "execution_count": 16,
   "id": "8e2f6143",
   "metadata": {},
   "outputs": [
    {
     "name": "stderr",
     "output_type": "stream",
     "text": [
      "2023-01-03 14:17:10.243049: I tensorflow/core/platform/cpu_feature_guard.cc:193] This TensorFlow binary is optimized with oneAPI Deep Neural Network Library (oneDNN) to use the following CPU instructions in performance-critical operations:  AVX2 FMA\n",
      "To enable them in other operations, rebuild TensorFlow with the appropriate compiler flags.\n"
     ]
    }
   ],
   "source": [
    "model = keras.models.Sequential()\n",
    "\n",
    "model.add(Conv2D(32, kernel_size=(3,3), strides=1, padding=\"same\", activation=\"relu\", input_shape=(28,28,1)))\n",
    "model.add(MaxPooling2D(pool_size=(2,2)))\n",
    "model.add(Conv2D(64, kernel_size=(3,3), strides=1, padding=\"same\", activation=\"relu\"))\n",
    "model.add(MaxPooling2D(pool_size=(2,2)))\n",
    "model.add(Flatten())\n",
    "model.add(Dense(100, activation=\"relu\"))\n",
    "model.add(Dropout(0.25))\n",
    "model.add(Dense(100, activation=\"relu\"))\n",
    "model.add(Dropout(0.25))\n",
    "model.add(Dense(10, activation=\"softmax\"))"
   ]
  },
  {
   "cell_type": "markdown",
   "id": "d6bb7505",
   "metadata": {},
   "source": [
    "Our loss function for this model will be sparse categorical crossentropy, as the target variable contains only the sparse label vector position. We use stochastic gradient descent as our optimiser, which aids in speeding up the convergence to the local minima by taking faster, imprecise steps, rather than slow, precise steps of gradient descent. Finally, we use accuracy as our performance metric."
   ]
  },
  {
   "cell_type": "code",
   "execution_count": 17,
   "id": "459eea65",
   "metadata": {},
   "outputs": [],
   "source": [
    "model.compile(loss=\"sparse_categorical_crossentropy\", optimizer=\"sgd\", metrics=[\"accuracy\"])"
   ]
  },
  {
   "cell_type": "markdown",
   "id": "1f843930",
   "metadata": {},
   "source": [
    "We can display a summary of our model as follows"
   ]
  },
  {
   "cell_type": "code",
   "execution_count": 18,
   "id": "4e4e206d",
   "metadata": {},
   "outputs": [
    {
     "name": "stdout",
     "output_type": "stream",
     "text": [
      "Model: \"sequential\"\n",
      "_________________________________________________________________\n",
      " Layer (type)                Output Shape              Param #   \n",
      "=================================================================\n",
      " conv2d (Conv2D)             (None, 28, 28, 32)        320       \n",
      "                                                                 \n",
      " max_pooling2d (MaxPooling2D  (None, 14, 14, 32)       0         \n",
      " )                                                               \n",
      "                                                                 \n",
      " conv2d_1 (Conv2D)           (None, 14, 14, 64)        18496     \n",
      "                                                                 \n",
      " max_pooling2d_1 (MaxPooling  (None, 7, 7, 64)         0         \n",
      " 2D)                                                             \n",
      "                                                                 \n",
      " flatten (Flatten)           (None, 3136)              0         \n",
      "                                                                 \n",
      " dense (Dense)               (None, 100)               313700    \n",
      "                                                                 \n",
      " dropout (Dropout)           (None, 100)               0         \n",
      "                                                                 \n",
      " dense_1 (Dense)             (None, 100)               10100     \n",
      "                                                                 \n",
      " dropout_1 (Dropout)         (None, 100)               0         \n",
      "                                                                 \n",
      " dense_2 (Dense)             (None, 10)                1010      \n",
      "                                                                 \n",
      "=================================================================\n",
      "Total params: 343,626\n",
      "Trainable params: 343,626\n",
      "Non-trainable params: 0\n",
      "_________________________________________________________________\n"
     ]
    }
   ],
   "source": [
    "model.summary()"
   ]
  },
  {
   "cell_type": "markdown",
   "id": "95f36dea",
   "metadata": {},
   "source": [
    "Next, we fit the model and assess it's performance on the validation set. We will perform 10 sweeps over the entire dataset for training."
   ]
  },
  {
   "cell_type": "code",
   "execution_count": 19,
   "id": "42257441",
   "metadata": {},
   "outputs": [
    {
     "name": "stdout",
     "output_type": "stream",
     "text": [
      "Epoch 1/10\n",
      "1563/1563 [==============================] - 46s 29ms/step - loss: 1.0849 - accuracy: 0.5939 - val_loss: 0.6462 - val_accuracy: 0.7595\n",
      "Epoch 2/10\n",
      "1563/1563 [==============================] - 48s 31ms/step - loss: 0.6622 - accuracy: 0.7531 - val_loss: 0.5186 - val_accuracy: 0.8061\n",
      "Epoch 3/10\n",
      "1563/1563 [==============================] - 46s 29ms/step - loss: 0.5641 - accuracy: 0.7930 - val_loss: 0.4506 - val_accuracy: 0.8353\n",
      "Epoch 4/10\n",
      "1563/1563 [==============================] - 46s 29ms/step - loss: 0.5027 - accuracy: 0.8164 - val_loss: 0.4261 - val_accuracy: 0.8420\n",
      "Epoch 5/10\n",
      "1563/1563 [==============================] - 46s 30ms/step - loss: 0.4644 - accuracy: 0.8325 - val_loss: 0.3799 - val_accuracy: 0.8625\n",
      "Epoch 6/10\n",
      "1563/1563 [==============================] - 47s 30ms/step - loss: 0.4359 - accuracy: 0.8434 - val_loss: 0.4020 - val_accuracy: 0.8483\n",
      "Epoch 7/10\n",
      "1563/1563 [==============================] - 47s 30ms/step - loss: 0.4117 - accuracy: 0.8506 - val_loss: 0.3511 - val_accuracy: 0.8737\n",
      "Epoch 8/10\n",
      "1563/1563 [==============================] - 46s 30ms/step - loss: 0.3952 - accuracy: 0.8561 - val_loss: 0.3363 - val_accuracy: 0.8769\n",
      "Epoch 9/10\n",
      "1563/1563 [==============================] - 46s 29ms/step - loss: 0.3765 - accuracy: 0.8652 - val_loss: 0.3173 - val_accuracy: 0.8831\n",
      "Epoch 10/10\n",
      "1563/1563 [==============================] - 47s 30ms/step - loss: 0.3640 - accuracy: 0.8684 - val_loss: 0.3131 - val_accuracy: 0.8891\n"
     ]
    }
   ],
   "source": [
    "model_fit = model.fit(X_train, y_train, epochs=10, validation_data = (X_valid, y_valid))"
   ]
  },
  {
   "cell_type": "markdown",
   "id": "baf6358f",
   "metadata": {},
   "source": [
    "And plot the performance of this model fit."
   ]
  },
  {
   "cell_type": "code",
   "execution_count": 20,
   "id": "c4cfdd4b",
   "metadata": {},
   "outputs": [
    {
     "data": {
      "text/plain": [
       "<AxesSubplot:>"
      ]
     },
     "execution_count": 20,
     "metadata": {},
     "output_type": "execute_result"
    },
    {
     "data": {
      "image/png": "[encoded data removed]",
      "text/plain": [
       "<Figure size 432x288 with 1 Axes>"
      ]
     },
     "metadata": {
      "needs_background": "light"
     },
     "output_type": "display_data"
    }
   ],
   "source": [
    "pd.DataFrame(model_fit.history).plot()"
   ]
  },
  {
   "cell_type": "markdown",
   "id": "378d8361",
   "metadata": {},
   "source": [
    "From the plot above, we can see that the training and validation accuracy has consistently increased and the training and validation loss have consistently decreased, which indicates that our model is learning correctly. Furthermore, the closeness of the training and validation curves indicate that our model is not overfitting, but generalising well to unseen data. Finally, we assess the performance of our model on the test dataset."
   ]
  },
  {
   "cell_type": "code",
   "execution_count": 21,
   "id": "c59797ca",
   "metadata": {},
   "outputs": [
    {
     "name": "stdout",
     "output_type": "stream",
     "text": [
      "313/313 [==============================] - 3s 8ms/step - loss: 0.3326 - accuracy: 0.8782\n"
     ]
    },
    {
     "data": {
      "text/plain": [
       "[0.3326474130153656, 0.8781999945640564]"
      ]
     },
     "execution_count": 21,
     "metadata": {},
     "output_type": "execute_result"
    }
   ],
   "source": [
    "model.evaluate(X_test, y_test)"
   ]
  },
  {
   "cell_type": "markdown",
   "id": "b83016f7",
   "metadata": {},
   "source": [
    "## Fine-Tuning the Model"
   ]
  },
  {
   "cell_type": "markdown",
   "id": "e14ab159",
   "metadata": {},
   "source": [
    "Having built our base model, we are now going to fine-tune our hyperparameters. For this we will define a function to build the model, and then use a scikit-learn wrapper so that we can use GridSearchCV for our grid search."
   ]
  },
  {
   "cell_type": "code",
   "execution_count": 22,
   "id": "81110e23",
   "metadata": {},
   "outputs": [],
   "source": [
    "def build_model(n_neurons, opt_type):\n",
    "    \n",
    "    print('n_neurons: {0}, opt_type: {1}'.format(n_neurons, opt_type))\n",
    "    \n",
    "    model = keras.models.Sequential()\n",
    "    model.add(Conv2D(32, kernel_size=(3,3), strides=1, padding=\"same\", activation=\"relu\", input_shape=(28,28,1)))\n",
    "    model.add(MaxPooling2D(pool_size=(2,2)))\n",
    "    model.add(Conv2D(64, kernel_size=(3,3), strides=1, padding=\"same\", activation=\"relu\"))\n",
    "    model.add(MaxPooling2D(pool_size=(2,2)))\n",
    "    model.add(Flatten())\n",
    "    model.add(Dense(n_neurons, activation=\"relu\"))\n",
    "    model.add(Dropout(0.25))\n",
    "    model.add(Dense(n_neurons, activation=\"relu\"))\n",
    "    model.add(Dropout(0.25))\n",
    "    model.add(Dense(10, activation=\"softmax\"))\n",
    "    \n",
    "    model.compile(loss=\"sparse_categorical_crossentropy\", optimizer=opt_type, metrics=[\"accuracy\"])\n",
    "    \n",
    "    return model"
   ]
  },
  {
   "cell_type": "code",
   "execution_count": 23,
   "id": "4aa605c6",
   "metadata": {},
   "outputs": [
    {
     "name": "stderr",
     "output_type": "stream",
     "text": [
      "/var/folders/f_/3vhcqh5j54n5rh_ffnt1jks80000gn/T/ipykernel_16710/1566543695.py:1: DeprecationWarning: KerasClassifier is deprecated, use Sci-Keras (https://github.com/adriangb/scikeras) instead. See https://www.adriangb.com/scikeras/stable/migration.html for help migrating.\n",
      "  keras_classifier = keras.wrappers.scikit_learn.KerasClassifier(build_model)\n"
     ]
    }
   ],
   "source": [
    "keras_classifier = keras.wrappers.scikit_learn.KerasClassifier(build_model)"
   ]
  },
  {
   "cell_type": "markdown",
   "id": "93925c0a",
   "metadata": {},
   "source": [
    "While there are numerous hyperparameters we could optimise, for the sake of computational time and complexity, we are only going to optimise two, the number of neurons in the dense layer, and the optimiser used for the model. Adaptive Momentum Estimation (Adam) is another popular optimiser and is generally considered one of the best performing optimisers for deep learning. We will compare it's performance to SGD."
   ]
  },
  {
   "cell_type": "code",
   "execution_count": 24,
   "id": "83989e92",
   "metadata": {},
   "outputs": [],
   "source": [
    "parameters = {\n",
    "    \"n_neurons\": [100, 200],\n",
    "    \"opt_type\": [\"sgd\", \"adam\"]\n",
    "}"
   ]
  },
  {
   "cell_type": "markdown",
   "id": "e600ec66",
   "metadata": {},
   "source": [
    "For 4 potential hyperparameters, using 5-fold cross validaiton, 10 epochs and roughly 45 seconds training per epoch, the grid search should take about 2.5 hours."
   ]
  },
  {
   "cell_type": "code",
   "execution_count": 25,
   "id": "01d487f3",
   "metadata": {},
   "outputs": [
    {
     "name": "stdout",
     "output_type": "stream",
     "text": [
      "n_neurons: 100, opt_type: sgd\n",
      "Epoch 1/10\n",
      "1250/1250 [==============================] - 38s 30ms/step - loss: 1.0956 - accuracy: 0.5967 - val_loss: 0.6356 - val_accuracy: 0.7606\n",
      "Epoch 2/10\n",
      "1250/1250 [==============================] - 37s 30ms/step - loss: 0.6762 - accuracy: 0.7455 - val_loss: 0.5606 - val_accuracy: 0.7760\n",
      "Epoch 3/10\n",
      "1250/1250 [==============================] - 37s 29ms/step - loss: 0.5842 - accuracy: 0.7828 - val_loss: 0.4687 - val_accuracy: 0.8243\n",
      "Epoch 4/10\n",
      "1250/1250 [==============================] - 37s 30ms/step - loss: 0.5297 - accuracy: 0.8051 - val_loss: 0.4337 - val_accuracy: 0.8418\n",
      "Epoch 5/10\n",
      "1250/1250 [==============================] - 37s 30ms/step - loss: 0.4910 - accuracy: 0.8228 - val_loss: 0.4181 - val_accuracy: 0.8420\n",
      "Epoch 6/10\n",
      "1250/1250 [==============================] - 37s 30ms/step - loss: 0.4603 - accuracy: 0.8330 - val_loss: 0.3856 - val_accuracy: 0.8562\n",
      "Epoch 7/10\n",
      "1250/1250 [==============================] - 38s 30ms/step - loss: 0.4370 - accuracy: 0.8422 - val_loss: 0.3679 - val_accuracy: 0.8661\n",
      "Epoch 8/10\n",
      "1250/1250 [==============================] - 38s 30ms/step - loss: 0.4171 - accuracy: 0.8508 - val_loss: 0.3545 - val_accuracy: 0.8719\n",
      "Epoch 9/10\n",
      "1250/1250 [==============================] - 38s 30ms/step - loss: 0.4010 - accuracy: 0.8550 - val_loss: 0.3387 - val_accuracy: 0.8759\n",
      "Epoch 10/10\n",
      "1250/1250 [==============================] - 38s 30ms/step - loss: 0.3871 - accuracy: 0.8601 - val_loss: 0.3302 - val_accuracy: 0.8827\n",
      "313/313 [==============================] - 3s 9ms/step - loss: 0.3379 - accuracy: 0.8763\n",
      "n_neurons: 100, opt_type: sgd\n",
      "Epoch 1/10\n",
      "1250/1250 [==============================] - 39s 31ms/step - loss: 1.1076 - accuracy: 0.5829 - val_loss: 0.6746 - val_accuracy: 0.7434\n",
      "Epoch 2/10\n",
      "1250/1250 [==============================] - 38s 31ms/step - loss: 0.6969 - accuracy: 0.7378 - val_loss: 0.5807 - val_accuracy: 0.7726\n",
      "Epoch 3/10\n",
      "1250/1250 [==============================] - 39s 31ms/step - loss: 0.6034 - accuracy: 0.7768 - val_loss: 0.4893 - val_accuracy: 0.8157\n",
      "Epoch 4/10\n",
      "1250/1250 [==============================] - 40s 32ms/step - loss: 0.5439 - accuracy: 0.8000 - val_loss: 0.4475 - val_accuracy: 0.8342\n",
      "Epoch 5/10\n",
      "1250/1250 [==============================] - 39s 31ms/step - loss: 0.5068 - accuracy: 0.8139 - val_loss: 0.4272 - val_accuracy: 0.8393\n",
      "Epoch 6/10\n",
      "1250/1250 [==============================] - 38s 30ms/step - loss: 0.4767 - accuracy: 0.8272 - val_loss: 0.3959 - val_accuracy: 0.8582\n",
      "Epoch 7/10\n",
      "1250/1250 [==============================] - 38s 31ms/step - loss: 0.4563 - accuracy: 0.8348 - val_loss: 0.3973 - val_accuracy: 0.8514\n",
      "Epoch 8/10\n",
      "1250/1250 [==============================] - 39s 32ms/step - loss: 0.4349 - accuracy: 0.8432 - val_loss: 0.3726 - val_accuracy: 0.8630\n",
      "Epoch 9/10\n",
      "1250/1250 [==============================] - 38s 30ms/step - loss: 0.4166 - accuracy: 0.8474 - val_loss: 0.3689 - val_accuracy: 0.8656\n",
      "Epoch 10/10\n",
      "1250/1250 [==============================] - 37s 30ms/step - loss: 0.4008 - accuracy: 0.8547 - val_loss: 0.3463 - val_accuracy: 0.8768\n",
      "313/313 [==============================] - 3s 8ms/step - loss: 0.3504 - accuracy: 0.8743\n",
      "n_neurons: 100, opt_type: sgd\n",
      "Epoch 1/10\n",
      "1250/1250 [==============================] - 40s 32ms/step - loss: 1.1470 - accuracy: 0.5831 - val_loss: 0.6390 - val_accuracy: 0.7579\n",
      "Epoch 2/10\n",
      "1250/1250 [==============================] - 39s 31ms/step - loss: 0.6828 - accuracy: 0.7447 - val_loss: 0.5443 - val_accuracy: 0.7950\n",
      "Epoch 3/10\n",
      "1250/1250 [==============================] - 38s 31ms/step - loss: 0.5853 - accuracy: 0.7819 - val_loss: 0.4821 - val_accuracy: 0.8232\n",
      "Epoch 4/10\n",
      "1250/1250 [==============================] - 38s 30ms/step - loss: 0.5304 - accuracy: 0.8044 - val_loss: 0.4378 - val_accuracy: 0.8387\n",
      "Epoch 5/10\n",
      "1250/1250 [==============================] - 38s 30ms/step - loss: 0.4899 - accuracy: 0.8211 - val_loss: 0.4276 - val_accuracy: 0.8398\n",
      "Epoch 6/10\n",
      "1250/1250 [==============================] - 39s 31ms/step - loss: 0.4632 - accuracy: 0.8324 - val_loss: 0.3958 - val_accuracy: 0.8532\n",
      "Epoch 7/10\n",
      "1250/1250 [==============================] - 39s 31ms/step - loss: 0.4380 - accuracy: 0.8405 - val_loss: 0.3771 - val_accuracy: 0.8599\n",
      "Epoch 8/10\n",
      "1250/1250 [==============================] - 39s 31ms/step - loss: 0.4166 - accuracy: 0.8488 - val_loss: 0.3593 - val_accuracy: 0.8680\n",
      "Epoch 9/10\n",
      "1250/1250 [==============================] - 39s 31ms/step - loss: 0.4014 - accuracy: 0.8543 - val_loss: 0.3486 - val_accuracy: 0.8746\n",
      "Epoch 10/10\n",
      "1250/1250 [==============================] - 40s 32ms/step - loss: 0.3896 - accuracy: 0.8583 - val_loss: 0.3360 - val_accuracy: 0.8781\n",
      "313/313 [==============================] - 3s 9ms/step - loss: 0.3373 - accuracy: 0.8798\n",
      "n_neurons: 100, opt_type: sgd\n",
      "Epoch 1/10\n",
      "1250/1250 [==============================] - 41s 32ms/step - loss: 1.1531 - accuracy: 0.5739 - val_loss: 0.6569 - val_accuracy: 0.7476\n",
      "Epoch 2/10\n",
      "1250/1250 [==============================] - 39s 31ms/step - loss: 0.6933 - accuracy: 0.7399 - val_loss: 0.5397 - val_accuracy: 0.7959\n",
      "Epoch 3/10\n",
      "1250/1250 [==============================] - 39s 31ms/step - loss: 0.5956 - accuracy: 0.7801 - val_loss: 0.4940 - val_accuracy: 0.8197\n",
      "Epoch 4/10\n",
      "1250/1250 [==============================] - 39s 31ms/step - loss: 0.5338 - accuracy: 0.8036 - val_loss: 0.4742 - val_accuracy: 0.8166\n",
      "Epoch 5/10\n",
      "1250/1250 [==============================] - 39s 31ms/step - loss: 0.4934 - accuracy: 0.8216 - val_loss: 0.4024 - val_accuracy: 0.8521\n",
      "Epoch 6/10\n",
      "1250/1250 [==============================] - 38s 31ms/step - loss: 0.4644 - accuracy: 0.8327 - val_loss: 0.3924 - val_accuracy: 0.8615\n",
      "Epoch 7/10\n",
      "1250/1250 [==============================] - 39s 31ms/step - loss: 0.4415 - accuracy: 0.8418 - val_loss: 0.3812 - val_accuracy: 0.8621\n",
      "Epoch 8/10\n",
      "1250/1250 [==============================] - 39s 31ms/step - loss: 0.4211 - accuracy: 0.8475 - val_loss: 0.3607 - val_accuracy: 0.8687\n",
      "Epoch 9/10\n",
      "1250/1250 [==============================] - 39s 31ms/step - loss: 0.4063 - accuracy: 0.8541 - val_loss: 0.3724 - val_accuracy: 0.8622\n",
      "Epoch 10/10\n",
      "1250/1250 [==============================] - 39s 31ms/step - loss: 0.3926 - accuracy: 0.8584 - val_loss: 0.3402 - val_accuracy: 0.8743\n",
      "313/313 [==============================] - 3s 9ms/step - loss: 0.3427 - accuracy: 0.8723\n",
      "n_neurons: 100, opt_type: sgd\n",
      "Epoch 1/10\n",
      "1250/1250 [==============================] - 39s 31ms/step - loss: 1.1666 - accuracy: 0.5648 - val_loss: 0.6736 - val_accuracy: 0.7452\n",
      "Epoch 2/10\n",
      "1250/1250 [==============================] - 39s 31ms/step - loss: 0.7044 - accuracy: 0.7363 - val_loss: 0.5524 - val_accuracy: 0.7960\n",
      "Epoch 3/10\n",
      "1250/1250 [==============================] - 39s 31ms/step - loss: 0.6021 - accuracy: 0.7764 - val_loss: 0.4930 - val_accuracy: 0.8237\n",
      "Epoch 4/10\n",
      "1250/1250 [==============================] - 40s 32ms/step - loss: 0.5454 - accuracy: 0.8006 - val_loss: 0.4470 - val_accuracy: 0.8395\n",
      "Epoch 5/10\n",
      "1250/1250 [==============================] - 38s 30ms/step - loss: 0.5031 - accuracy: 0.8180 - val_loss: 0.4421 - val_accuracy: 0.8364\n",
      "Epoch 6/10\n",
      "1250/1250 [==============================] - 38s 30ms/step - loss: 0.4737 - accuracy: 0.8291 - val_loss: 0.3974 - val_accuracy: 0.8606\n",
      "Epoch 7/10\n",
      "1250/1250 [==============================] - 38s 30ms/step - loss: 0.4437 - accuracy: 0.8396 - val_loss: 0.4067 - val_accuracy: 0.8482\n",
      "Epoch 8/10\n",
      "1250/1250 [==============================] - 38s 30ms/step - loss: 0.4266 - accuracy: 0.8469 - val_loss: 0.3690 - val_accuracy: 0.8666\n",
      "Epoch 9/10\n",
      "1250/1250 [==============================] - 38s 30ms/step - loss: 0.4076 - accuracy: 0.8520 - val_loss: 0.3539 - val_accuracy: 0.8726\n",
      "Epoch 10/10\n",
      "1250/1250 [==============================] - 38s 30ms/step - loss: 0.3971 - accuracy: 0.8575 - val_loss: 0.3464 - val_accuracy: 0.8771\n",
      "313/313 [==============================] - 3s 8ms/step - loss: 0.3635 - accuracy: 0.8677\n",
      "n_neurons: 100, opt_type: adam\n",
      "Epoch 1/10\n",
      "1250/1250 [==============================] - 40s 31ms/step - loss: 0.5837 - accuracy: 0.7873 - val_loss: 0.3446 - val_accuracy: 0.8751\n",
      "Epoch 2/10\n",
      "1250/1250 [==============================] - 39s 31ms/step - loss: 0.3596 - accuracy: 0.8710 - val_loss: 0.2814 - val_accuracy: 0.8966\n"
     ]
    },
    {
     "name": "stdout",
     "output_type": "stream",
     "text": [
      "Epoch 3/10\n",
      "1250/1250 [==============================] - 37s 30ms/step - loss: 0.3045 - accuracy: 0.8906 - val_loss: 0.2657 - val_accuracy: 0.8990\n",
      "Epoch 4/10\n",
      "1250/1250 [==============================] - 37s 30ms/step - loss: 0.2686 - accuracy: 0.9032 - val_loss: 0.2444 - val_accuracy: 0.9087\n",
      "Epoch 5/10\n",
      "1250/1250 [==============================] - 38s 30ms/step - loss: 0.2410 - accuracy: 0.9109 - val_loss: 0.2465 - val_accuracy: 0.9130\n",
      "Epoch 6/10\n",
      "1250/1250 [==============================] - 37s 29ms/step - loss: 0.2193 - accuracy: 0.9209 - val_loss: 0.2359 - val_accuracy: 0.9146\n",
      "Epoch 7/10\n",
      "1250/1250 [==============================] - 37s 29ms/step - loss: 0.2010 - accuracy: 0.9267 - val_loss: 0.2574 - val_accuracy: 0.9035\n",
      "Epoch 8/10\n",
      "1250/1250 [==============================] - 36s 29ms/step - loss: 0.1854 - accuracy: 0.9320 - val_loss: 0.2375 - val_accuracy: 0.9173\n",
      "Epoch 9/10\n",
      "1250/1250 [==============================] - 37s 29ms/step - loss: 0.1683 - accuracy: 0.9392 - val_loss: 0.2363 - val_accuracy: 0.9181\n",
      "Epoch 10/10\n",
      "1250/1250 [==============================] - 37s 30ms/step - loss: 0.1592 - accuracy: 0.9408 - val_loss: 0.2426 - val_accuracy: 0.9159\n",
      "313/313 [==============================] - 3s 8ms/step - loss: 0.2514 - accuracy: 0.9143\n",
      "n_neurons: 100, opt_type: adam\n",
      "Epoch 1/10\n",
      "1250/1250 [==============================] - 38s 30ms/step - loss: 0.5798 - accuracy: 0.7861 - val_loss: 0.3373 - val_accuracy: 0.8746\n",
      "Epoch 2/10\n",
      "1250/1250 [==============================] - 38s 30ms/step - loss: 0.3591 - accuracy: 0.8716 - val_loss: 0.2857 - val_accuracy: 0.8924\n",
      "Epoch 3/10\n",
      "1250/1250 [==============================] - 38s 31ms/step - loss: 0.3011 - accuracy: 0.8912 - val_loss: 0.2790 - val_accuracy: 0.8962\n",
      "Epoch 4/10\n",
      "1250/1250 [==============================] - 39s 31ms/step - loss: 0.2643 - accuracy: 0.9053 - val_loss: 0.2460 - val_accuracy: 0.9093\n",
      "Epoch 5/10\n",
      "1250/1250 [==============================] - 37s 30ms/step - loss: 0.2367 - accuracy: 0.9122 - val_loss: 0.2424 - val_accuracy: 0.9104\n",
      "Epoch 6/10\n",
      "1250/1250 [==============================] - 37s 30ms/step - loss: 0.2103 - accuracy: 0.9231 - val_loss: 0.2362 - val_accuracy: 0.9135\n",
      "Epoch 7/10\n",
      "1250/1250 [==============================] - 37s 30ms/step - loss: 0.1951 - accuracy: 0.9285 - val_loss: 0.2293 - val_accuracy: 0.9159\n",
      "Epoch 8/10\n",
      "1250/1250 [==============================] - 38s 30ms/step - loss: 0.1758 - accuracy: 0.9345 - val_loss: 0.2372 - val_accuracy: 0.9186\n",
      "Epoch 9/10\n",
      "1250/1250 [==============================] - 37s 30ms/step - loss: 0.1616 - accuracy: 0.9402 - val_loss: 0.2641 - val_accuracy: 0.9136\n",
      "Epoch 10/10\n",
      "1250/1250 [==============================] - 38s 30ms/step - loss: 0.1450 - accuracy: 0.9455 - val_loss: 0.2559 - val_accuracy: 0.9165\n",
      "313/313 [==============================] - 3s 8ms/step - loss: 0.2514 - accuracy: 0.9171\n",
      "n_neurons: 100, opt_type: adam\n",
      "Epoch 1/10\n",
      "1250/1250 [==============================] - 39s 31ms/step - loss: 0.6034 - accuracy: 0.7760 - val_loss: 0.3510 - val_accuracy: 0.8744\n",
      "Epoch 2/10\n",
      "1250/1250 [==============================] - 39s 31ms/step - loss: 0.3767 - accuracy: 0.8648 - val_loss: 0.2930 - val_accuracy: 0.8904\n",
      "Epoch 3/10\n",
      "1250/1250 [==============================] - 38s 30ms/step - loss: 0.3204 - accuracy: 0.8838 - val_loss: 0.2771 - val_accuracy: 0.9007\n",
      "Epoch 4/10\n",
      "1250/1250 [==============================] - 37s 30ms/step - loss: 0.2825 - accuracy: 0.8977 - val_loss: 0.2680 - val_accuracy: 0.9028\n",
      "Epoch 5/10\n",
      "1250/1250 [==============================] - 38s 31ms/step - loss: 0.2587 - accuracy: 0.9059 - val_loss: 0.2433 - val_accuracy: 0.9129\n",
      "Epoch 6/10\n",
      "1250/1250 [==============================] - 38s 30ms/step - loss: 0.2336 - accuracy: 0.9150 - val_loss: 0.2385 - val_accuracy: 0.9146\n",
      "Epoch 7/10\n",
      "1250/1250 [==============================] - 38s 30ms/step - loss: 0.2168 - accuracy: 0.9207 - val_loss: 0.2431 - val_accuracy: 0.9149\n",
      "Epoch 8/10\n",
      "1250/1250 [==============================] - 38s 30ms/step - loss: 0.2017 - accuracy: 0.9246 - val_loss: 0.2328 - val_accuracy: 0.9200\n",
      "Epoch 9/10\n",
      "1250/1250 [==============================] - 38s 30ms/step - loss: 0.1853 - accuracy: 0.9319 - val_loss: 0.2461 - val_accuracy: 0.9140\n",
      "Epoch 10/10\n",
      "1250/1250 [==============================] - 38s 30ms/step - loss: 0.1737 - accuracy: 0.9360 - val_loss: 0.2260 - val_accuracy: 0.9218\n",
      "313/313 [==============================] - 3s 8ms/step - loss: 0.2324 - accuracy: 0.9188\n",
      "n_neurons: 100, opt_type: adam\n",
      "Epoch 1/10\n",
      "1250/1250 [==============================] - 38s 30ms/step - loss: 0.5794 - accuracy: 0.7894 - val_loss: 0.3320 - val_accuracy: 0.8813\n",
      "Epoch 2/10\n",
      "1250/1250 [==============================] - 38s 30ms/step - loss: 0.3554 - accuracy: 0.8726 - val_loss: 0.2868 - val_accuracy: 0.8947\n",
      "Epoch 3/10\n",
      "1250/1250 [==============================] - 38s 30ms/step - loss: 0.2984 - accuracy: 0.8929 - val_loss: 0.2572 - val_accuracy: 0.9062\n",
      "Epoch 4/10\n",
      "1250/1250 [==============================] - 38s 30ms/step - loss: 0.2626 - accuracy: 0.9039 - val_loss: 0.2582 - val_accuracy: 0.9077\n",
      "Epoch 5/10\n",
      "1250/1250 [==============================] - 38s 30ms/step - loss: 0.2394 - accuracy: 0.9126 - val_loss: 0.2356 - val_accuracy: 0.9145\n",
      "Epoch 6/10\n",
      "1250/1250 [==============================] - 38s 31ms/step - loss: 0.2166 - accuracy: 0.9201 - val_loss: 0.2384 - val_accuracy: 0.9130\n",
      "Epoch 7/10\n",
      "1250/1250 [==============================] - 38s 31ms/step - loss: 0.2005 - accuracy: 0.9248 - val_loss: 0.2351 - val_accuracy: 0.9170\n",
      "Epoch 8/10\n",
      "1250/1250 [==============================] - 39s 31ms/step - loss: 0.1853 - accuracy: 0.9317 - val_loss: 0.2523 - val_accuracy: 0.9162\n",
      "Epoch 9/10\n",
      "1250/1250 [==============================] - 39s 31ms/step - loss: 0.1712 - accuracy: 0.9370 - val_loss: 0.2501 - val_accuracy: 0.9159\n",
      "Epoch 10/10\n",
      "1250/1250 [==============================] - 38s 30ms/step - loss: 0.1573 - accuracy: 0.9405 - val_loss: 0.2492 - val_accuracy: 0.9183\n",
      "313/313 [==============================] - 3s 8ms/step - loss: 0.2654 - accuracy: 0.9148\n",
      "n_neurons: 100, opt_type: adam\n",
      "Epoch 1/10\n",
      "1250/1250 [==============================] - 38s 30ms/step - loss: 0.5780 - accuracy: 0.7922 - val_loss: 0.3424 - val_accuracy: 0.8754\n",
      "Epoch 2/10\n",
      "1250/1250 [==============================] - 38s 31ms/step - loss: 0.3581 - accuracy: 0.8718 - val_loss: 0.2890 - val_accuracy: 0.8933\n",
      "Epoch 3/10\n",
      "1250/1250 [==============================] - 38s 30ms/step - loss: 0.3003 - accuracy: 0.8915 - val_loss: 0.2637 - val_accuracy: 0.9050\n",
      "Epoch 4/10\n",
      "1250/1250 [==============================] - 38s 30ms/step - loss: 0.2719 - accuracy: 0.9018 - val_loss: 0.2428 - val_accuracy: 0.9088\n",
      "Epoch 5/10\n",
      "1250/1250 [==============================] - 37s 30ms/step - loss: 0.2486 - accuracy: 0.9090 - val_loss: 0.2302 - val_accuracy: 0.9155\n",
      "Epoch 6/10\n",
      "1250/1250 [==============================] - 37s 30ms/step - loss: 0.2236 - accuracy: 0.9189 - val_loss: 0.2251 - val_accuracy: 0.9173\n",
      "Epoch 7/10\n",
      "1250/1250 [==============================] - 38s 30ms/step - loss: 0.2038 - accuracy: 0.9254 - val_loss: 0.2312 - val_accuracy: 0.9182\n",
      "Epoch 8/10\n",
      "1250/1250 [==============================] - 38s 30ms/step - loss: 0.1901 - accuracy: 0.9288 - val_loss: 0.2274 - val_accuracy: 0.9179\n",
      "Epoch 9/10\n",
      "1250/1250 [==============================] - 39s 31ms/step - loss: 0.1738 - accuracy: 0.9352 - val_loss: 0.2386 - val_accuracy: 0.9180\n",
      "Epoch 10/10\n",
      "1250/1250 [==============================] - 37s 30ms/step - loss: 0.1610 - accuracy: 0.9405 - val_loss: 0.2536 - val_accuracy: 0.9149\n",
      "313/313 [==============================] - 3s 8ms/step - loss: 0.2630 - accuracy: 0.9080\n",
      "n_neurons: 200, opt_type: sgd\n",
      "Epoch 1/10\n",
      "1250/1250 [==============================] - 41s 32ms/step - loss: 1.0839 - accuracy: 0.5959 - val_loss: 0.6376 - val_accuracy: 0.7587\n",
      "Epoch 2/10\n",
      "1250/1250 [==============================] - 40s 32ms/step - loss: 0.6546 - accuracy: 0.7562 - val_loss: 0.5572 - val_accuracy: 0.7809\n",
      "Epoch 3/10\n",
      "1250/1250 [==============================] - 40s 32ms/step - loss: 0.5567 - accuracy: 0.7934 - val_loss: 0.4579 - val_accuracy: 0.8291\n",
      "Epoch 4/10\n",
      "1250/1250 [==============================] - 40s 32ms/step - loss: 0.4990 - accuracy: 0.8162 - val_loss: 0.4310 - val_accuracy: 0.8396\n"
     ]
    },
    {
     "name": "stdout",
     "output_type": "stream",
     "text": [
      "Epoch 5/10\n",
      "1250/1250 [==============================] - 39s 31ms/step - loss: 0.4599 - accuracy: 0.8324 - val_loss: 0.4010 - val_accuracy: 0.8523\n",
      "Epoch 6/10\n",
      "1250/1250 [==============================] - 39s 31ms/step - loss: 0.4300 - accuracy: 0.8426 - val_loss: 0.3786 - val_accuracy: 0.8613\n",
      "Epoch 7/10\n",
      "1250/1250 [==============================] - 39s 31ms/step - loss: 0.4084 - accuracy: 0.8523 - val_loss: 0.3560 - val_accuracy: 0.8685\n",
      "Epoch 8/10\n",
      "1250/1250 [==============================] - 39s 31ms/step - loss: 0.3897 - accuracy: 0.8591 - val_loss: 0.3435 - val_accuracy: 0.8743\n",
      "Epoch 9/10\n",
      "1250/1250 [==============================] - 39s 31ms/step - loss: 0.3711 - accuracy: 0.8653 - val_loss: 0.3288 - val_accuracy: 0.8807\n",
      "Epoch 10/10\n",
      "1250/1250 [==============================] - 39s 31ms/step - loss: 0.3628 - accuracy: 0.8688 - val_loss: 0.3202 - val_accuracy: 0.8868\n",
      "313/313 [==============================] - 3s 8ms/step - loss: 0.3247 - accuracy: 0.8817\n",
      "n_neurons: 200, opt_type: sgd\n",
      "Epoch 1/10\n",
      "1250/1250 [==============================] - 40s 31ms/step - loss: 1.0956 - accuracy: 0.6057 - val_loss: 0.6220 - val_accuracy: 0.7724\n",
      "Epoch 2/10\n",
      "1250/1250 [==============================] - 39s 31ms/step - loss: 0.6458 - accuracy: 0.7580 - val_loss: 0.5726 - val_accuracy: 0.7765\n",
      "Epoch 3/10\n",
      "1250/1250 [==============================] - 39s 31ms/step - loss: 0.5544 - accuracy: 0.7937 - val_loss: 0.4636 - val_accuracy: 0.8275\n",
      "Epoch 4/10\n",
      "1250/1250 [==============================] - 39s 31ms/step - loss: 0.4998 - accuracy: 0.8141 - val_loss: 0.4239 - val_accuracy: 0.8447\n",
      "Epoch 5/10\n",
      "1250/1250 [==============================] - 39s 31ms/step - loss: 0.4601 - accuracy: 0.8321 - val_loss: 0.4062 - val_accuracy: 0.8516\n",
      "Epoch 6/10\n",
      "1250/1250 [==============================] - 40s 32ms/step - loss: 0.4320 - accuracy: 0.8434 - val_loss: 0.3699 - val_accuracy: 0.8669\n",
      "Epoch 7/10\n",
      "1250/1250 [==============================] - 39s 32ms/step - loss: 0.4120 - accuracy: 0.8500 - val_loss: 0.3628 - val_accuracy: 0.8689\n",
      "Epoch 8/10\n",
      "1250/1250 [==============================] - 41s 33ms/step - loss: 0.3945 - accuracy: 0.8574 - val_loss: 0.3418 - val_accuracy: 0.8717\n",
      "Epoch 9/10\n",
      "1250/1250 [==============================] - 40s 32ms/step - loss: 0.3810 - accuracy: 0.8625 - val_loss: 0.3334 - val_accuracy: 0.8780\n",
      "Epoch 10/10\n",
      "1250/1250 [==============================] - 40s 32ms/step - loss: 0.3661 - accuracy: 0.8669 - val_loss: 0.3248 - val_accuracy: 0.8827\n",
      "313/313 [==============================] - 3s 8ms/step - loss: 0.3280 - accuracy: 0.8813\n",
      "n_neurons: 200, opt_type: sgd\n",
      "Epoch 1/10\n",
      "1250/1250 [==============================] - 40s 32ms/step - loss: 1.0892 - accuracy: 0.5950 - val_loss: 0.6694 - val_accuracy: 0.7509\n",
      "Epoch 2/10\n",
      "1250/1250 [==============================] - 40s 32ms/step - loss: 0.6586 - accuracy: 0.7508 - val_loss: 0.5316 - val_accuracy: 0.7953\n",
      "Epoch 3/10\n",
      "1250/1250 [==============================] - 40s 32ms/step - loss: 0.5649 - accuracy: 0.7885 - val_loss: 0.4674 - val_accuracy: 0.8351\n",
      "Epoch 4/10\n",
      "1250/1250 [==============================] - 40s 32ms/step - loss: 0.5100 - accuracy: 0.8110 - val_loss: 0.4334 - val_accuracy: 0.8411\n",
      "Epoch 5/10\n",
      "1250/1250 [==============================] - 40s 32ms/step - loss: 0.4700 - accuracy: 0.8278 - val_loss: 0.4110 - val_accuracy: 0.8452\n",
      "Epoch 6/10\n",
      "1250/1250 [==============================] - 41s 33ms/step - loss: 0.4405 - accuracy: 0.8400 - val_loss: 0.3767 - val_accuracy: 0.8640\n",
      "Epoch 7/10\n",
      "1250/1250 [==============================] - 42s 33ms/step - loss: 0.4156 - accuracy: 0.8494 - val_loss: 0.3665 - val_accuracy: 0.8671\n",
      "Epoch 8/10\n",
      "1250/1250 [==============================] - 41s 33ms/step - loss: 0.3959 - accuracy: 0.8543 - val_loss: 0.3457 - val_accuracy: 0.8760\n",
      "Epoch 9/10\n",
      "1250/1250 [==============================] - 41s 33ms/step - loss: 0.3800 - accuracy: 0.8621 - val_loss: 0.3411 - val_accuracy: 0.8752\n",
      "Epoch 10/10\n",
      "1250/1250 [==============================] - 41s 33ms/step - loss: 0.3669 - accuracy: 0.8658 - val_loss: 0.3250 - val_accuracy: 0.8811\n",
      "313/313 [==============================] - 3s 9ms/step - loss: 0.3279 - accuracy: 0.8815\n",
      "n_neurons: 200, opt_type: sgd\n",
      "Epoch 1/10\n",
      "1250/1250 [==============================] - 42s 34ms/step - loss: 1.0820 - accuracy: 0.6053 - val_loss: 0.6626 - val_accuracy: 0.7598\n",
      "Epoch 2/10\n",
      "1250/1250 [==============================] - 41s 33ms/step - loss: 0.6503 - accuracy: 0.7601 - val_loss: 0.5280 - val_accuracy: 0.8042\n",
      "Epoch 3/10\n",
      "1250/1250 [==============================] - 42s 33ms/step - loss: 0.5521 - accuracy: 0.7963 - val_loss: 0.4499 - val_accuracy: 0.8391\n",
      "Epoch 4/10\n",
      "1250/1250 [==============================] - 42s 34ms/step - loss: 0.4921 - accuracy: 0.8204 - val_loss: 0.4402 - val_accuracy: 0.8338\n",
      "Epoch 5/10\n",
      "1250/1250 [==============================] - 42s 33ms/step - loss: 0.4562 - accuracy: 0.8318 - val_loss: 0.3927 - val_accuracy: 0.8557\n",
      "Epoch 6/10\n",
      "1250/1250 [==============================] - 42s 33ms/step - loss: 0.4262 - accuracy: 0.8445 - val_loss: 0.3762 - val_accuracy: 0.8666\n",
      "Epoch 7/10\n",
      "1250/1250 [==============================] - 42s 33ms/step - loss: 0.4038 - accuracy: 0.8528 - val_loss: 0.3704 - val_accuracy: 0.8652\n",
      "Epoch 8/10\n",
      "1250/1250 [==============================] - 42s 34ms/step - loss: 0.3886 - accuracy: 0.8582 - val_loss: 0.3387 - val_accuracy: 0.8781\n",
      "Epoch 9/10\n",
      "1250/1250 [==============================] - 42s 33ms/step - loss: 0.3701 - accuracy: 0.8654 - val_loss: 0.3399 - val_accuracy: 0.8755\n",
      "Epoch 10/10\n",
      "1250/1250 [==============================] - 42s 34ms/step - loss: 0.3561 - accuracy: 0.8715 - val_loss: 0.3176 - val_accuracy: 0.8844\n",
      "313/313 [==============================] - 3s 9ms/step - loss: 0.3206 - accuracy: 0.8823\n",
      "n_neurons: 200, opt_type: sgd\n",
      "Epoch 1/10\n",
      "1250/1250 [==============================] - 42s 34ms/step - loss: 1.0611 - accuracy: 0.6055 - val_loss: 0.6338 - val_accuracy: 0.7733\n",
      "Epoch 2/10\n",
      "1250/1250 [==============================] - 42s 34ms/step - loss: 0.6330 - accuracy: 0.7622 - val_loss: 0.5092 - val_accuracy: 0.8059\n",
      "Epoch 3/10\n",
      "1250/1250 [==============================] - 42s 34ms/step - loss: 0.5401 - accuracy: 0.8002 - val_loss: 0.4601 - val_accuracy: 0.8356\n",
      "Epoch 4/10\n",
      "1250/1250 [==============================] - 42s 33ms/step - loss: 0.4864 - accuracy: 0.8216 - val_loss: 0.4137 - val_accuracy: 0.8512\n",
      "Epoch 5/10\n",
      "1250/1250 [==============================] - 42s 34ms/step - loss: 0.4547 - accuracy: 0.8345 - val_loss: 0.3921 - val_accuracy: 0.8549\n",
      "Epoch 6/10\n",
      "1250/1250 [==============================] - 42s 34ms/step - loss: 0.4254 - accuracy: 0.8452 - val_loss: 0.3779 - val_accuracy: 0.8682\n",
      "Epoch 7/10\n",
      "1250/1250 [==============================] - 42s 34ms/step - loss: 0.4032 - accuracy: 0.8540 - val_loss: 0.3682 - val_accuracy: 0.8647\n",
      "Epoch 8/10\n",
      "1250/1250 [==============================] - 42s 34ms/step - loss: 0.3888 - accuracy: 0.8594 - val_loss: 0.3491 - val_accuracy: 0.8745\n",
      "Epoch 9/10\n",
      "1250/1250 [==============================] - 42s 34ms/step - loss: 0.3733 - accuracy: 0.8656 - val_loss: 0.3390 - val_accuracy: 0.8745\n",
      "Epoch 10/10\n",
      "1250/1250 [==============================] - 42s 34ms/step - loss: 0.3588 - accuracy: 0.8709 - val_loss: 0.3280 - val_accuracy: 0.8810\n",
      "313/313 [==============================] - 3s 9ms/step - loss: 0.3442 - accuracy: 0.8756\n",
      "n_neurons: 200, opt_type: adam\n",
      "Epoch 1/10\n",
      "1250/1250 [==============================] - 44s 35ms/step - loss: 0.5205 - accuracy: 0.8101 - val_loss: 0.3172 - val_accuracy: 0.8851\n",
      "Epoch 2/10\n",
      "1250/1250 [==============================] - 43s 34ms/step - loss: 0.3195 - accuracy: 0.8843 - val_loss: 0.2686 - val_accuracy: 0.9005\n",
      "Epoch 3/10\n",
      "1250/1250 [==============================] - 43s 34ms/step - loss: 0.2683 - accuracy: 0.9013 - val_loss: 0.2457 - val_accuracy: 0.9094\n",
      "Epoch 4/10\n",
      "1250/1250 [==============================] - 43s 34ms/step - loss: 0.2326 - accuracy: 0.9151 - val_loss: 0.2400 - val_accuracy: 0.9135\n",
      "Epoch 5/10\n",
      "1250/1250 [==============================] - 42s 33ms/step - loss: 0.2020 - accuracy: 0.9253 - val_loss: 0.2286 - val_accuracy: 0.9199\n",
      "Epoch 6/10\n",
      "1250/1250 [==============================] - 42s 34ms/step - loss: 0.1820 - accuracy: 0.9319 - val_loss: 0.2336 - val_accuracy: 0.9160\n"
     ]
    },
    {
     "name": "stdout",
     "output_type": "stream",
     "text": [
      "Epoch 7/10\n",
      "1250/1250 [==============================] - 40s 32ms/step - loss: 0.1623 - accuracy: 0.9405 - val_loss: 0.2556 - val_accuracy: 0.9101\n",
      "Epoch 8/10\n",
      "1250/1250 [==============================] - 40s 32ms/step - loss: 0.1433 - accuracy: 0.9466 - val_loss: 0.2323 - val_accuracy: 0.9217\n",
      "Epoch 9/10\n",
      "1250/1250 [==============================] - 40s 32ms/step - loss: 0.1271 - accuracy: 0.9530 - val_loss: 0.2357 - val_accuracy: 0.9225\n",
      "Epoch 10/10\n",
      "1250/1250 [==============================] - 40s 32ms/step - loss: 0.1168 - accuracy: 0.9577 - val_loss: 0.2627 - val_accuracy: 0.9211\n",
      "313/313 [==============================] - 3s 8ms/step - loss: 0.2769 - accuracy: 0.9183\n",
      "n_neurons: 200, opt_type: adam\n",
      "Epoch 1/10\n",
      "1250/1250 [==============================] - 43s 34ms/step - loss: 0.5163 - accuracy: 0.8109 - val_loss: 0.3209 - val_accuracy: 0.8820\n",
      "Epoch 2/10\n",
      "1250/1250 [==============================] - 41s 33ms/step - loss: 0.3287 - accuracy: 0.8804 - val_loss: 0.2716 - val_accuracy: 0.8998\n",
      "Epoch 3/10\n",
      "1250/1250 [==============================] - 41s 33ms/step - loss: 0.2757 - accuracy: 0.8981 - val_loss: 0.2600 - val_accuracy: 0.9030\n",
      "Epoch 4/10\n",
      "1250/1250 [==============================] - 41s 33ms/step - loss: 0.2435 - accuracy: 0.9104 - val_loss: 0.2330 - val_accuracy: 0.9157\n",
      "Epoch 5/10\n",
      "1250/1250 [==============================] - 41s 33ms/step - loss: 0.2133 - accuracy: 0.9208 - val_loss: 0.2369 - val_accuracy: 0.9118\n",
      "Epoch 6/10\n",
      "1250/1250 [==============================] - 41s 33ms/step - loss: 0.1892 - accuracy: 0.9295 - val_loss: 0.2251 - val_accuracy: 0.9206\n",
      "Epoch 7/10\n",
      "1250/1250 [==============================] - 41s 33ms/step - loss: 0.1716 - accuracy: 0.9366 - val_loss: 0.2385 - val_accuracy: 0.9157\n",
      "Epoch 8/10\n",
      "1250/1250 [==============================] - 41s 33ms/step - loss: 0.1514 - accuracy: 0.9438 - val_loss: 0.2464 - val_accuracy: 0.9180\n",
      "Epoch 9/10\n",
      "1250/1250 [==============================] - 42s 33ms/step - loss: 0.1395 - accuracy: 0.9481 - val_loss: 0.2347 - val_accuracy: 0.9234\n",
      "Epoch 10/10\n",
      "1250/1250 [==============================] - 41s 33ms/step - loss: 0.1199 - accuracy: 0.9552 - val_loss: 0.2529 - val_accuracy: 0.9220\n",
      "313/313 [==============================] - 3s 8ms/step - loss: 0.2582 - accuracy: 0.9200\n",
      "n_neurons: 200, opt_type: adam\n",
      "Epoch 1/10\n",
      "1250/1250 [==============================] - 42s 33ms/step - loss: 0.5217 - accuracy: 0.8089 - val_loss: 0.3208 - val_accuracy: 0.8831\n",
      "Epoch 2/10\n",
      "1250/1250 [==============================] - 42s 33ms/step - loss: 0.3234 - accuracy: 0.8839 - val_loss: 0.2692 - val_accuracy: 0.9010\n",
      "Epoch 3/10\n",
      "1250/1250 [==============================] - 42s 34ms/step - loss: 0.2681 - accuracy: 0.9021 - val_loss: 0.2493 - val_accuracy: 0.9073\n",
      "Epoch 4/10\n",
      "1250/1250 [==============================] - 42s 34ms/step - loss: 0.2368 - accuracy: 0.9132 - val_loss: 0.2432 - val_accuracy: 0.9082\n",
      "Epoch 5/10\n",
      "1250/1250 [==============================] - 42s 33ms/step - loss: 0.2061 - accuracy: 0.9240 - val_loss: 0.2454 - val_accuracy: 0.9132\n",
      "Epoch 6/10\n",
      "1250/1250 [==============================] - 42s 34ms/step - loss: 0.1833 - accuracy: 0.9311 - val_loss: 0.2241 - val_accuracy: 0.9183\n",
      "Epoch 7/10\n",
      "1250/1250 [==============================] - 42s 33ms/step - loss: 0.1637 - accuracy: 0.9378 - val_loss: 0.2300 - val_accuracy: 0.9175\n",
      "Epoch 8/10\n",
      "1250/1250 [==============================] - 42s 33ms/step - loss: 0.1464 - accuracy: 0.9463 - val_loss: 0.2269 - val_accuracy: 0.9238\n",
      "Epoch 9/10\n",
      "1250/1250 [==============================] - 42s 34ms/step - loss: 0.1331 - accuracy: 0.9517 - val_loss: 0.2538 - val_accuracy: 0.9173\n",
      "Epoch 10/10\n",
      "1250/1250 [==============================] - 42s 33ms/step - loss: 0.1215 - accuracy: 0.9538 - val_loss: 0.2422 - val_accuracy: 0.9247\n",
      "313/313 [==============================] - 3s 9ms/step - loss: 0.2528 - accuracy: 0.9223\n",
      "n_neurons: 200, opt_type: adam\n",
      "Epoch 1/10\n",
      "1250/1250 [==============================] - 43s 34ms/step - loss: 0.5053 - accuracy: 0.8148 - val_loss: 0.3130 - val_accuracy: 0.8885\n",
      "Epoch 2/10\n",
      "1250/1250 [==============================] - 43s 34ms/step - loss: 0.3164 - accuracy: 0.8851 - val_loss: 0.2554 - val_accuracy: 0.9097\n",
      "Epoch 3/10\n",
      "1250/1250 [==============================] - 42s 34ms/step - loss: 0.2627 - accuracy: 0.9047 - val_loss: 0.2419 - val_accuracy: 0.9145\n",
      "Epoch 4/10\n",
      "1250/1250 [==============================] - 43s 34ms/step - loss: 0.2325 - accuracy: 0.9140 - val_loss: 0.2590 - val_accuracy: 0.9066\n",
      "Epoch 5/10\n",
      "1250/1250 [==============================] - 43s 34ms/step - loss: 0.2042 - accuracy: 0.9245 - val_loss: 0.2238 - val_accuracy: 0.9238\n",
      "Epoch 6/10\n",
      "1250/1250 [==============================] - 43s 34ms/step - loss: 0.1806 - accuracy: 0.9327 - val_loss: 0.2237 - val_accuracy: 0.9216\n",
      "Epoch 7/10\n",
      "1250/1250 [==============================] - 43s 34ms/step - loss: 0.1622 - accuracy: 0.9399 - val_loss: 0.2332 - val_accuracy: 0.9209\n",
      "Epoch 8/10\n",
      "1250/1250 [==============================] - 43s 34ms/step - loss: 0.1426 - accuracy: 0.9470 - val_loss: 0.2466 - val_accuracy: 0.9177\n",
      "Epoch 9/10\n",
      "1250/1250 [==============================] - 42s 34ms/step - loss: 0.1256 - accuracy: 0.9531 - val_loss: 0.2499 - val_accuracy: 0.9266\n",
      "Epoch 10/10\n",
      "1250/1250 [==============================] - 43s 35ms/step - loss: 0.1150 - accuracy: 0.9583 - val_loss: 0.2542 - val_accuracy: 0.9232\n",
      "313/313 [==============================] - 3s 10ms/step - loss: 0.2698 - accuracy: 0.9193\n",
      "n_neurons: 200, opt_type: adam\n",
      "Epoch 1/10\n",
      "1250/1250 [==============================] - 44s 35ms/step - loss: 0.5173 - accuracy: 0.8108 - val_loss: 0.3415 - val_accuracy: 0.8722\n",
      "Epoch 2/10\n",
      "1250/1250 [==============================] - 42s 34ms/step - loss: 0.3243 - accuracy: 0.8827 - val_loss: 0.2836 - val_accuracy: 0.8952\n",
      "Epoch 3/10\n",
      "1250/1250 [==============================] - 43s 34ms/step - loss: 0.2735 - accuracy: 0.9012 - val_loss: 0.2538 - val_accuracy: 0.9068\n",
      "Epoch 4/10\n",
      "1250/1250 [==============================] - 42s 34ms/step - loss: 0.2417 - accuracy: 0.9103 - val_loss: 0.2370 - val_accuracy: 0.9126\n",
      "Epoch 5/10\n",
      "1250/1250 [==============================] - 42s 34ms/step - loss: 0.2147 - accuracy: 0.9205 - val_loss: 0.2273 - val_accuracy: 0.9188\n",
      "Epoch 6/10\n",
      "1250/1250 [==============================] - 43s 34ms/step - loss: 0.1904 - accuracy: 0.9302 - val_loss: 0.2189 - val_accuracy: 0.9177\n",
      "Epoch 7/10\n",
      "1250/1250 [==============================] - 43s 34ms/step - loss: 0.1691 - accuracy: 0.9376 - val_loss: 0.2399 - val_accuracy: 0.9175\n",
      "Epoch 8/10\n",
      "1250/1250 [==============================] - 42s 34ms/step - loss: 0.1511 - accuracy: 0.9443 - val_loss: 0.2465 - val_accuracy: 0.9172\n",
      "Epoch 9/10\n",
      "1250/1250 [==============================] - 42s 34ms/step - loss: 0.1391 - accuracy: 0.9494 - val_loss: 0.2400 - val_accuracy: 0.9207\n",
      "Epoch 10/10\n",
      "1250/1250 [==============================] - 43s 35ms/step - loss: 0.1270 - accuracy: 0.9536 - val_loss: 0.2522 - val_accuracy: 0.9203\n",
      "313/313 [==============================] - 4s 9ms/step - loss: 0.2701 - accuracy: 0.9143\n",
      "n_neurons: 200, opt_type: adam\n",
      "Epoch 1/10\n",
      "1563/1563 [==============================] - 57s 36ms/step - loss: 0.4845 - accuracy: 0.8228 - val_loss: 0.3060 - val_accuracy: 0.8925\n",
      "Epoch 2/10\n",
      "1563/1563 [==============================] - 52s 33ms/step - loss: 0.3045 - accuracy: 0.8892 - val_loss: 0.2532 - val_accuracy: 0.9064\n",
      "Epoch 3/10\n",
      "1563/1563 [==============================] - 51s 33ms/step - loss: 0.2562 - accuracy: 0.9068 - val_loss: 0.2543 - val_accuracy: 0.9065\n",
      "Epoch 4/10\n",
      "1563/1563 [==============================] - 52s 33ms/step - loss: 0.2250 - accuracy: 0.9163 - val_loss: 0.2322 - val_accuracy: 0.9159\n",
      "Epoch 5/10\n",
      "1563/1563 [==============================] - 52s 33ms/step - loss: 0.2004 - accuracy: 0.9262 - val_loss: 0.2138 - val_accuracy: 0.9234\n",
      "Epoch 6/10\n",
      "1563/1563 [==============================] - 52s 33ms/step - loss: 0.1787 - accuracy: 0.9360 - val_loss: 0.2146 - val_accuracy: 0.9217\n",
      "Epoch 7/10\n",
      "1563/1563 [==============================] - 53s 34ms/step - loss: 0.1614 - accuracy: 0.9404 - val_loss: 0.2249 - val_accuracy: 0.9208\n",
      "Epoch 8/10\n",
      "1563/1563 [==============================] - 52s 34ms/step - loss: 0.1451 - accuracy: 0.9457 - val_loss: 0.2246 - val_accuracy: 0.9232\n"
     ]
    },
    {
     "name": "stdout",
     "output_type": "stream",
     "text": [
      "Epoch 9/10\n",
      "1563/1563 [==============================] - 50s 32ms/step - loss: 0.1320 - accuracy: 0.9515 - val_loss: 0.2550 - val_accuracy: 0.9133\n",
      "Epoch 10/10\n",
      "1563/1563 [==============================] - 50s 32ms/step - loss: 0.1196 - accuracy: 0.9552 - val_loss: 0.2338 - val_accuracy: 0.9256\n"
     ]
    },
    {
     "data": {
      "text/html": [
       "<style>#sk-container-id-1 {color: black;background-color: white;}#sk-container-id-1 pre{padding: 0;}#sk-container-id-1 div.sk-toggleable {background-color: white;}#sk-container-id-1 label.sk-toggleable__label {cursor: pointer;display: block;width: 100%;margin-bottom: 0;padding: 0.3em;box-sizing: border-box;text-align: center;}#sk-container-id-1 label.sk-toggleable__label-arrow:before {content: \"▸\";float: left;margin-right: 0.25em;color: #696969;}#sk-container-id-1 label.sk-toggleable__label-arrow:hover:before {color: black;}#sk-container-id-1 div.sk-estimator:hover label.sk-toggleable__label-arrow:before {color: black;}#sk-container-id-1 div.sk-toggleable__content {max-height: 0;max-width: 0;overflow: hidden;text-align: left;background-color: #f0f8ff;}#sk-container-id-1 div.sk-toggleable__content pre {margin: 0.2em;color: black;border-radius: 0.25em;background-color: #f0f8ff;}#sk-container-id-1 input.sk-toggleable__control:checked~div.sk-toggleable__content {max-height: 200px;max-width: 100%;overflow: auto;}#sk-container-id-1 input.sk-toggleable__control:checked~label.sk-toggleable__label-arrow:before {content: \"▾\";}#sk-container-id-1 div.sk-estimator input.sk-toggleable__control:checked~label.sk-toggleable__label {background-color: #d4ebff;}#sk-container-id-1 div.sk-label input.sk-toggleable__control:checked~label.sk-toggleable__label {background-color: #d4ebff;}#sk-container-id-1 input.sk-hidden--visually {border: 0;clip: rect(1px 1px 1px 1px);clip: rect(1px, 1px, 1px, 1px);height: 1px;margin: -1px;overflow: hidden;padding: 0;position: absolute;width: 1px;}#sk-container-id-1 div.sk-estimator {font-family: monospace;background-color: #f0f8ff;border: 1px dotted black;border-radius: 0.25em;box-sizing: border-box;margin-bottom: 0.5em;}#sk-container-id-1 div.sk-estimator:hover {background-color: #d4ebff;}#sk-container-id-1 div.sk-parallel-item::after {content: \"\";width: 100%;border-bottom: 1px solid gray;flex-grow: 1;}#sk-container-id-1 div.sk-label:hover label.sk-toggleable__label {background-color: #d4ebff;}#sk-container-id-1 div.sk-serial::before {content: \"\";position: absolute;border-left: 1px solid gray;box-sizing: border-box;top: 0;bottom: 0;left: 50%;z-index: 0;}#sk-container-id-1 div.sk-serial {display: flex;flex-direction: column;align-items: center;background-color: white;padding-right: 0.2em;padding-left: 0.2em;position: relative;}#sk-container-id-1 div.sk-item {position: relative;z-index: 1;}#sk-container-id-1 div.sk-parallel {display: flex;align-items: stretch;justify-content: center;background-color: white;position: relative;}#sk-container-id-1 div.sk-item::before, #sk-container-id-1 div.sk-parallel-item::before {content: \"\";position: absolute;border-left: 1px solid gray;box-sizing: border-box;top: 0;bottom: 0;left: 50%;z-index: -1;}#sk-container-id-1 div.sk-parallel-item {display: flex;flex-direction: column;z-index: 1;position: relative;background-color: white;}#sk-container-id-1 div.sk-parallel-item:first-child::after {align-self: flex-end;width: 50%;}#sk-container-id-1 div.sk-parallel-item:last-child::after {align-self: flex-start;width: 50%;}#sk-container-id-1 div.sk-parallel-item:only-child::after {width: 0;}#sk-container-id-1 div.sk-dashed-wrapped {border: 1px dashed gray;margin: 0 0.4em 0.5em 0.4em;box-sizing: border-box;padding-bottom: 0.4em;background-color: white;}#sk-container-id-1 div.sk-label label {font-family: monospace;font-weight: bold;display: inline-block;line-height: 1.2em;}#sk-container-id-1 div.sk-label-container {text-align: center;}#sk-container-id-1 div.sk-container {/* jupyter's `normalize.less` sets `[hidden] { display: none; }` but bootstrap.min.css set `[hidden] { display: none !important; }` so we also need the `!important` here to be able to override the default hidden behavior on the sphinx rendered scikit-learn.org. See: https://github.com/scikit-learn/scikit-learn/issues/21755 */display: inline-block !important;position: relative;}#sk-container-id-1 div.sk-text-repr-fallback {display: none;}</style><div id=\"sk-container-id-1\" class=\"sk-top-container\"><div class=\"sk-text-repr-fallback\"><pre>GridSearchCV(cv=5,\n",
       "             estimator=&lt;keras.wrappers.scikit_learn.KerasClassifier object at 0x7fcf9a55dc10&gt;,\n",
       "             param_grid={&#x27;n_neurons&#x27;: [100, 200], &#x27;opt_type&#x27;: [&#x27;sgd&#x27;, &#x27;adam&#x27;]})</pre><b>In a Jupyter environment, please rerun this cell to show the HTML representation or trust the notebook. <br />On GitHub, the HTML representation is unable to render, please try loading this page with nbviewer.org.</b></div><div class=\"sk-container\" hidden><div class=\"sk-item sk-dashed-wrapped\"><div class=\"sk-label-container\"><div class=\"sk-label sk-toggleable\"><input class=\"sk-toggleable__control sk-hidden--visually\" id=\"sk-estimator-id-1\" type=\"checkbox\" ><label for=\"sk-estimator-id-1\" class=\"sk-toggleable__label sk-toggleable__label-arrow\">GridSearchCV</label><div class=\"sk-toggleable__content\"><pre>GridSearchCV(cv=5,\n",
       "             estimator=&lt;keras.wrappers.scikit_learn.KerasClassifier object at 0x7fcf9a55dc10&gt;,\n",
       "             param_grid={&#x27;n_neurons&#x27;: [100, 200], &#x27;opt_type&#x27;: [&#x27;sgd&#x27;, &#x27;adam&#x27;]})</pre></div></div></div><div class=\"sk-parallel\"><div class=\"sk-parallel-item\"><div class=\"sk-item\"><div class=\"sk-label-container\"><div class=\"sk-label sk-toggleable\"><input class=\"sk-toggleable__control sk-hidden--visually\" id=\"sk-estimator-id-2\" type=\"checkbox\" ><label for=\"sk-estimator-id-2\" class=\"sk-toggleable__label sk-toggleable__label-arrow\">estimator: KerasClassifier</label><div class=\"sk-toggleable__content\"><pre>&lt;keras.wrappers.scikit_learn.KerasClassifier object at 0x7fcf9a55dc10&gt;</pre></div></div></div><div class=\"sk-serial\"><div class=\"sk-item\"><div class=\"sk-estimator sk-toggleable\"><input class=\"sk-toggleable__control sk-hidden--visually\" id=\"sk-estimator-id-3\" type=\"checkbox\" ><label for=\"sk-estimator-id-3\" class=\"sk-toggleable__label sk-toggleable__label-arrow\">KerasClassifier</label><div class=\"sk-toggleable__content\"><pre>&lt;keras.wrappers.scikit_learn.KerasClassifier object at 0x7fcf9a55dc10&gt;</pre></div></div></div></div></div></div></div></div></div></div>"
      ],
      "text/plain": [
       "GridSearchCV(cv=5,\n",
       "             estimator=<keras.wrappers.scikit_learn.KerasClassifier object at 0x7fcf9a55dc10>,\n",
       "             param_grid={'n_neurons': [100, 200], 'opt_type': ['sgd', 'adam']})"
      ]
     },
     "execution_count": 25,
     "metadata": {},
     "output_type": "execute_result"
    }
   ],
   "source": [
    "grid_search = GridSearchCV(keras_classifier, parameters, cv=5)\n",
    "\n",
    "grid_search.fit(X_train, \n",
    "                y_train, \n",
    "                epochs=10, \n",
    "                validation_data = (X_valid, y_valid), \n",
    "                callbacks=EarlyStopping(patience=5))"
   ]
  },
  {
   "cell_type": "markdown",
   "id": "8dffe563",
   "metadata": {},
   "source": [
    "Having finished the hyperparameter fine tuning, the best parameters determined are as follows."
   ]
  },
  {
   "cell_type": "code",
   "execution_count": 26,
   "id": "22ae5783",
   "metadata": {},
   "outputs": [
    {
     "data": {
      "text/plain": [
       "{'n_neurons': 200, 'opt_type': 'adam'}"
      ]
     },
     "execution_count": 26,
     "metadata": {},
     "output_type": "execute_result"
    }
   ],
   "source": [
    "grid_search.best_params_"
   ]
  },
  {
   "cell_type": "markdown",
   "id": "e3996e64",
   "metadata": {},
   "source": [
    "These parameters have achieved the following validation score."
   ]
  },
  {
   "cell_type": "code",
   "execution_count": 27,
   "id": "7e5bea69",
   "metadata": {},
   "outputs": [
    {
     "data": {
      "text/plain": [
       "0.9188400030136108"
      ]
     },
     "execution_count": 27,
     "metadata": {},
     "output_type": "execute_result"
    }
   ],
   "source": [
    "grid_search.best_score_"
   ]
  },
  {
   "cell_type": "markdown",
   "id": "38a2be8c",
   "metadata": {},
   "source": [
    "## Optimial Model"
   ]
  },
  {
   "cell_type": "markdown",
   "id": "0e395b31",
   "metadata": {},
   "source": [
    "Using this optimal model, we finally assess the performance on the test set."
   ]
  },
  {
   "cell_type": "code",
   "execution_count": 28,
   "id": "fc5eff59",
   "metadata": {},
   "outputs": [],
   "source": [
    "optimal_model = grid_search.best_estimator_.model"
   ]
  },
  {
   "cell_type": "code",
   "execution_count": 29,
   "id": "a51dfad4",
   "metadata": {},
   "outputs": [
    {
     "name": "stdout",
     "output_type": "stream",
     "text": [
      "Model: \"sequential_21\"\n",
      "_________________________________________________________________\n",
      " Layer (type)                Output Shape              Param #   \n",
      "=================================================================\n",
      " conv2d_42 (Conv2D)          (None, 28, 28, 32)        320       \n",
      "                                                                 \n",
      " max_pooling2d_42 (MaxPoolin  (None, 14, 14, 32)       0         \n",
      " g2D)                                                            \n",
      "                                                                 \n",
      " conv2d_43 (Conv2D)          (None, 14, 14, 64)        18496     \n",
      "                                                                 \n",
      " max_pooling2d_43 (MaxPoolin  (None, 7, 7, 64)         0         \n",
      " g2D)                                                            \n",
      "                                                                 \n",
      " flatten_21 (Flatten)        (None, 3136)              0         \n",
      "                                                                 \n",
      " dense_63 (Dense)            (None, 200)               627400    \n",
      "                                                                 \n",
      " dropout_42 (Dropout)        (None, 200)               0         \n",
      "                                                                 \n",
      " dense_64 (Dense)            (None, 200)               40200     \n",
      "                                                                 \n",
      " dropout_43 (Dropout)        (None, 200)               0         \n",
      "                                                                 \n",
      " dense_65 (Dense)            (None, 10)                2010      \n",
      "                                                                 \n",
      "=================================================================\n",
      "Total params: 688,426\n",
      "Trainable params: 688,426\n",
      "Non-trainable params: 0\n",
      "_________________________________________________________________\n"
     ]
    }
   ],
   "source": [
    "optimal_model.summary()"
   ]
  },
  {
   "cell_type": "code",
   "execution_count": 30,
   "id": "40dba60c",
   "metadata": {},
   "outputs": [
    {
     "name": "stdout",
     "output_type": "stream",
     "text": [
      "313/313 [==============================] - 3s 9ms/step - loss: 0.2536 - accuracy: 0.9206\n"
     ]
    },
    {
     "data": {
      "text/plain": [
       "[0.25356125831604004, 0.9205999970436096]"
      ]
     },
     "execution_count": 30,
     "metadata": {},
     "output_type": "execute_result"
    }
   ],
   "source": [
    "optimal_model.evaluate(X_test, y_test)"
   ]
  },
  {
   "cell_type": "markdown",
   "id": "dd38ccee",
   "metadata": {},
   "source": [
    "As we can see, this has achieved a slightly better performance on the test dataset. Overall, we achieved very strong classification performance on the MNIST Fashion Dataset."
   ]
  }
 ],
 "metadata": {
  "kernelspec": {
   "display_name": "myenv",
   "language": "python",
   "name": "myenv"
  },
  "language_info": {
   "codemirror_mode": {
    "name": "ipython",
    "version": 3
   },
   "file_extension": ".py",
   "mimetype": "text/x-python",
   "name": "python",
   "nbconvert_exporter": "python",
   "pygments_lexer": "ipython3",
   "version": "3.9.12"
  }
 },
 "nbformat": 4,
 "nbformat_minor": 5
}
