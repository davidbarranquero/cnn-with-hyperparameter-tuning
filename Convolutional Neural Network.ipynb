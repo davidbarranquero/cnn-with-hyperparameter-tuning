{
 "cells": [
  {
   "cell_type": "markdown",
   "id": "3a6db2cd",
   "metadata": {},
   "source": [
    "## David Barranquero"
   ]
  },
  {
   "cell_type": "code",
   "execution_count": 1,
   "id": "f30e2fc8",
   "metadata": {},
   "outputs": [
    {
     "name": "stderr",
     "output_type": "stream",
     "text": [
      "2023-01-02 15:39:20.751781: I tensorflow/core/platform/cpu_feature_guard.cc:193] This TensorFlow binary is optimized with oneAPI Deep Neural Network Library (oneDNN) to use the following CPU instructions in performance-critical operations:  AVX2 FMA\n",
      "To enable them in other operations, rebuild TensorFlow with the appropriate compiler flags.\n"
     ]
    }
   ],
   "source": [
    "import numpy as np\n",
    "import pandas as pd\n",
    "import matplotlib.pyplot as plt\n",
    "import tensorflow as tf\n",
    "from tensorflow import keras\n",
    "from keras.utils import to_categorical\n",
    "from keras.layers import Conv2D, MaxPooling2D, Dense, Flatten\n",
    "from keras.callbacks import EarlyStopping\n",
    "from sklearn.model_selection import GridSearchCV"
   ]
  },
  {
   "cell_type": "code",
   "execution_count": 2,
   "id": "eb57c00f",
   "metadata": {},
   "outputs": [],
   "source": [
    "%matplotlib inline"
   ]
  },
  {
   "cell_type": "code",
   "execution_count": 3,
   "id": "eba00a4b",
   "metadata": {},
   "outputs": [
    {
     "name": "stdout",
     "output_type": "stream",
     "text": [
      "2.10.0\n"
     ]
    }
   ],
   "source": [
    "print(tf.__version__)"
   ]
  },
  {
   "cell_type": "markdown",
   "id": "043ee764",
   "metadata": {},
   "source": [
    "Setting a random seed."
   ]
  },
  {
   "cell_type": "code",
   "execution_count": 4,
   "id": "6ceaab73",
   "metadata": {},
   "outputs": [],
   "source": [
    "seed = 54321\n",
    "np.random.seed(seed)\n",
    "tf.random.set_seed(seed)"
   ]
  },
  {
   "cell_type": "markdown",
   "id": "2f90e096",
   "metadata": {},
   "source": [
    "We're going to build a convolutional neural network for image classification. The dataset we will use is the MNIST Fashion Dataset, which contains 60,000 training images and 10,000 test images, all 28x28 and in greyscale. The dataset contains an equal amount of images of 10 different clothing articles. We begin first by reading in the dataset."
   ]
  },
  {
   "cell_type": "code",
   "execution_count": 5,
   "id": "cfba2b87",
   "metadata": {},
   "outputs": [],
   "source": [
    "(X_train, y_train), (X_test, y_test) = keras.datasets.fashion_mnist.load_data()"
   ]
  },
  {
   "cell_type": "code",
   "execution_count": 6,
   "id": "d7e8379c",
   "metadata": {},
   "outputs": [],
   "source": [
    "class_names = [\"T-shirt/top\", \n",
    "               \"Trouser\", \n",
    "               \"Pullover\", \n",
    "               \"Dress\", \n",
    "               \"Coat\", \n",
    "               \"Sandal\", \n",
    "               \"Shirt\", \n",
    "               \"Sneaker\", \n",
    "               \"Bag\", \n",
    "               \"Ankle boot\"]"
   ]
  },
  {
   "cell_type": "markdown",
   "id": "4d163b6e",
   "metadata": {},
   "source": [
    "Next, we visualise our dataset, viewing the first entry in the test dataset."
   ]
  },
  {
   "cell_type": "code",
   "execution_count": 7,
   "id": "7c8493d7",
   "metadata": {},
   "outputs": [
    {
     "name": "stdout",
     "output_type": "stream",
     "text": [
      "Ankle boot\n"
     ]
    }
   ],
   "source": [
    "print(class_names[y_train[0]])"
   ]
  },
  {
   "cell_type": "markdown",
   "id": "ebba0a0e",
   "metadata": {},
   "source": [
    "As well as visualising the image itself."
   ]
  },
  {
   "cell_type": "code",
   "execution_count": 8,
   "id": "25109b72",
   "metadata": {},
   "outputs": [
    {
     "data": {
      "text/plain": [
       "<matplotlib.image.AxesImage at 0x7f7eba7083d0>"
      ]
     },
     "execution_count": 8,
     "metadata": {},
     "output_type": "execute_result"
    },
    {
     "data": {
      "image/png": "[encoded data removed]",
      "text/plain": [
       "<Figure size 432x288 with 1 Axes>"
      ]
     },
     "metadata": {
      "needs_background": "light"
     },
     "output_type": "display_data"
    }
   ],
   "source": [
    "plt.imshow(X_train[0], cmap='Greys')"
   ]
  },
  {
   "cell_type": "markdown",
   "id": "80a4d2b9",
   "metadata": {},
   "source": [
    "## Pre-processing"
   ]
  },
  {
   "cell_type": "markdown",
   "id": "106a258c",
   "metadata": {},
   "source": [
    "Firstly, we must perform pre-processing on the dataset. We are going to employ Min-Max normalisation on the dataset to place all values between 0 and 1. By normalising, the network will achieve a faster convergence to the local minimum. Fortunately, because of the 256 pixel values ranging from 0 to 255, the normalisation effect is achieved by simply dividing the dataset by 255. To do so, we first convert the dataset type to float, and then perform the normalisation. Furthermore, as general practice for when we deal with colour images and have three RGB colour channels, we reshape the dataset to include this information. We define a function for this preprocessing."
   ]
  },
  {
   "cell_type": "code",
   "execution_count": 9,
   "id": "6d8cb2e4",
   "metadata": {},
   "outputs": [],
   "source": [
    "def normalise_data(dataset):\n",
    "    dataset = dataset.reshape((dataset.shape[0], 28, 28, 1))\n",
    "    dataset = dataset.astype('float32')\n",
    "    dataset /= 255\n",
    "    \n",
    "    return dataset"
   ]
  },
  {
   "cell_type": "code",
   "execution_count": 10,
   "id": "b00a8e30",
   "metadata": {},
   "outputs": [],
   "source": [
    "X_train = normalise_data(X_train)\n",
    "X_test = normalise_data(X_test)"
   ]
  },
  {
   "cell_type": "markdown",
   "id": "8ea5b543",
   "metadata": {},
   "source": [
    "Furthermore, we define a validation set using the first 10000 images of the training dataset. Ideally, when creating a validation set, it is wise to perform stratified sampling on your dataset. When there are large class imbalances, stratified sampling lowers the sampling variance of dataset split, which translates to better performance for the image classification model. However, if we look at the unique counts of the first 10000 images, we can see that there is a fairly uniform distribution of roughly a thousand per image, so the advantage of stratified sampling is minimal over simple random sampling."
   ]
  },
  {
   "cell_type": "code",
   "execution_count": 11,
   "id": "ada10d99",
   "metadata": {},
   "outputs": [
    {
     "data": {
      "text/plain": [
       "(array([0, 1, 2, 3, 4, 5, 6, 7, 8, 9], dtype=uint8),\n",
       " array([ 942, 1027, 1016, 1019,  974,  989, 1021, 1022,  990, 1000]))"
      ]
     },
     "execution_count": 11,
     "metadata": {},
     "output_type": "execute_result"
    }
   ],
   "source": [
    "np.unique(y_train[:10000], return_counts=True)"
   ]
  },
  {
   "cell_type": "markdown",
   "id": "f0000eb1",
   "metadata": {},
   "source": [
    "For this reason, we will use the first 10000 images for our validation set, and the remaining 50000 for our training set."
   ]
  },
  {
   "cell_type": "code",
   "execution_count": 12,
   "id": "7bfe256a",
   "metadata": {},
   "outputs": [],
   "source": [
    "X_valid, X_train = X_train[:10000], X_train[10000:]\n",
    "y_valid, y_train = y_train[:10000], y_train[10000:]"
   ]
  },
  {
   "cell_type": "markdown",
   "id": "8d5bd634",
   "metadata": {},
   "source": [
    "Finally, we confirm the set sizes and shapes of our data"
   ]
  },
  {
   "cell_type": "code",
   "execution_count": 13,
   "id": "58fcf2b7",
   "metadata": {},
   "outputs": [
    {
     "name": "stdout",
     "output_type": "stream",
     "text": [
      "(50000, 28, 28, 1)\n",
      "(50000,)\n"
     ]
    }
   ],
   "source": [
    "print(X_train.shape)\n",
    "print(y_train.shape)"
   ]
  },
  {
   "cell_type": "code",
   "execution_count": 14,
   "id": "ba49bd54",
   "metadata": {},
   "outputs": [
    {
     "name": "stdout",
     "output_type": "stream",
     "text": [
      "(10000, 28, 28, 1)\n",
      "(10000,)\n"
     ]
    }
   ],
   "source": [
    "print(X_valid.shape)\n",
    "print(y_valid.shape)"
   ]
  },
  {
   "cell_type": "code",
   "execution_count": 15,
   "id": "1073c466",
   "metadata": {},
   "outputs": [
    {
     "name": "stdout",
     "output_type": "stream",
     "text": [
      "(10000, 28, 28, 1)\n",
      "(10000,)\n"
     ]
    }
   ],
   "source": [
    "print(X_test.shape)\n",
    "print(y_test.shape)"
   ]
  },
  {
   "cell_type": "markdown",
   "id": "c8023b0a",
   "metadata": {},
   "source": [
    "## Building the Model"
   ]
  },
  {
   "cell_type": "markdown",
   "id": "3208414d",
   "metadata": {},
   "source": [
    "For image classification tasks, convolutional neural networks consistently provide the best performance.\n",
    "\n",
    "Our model will consist of a convolutional layer with 32 filters and the standard 3x3 kernel size, with a stride of 1. We will use a layer of padding to ensure that the output is of the same shape and information is not lost. Finally, for our activation function we will use ReLU. ReLU is defined as ReLU(a) = max(0,a). It leads to faster convergence by promoting sparsity in the model, as well as avoiding the vanishing/exploding gradients issue of other activation functions. \n",
    "\n",
    "Next, we employ a pooling layer using max pooling, again using the standard 2x2 pool size with a step size of 2. Pooling layers are effective at reducing the dimensionality of the dataset while retaining the most important information.\n",
    "\n",
    "Finally, we flatten the dataset in order to use the dense layers of standard feed-forward neural networks for the classification. We will use a layer with 100 layers, and the ReLU activation. Finally, we add an output layer, with the softmax activation, as this is a multi-class classification task."
   ]
  },
  {
   "cell_type": "code",
   "execution_count": 16,
   "id": "8e2f6143",
   "metadata": {},
   "outputs": [
    {
     "name": "stderr",
     "output_type": "stream",
     "text": [
      "2023-01-02 15:40:20.885955: I tensorflow/core/platform/cpu_feature_guard.cc:193] This TensorFlow binary is optimized with oneAPI Deep Neural Network Library (oneDNN) to use the following CPU instructions in performance-critical operations:  AVX2 FMA\n",
      "To enable them in other operations, rebuild TensorFlow with the appropriate compiler flags.\n"
     ]
    }
   ],
   "source": [
    "model = keras.models.Sequential()\n",
    "\n",
    "model.add(Conv2D(32, kernel_size=(3,3), strides=1, padding=\"same\", activation=\"relu\", input_shape=(28,28,1)))\n",
    "model.add(MaxPooling2D(pool_size=(2,2)))\n",
    "model.add(Flatten())\n",
    "model.add(Dense(100, activation=\"relu\"))\n",
    "model.add(Dense(10, activation=\"softmax\"))"
   ]
  },
  {
   "cell_type": "markdown",
   "id": "d6bb7505",
   "metadata": {},
   "source": [
    "Our loss function for this model will be sparse categorical crossentropy, as the target variable contains only the sparse label vector position. We use stochastic gradient descent as our optimiser, which aids in speeding up the convergence to the local minima by taking faster, imprecise steps, rather than slow, precise steps of gradient descent. Finally, we use accuracy as our performance metric."
   ]
  },
  {
   "cell_type": "code",
   "execution_count": 17,
   "id": "459eea65",
   "metadata": {},
   "outputs": [],
   "source": [
    "model.compile(loss=\"sparse_categorical_crossentropy\", optimizer=\"sgd\", metrics=[\"accuracy\"])"
   ]
  },
  {
   "cell_type": "markdown",
   "id": "1f843930",
   "metadata": {},
   "source": [
    "We can display a summary of our model as follows"
   ]
  },
  {
   "cell_type": "code",
   "execution_count": 18,
   "id": "4e4e206d",
   "metadata": {},
   "outputs": [
    {
     "name": "stdout",
     "output_type": "stream",
     "text": [
      "Model: \"sequential\"\n",
      "_________________________________________________________________\n",
      " Layer (type)                Output Shape              Param #   \n",
      "=================================================================\n",
      " conv2d (Conv2D)             (None, 28, 28, 32)        320       \n",
      "                                                                 \n",
      " max_pooling2d (MaxPooling2D  (None, 14, 14, 32)       0         \n",
      " )                                                               \n",
      "                                                                 \n",
      " flatten (Flatten)           (None, 6272)              0         \n",
      "                                                                 \n",
      " dense (Dense)               (None, 100)               627300    \n",
      "                                                                 \n",
      " dense_1 (Dense)             (None, 10)                1010      \n",
      "                                                                 \n",
      "=================================================================\n",
      "Total params: 628,630\n",
      "Trainable params: 628,630\n",
      "Non-trainable params: 0\n",
      "_________________________________________________________________\n"
     ]
    }
   ],
   "source": [
    "model.summary()"
   ]
  },
  {
   "cell_type": "markdown",
   "id": "95f36dea",
   "metadata": {},
   "source": [
    "Next, we fit the model and assess it's performance on the validation set. We will perform 10 sweeps over the entire dataset for training."
   ]
  },
  {
   "cell_type": "code",
   "execution_count": 19,
   "id": "42257441",
   "metadata": {},
   "outputs": [
    {
     "name": "stdout",
     "output_type": "stream",
     "text": [
      "Epoch 1/10\n",
      "1563/1563 [==============================] - 24s 15ms/step - loss: 0.7293 - accuracy: 0.7483 - val_loss: 0.5478 - val_accuracy: 0.8049\n",
      "Epoch 2/10\n",
      "1563/1563 [==============================] - 23s 15ms/step - loss: 0.4893 - accuracy: 0.8256 - val_loss: 0.5032 - val_accuracy: 0.8230\n",
      "Epoch 3/10\n",
      "1563/1563 [==============================] - 23s 15ms/step - loss: 0.4380 - accuracy: 0.8448 - val_loss: 0.4208 - val_accuracy: 0.8501\n",
      "Epoch 4/10\n",
      "1563/1563 [==============================] - 23s 15ms/step - loss: 0.4032 - accuracy: 0.8571 - val_loss: 0.4050 - val_accuracy: 0.8591\n",
      "Epoch 5/10\n",
      "1563/1563 [==============================] - 23s 15ms/step - loss: 0.3775 - accuracy: 0.8656 - val_loss: 0.3752 - val_accuracy: 0.8681\n",
      "Epoch 6/10\n",
      "1563/1563 [==============================] - 23s 15ms/step - loss: 0.3580 - accuracy: 0.8719 - val_loss: 0.3746 - val_accuracy: 0.8683\n",
      "Epoch 7/10\n",
      "1563/1563 [==============================] - 24s 15ms/step - loss: 0.3403 - accuracy: 0.8776 - val_loss: 0.3488 - val_accuracy: 0.8779\n",
      "Epoch 8/10\n",
      "1563/1563 [==============================] - 23s 15ms/step - loss: 0.3261 - accuracy: 0.8822 - val_loss: 0.3400 - val_accuracy: 0.8801\n",
      "Epoch 9/10\n",
      "1563/1563 [==============================] - 24s 15ms/step - loss: 0.3145 - accuracy: 0.8872 - val_loss: 0.3125 - val_accuracy: 0.8889\n",
      "Epoch 10/10\n",
      "1563/1563 [==============================] - 24s 15ms/step - loss: 0.3030 - accuracy: 0.8914 - val_loss: 0.3221 - val_accuracy: 0.8889\n"
     ]
    }
   ],
   "source": [
    "model_fit = model.fit(X_train, y_train, epochs=10, validation_data = (X_valid, y_valid))"
   ]
  },
  {
   "cell_type": "markdown",
   "id": "baf6358f",
   "metadata": {},
   "source": [
    "And plot the performance of this model fit."
   ]
  },
  {
   "cell_type": "code",
   "execution_count": 20,
   "id": "c4cfdd4b",
   "metadata": {},
   "outputs": [
    {
     "data": {
      "text/plain": [
       "<AxesSubplot:>"
      ]
     },
     "execution_count": 20,
     "metadata": {},
     "output_type": "execute_result"
    },
    {
     "data": {
      "image/png": "[encoded data removed]",
      "text/plain": [
       "<Figure size 432x288 with 1 Axes>"
      ]
     },
     "metadata": {
      "needs_background": "light"
     },
     "output_type": "display_data"
    }
   ],
   "source": [
    "pd.DataFrame(model_fit.history).plot()"
   ]
  },
  {
   "cell_type": "markdown",
   "id": "378d8361",
   "metadata": {},
   "source": [
    "From the plot above, we can see that the training and validation accuracy has consistently increased and the training and validation loss have consistently decreased, which indicates that our model is learning correctly. Furthermore, the closeness of the training and validation curves indicate that our model is not overfitting, but generalising well to unseen data. Finally, we assess the performance of our model on the test dataset."
   ]
  },
  {
   "cell_type": "code",
   "execution_count": 21,
   "id": "c59797ca",
   "metadata": {},
   "outputs": [
    {
     "name": "stdout",
     "output_type": "stream",
     "text": [
      "313/313 [==============================] - 2s 5ms/step - loss: 0.3413 - accuracy: 0.8774\n"
     ]
    },
    {
     "data": {
      "text/plain": [
       "[0.3412894606590271, 0.8773999810218811]"
      ]
     },
     "execution_count": 21,
     "metadata": {},
     "output_type": "execute_result"
    }
   ],
   "source": [
    "model.evaluate(X_test, y_test)"
   ]
  },
  {
   "cell_type": "markdown",
   "id": "b83016f7",
   "metadata": {},
   "source": [
    "## Fine-Tuning the Model"
   ]
  },
  {
   "cell_type": "markdown",
   "id": "e14ab159",
   "metadata": {},
   "source": [
    "Having built our base model, we are now going to fine-tune our hyperparameters. For this we will define a function to build the model, and then use a scikit-learn wrapper so that we can use GridSearchCV for our grid search."
   ]
  },
  {
   "cell_type": "code",
   "execution_count": 22,
   "id": "81110e23",
   "metadata": {},
   "outputs": [],
   "source": [
    "def build_model(n_neurons, opt_type):\n",
    "    print('n_neurons: {0}, opt_type: {1}'.format(n_neurons, opt_type))\n",
    "    model = keras.models.Sequential()\n",
    "    model.add(Conv2D(32, kernel_size=(3,3), strides=1, padding=\"same\", activation=\"relu\", input_shape=(28,28,1)))\n",
    "    model.add(MaxPooling2D(pool_size=(2,2)))\n",
    "    model.add(Flatten())\n",
    "    model.add(Dense(n_neurons, activation=\"relu\"))\n",
    "    model.add(Dense(10, activation=\"softmax\"))\n",
    "    \n",
    "    model.compile(loss=\"sparse_categorical_crossentropy\", optimizer=opt_type, metrics=[\"accuracy\"])\n",
    "    \n",
    "    return model"
   ]
  },
  {
   "cell_type": "code",
   "execution_count": 23,
   "id": "4aa605c6",
   "metadata": {},
   "outputs": [
    {
     "name": "stderr",
     "output_type": "stream",
     "text": [
      "/var/folders/f_/3vhcqh5j54n5rh_ffnt1jks80000gn/T/ipykernel_14130/1566543695.py:1: DeprecationWarning: KerasClassifier is deprecated, use Sci-Keras (https://github.com/adriangb/scikeras) instead. See https://www.adriangb.com/scikeras/stable/migration.html for help migrating.\n",
      "  keras_classifier = keras.wrappers.scikit_learn.KerasClassifier(build_model)\n"
     ]
    }
   ],
   "source": [
    "keras_classifier = keras.wrappers.scikit_learn.KerasClassifier(build_model)"
   ]
  },
  {
   "cell_type": "markdown",
   "id": "93925c0a",
   "metadata": {},
   "source": [
    "While there are numerous hyperparameters we could optimise, for the sake of computational time and complexity, we are only going to optimise two, the number of neurons in the dense layer, and the optimiser used for the model. Adam is another popular optimiser that is very fast and efficient by combining the AdaGrad and RMSProp algorithms, which themselves extend on SGD."
   ]
  },
  {
   "cell_type": "code",
   "execution_count": 24,
   "id": "83989e92",
   "metadata": {},
   "outputs": [],
   "source": [
    "parameters = {\n",
    "    \"n_neurons\": [100, 200],\n",
    "    \"opt_type\": [\"sgd\", \"adam\"]\n",
    "}"
   ]
  },
  {
   "cell_type": "markdown",
   "id": "e600ec66",
   "metadata": {},
   "source": [
    "For 4 potential hyperparameters, using 5-fold cross validaiton, 10 epochs and roughly 20 seconds training per epoch, the grid search should take just over an hour. However, using the more computationally intensive adam optimiser is likely to extend this runtime."
   ]
  },
  {
   "cell_type": "code",
   "execution_count": 25,
   "id": "01d487f3",
   "metadata": {},
   "outputs": [
    {
     "name": "stdout",
     "output_type": "stream",
     "text": [
      "n_neurons: 100, opt_type: sgd\n",
      "Epoch 1/10\n",
      "1250/1250 [==============================] - 19s 15ms/step - loss: 0.7690 - accuracy: 0.7366 - val_loss: 0.5145 - val_accuracy: 0.8202\n",
      "Epoch 2/10\n",
      "1250/1250 [==============================] - 20s 16ms/step - loss: 0.5013 - accuracy: 0.8225 - val_loss: 0.5056 - val_accuracy: 0.8183\n",
      "Epoch 3/10\n",
      "1250/1250 [==============================] - 19s 16ms/step - loss: 0.4497 - accuracy: 0.8399 - val_loss: 0.4275 - val_accuracy: 0.8508\n",
      "Epoch 4/10\n",
      "1250/1250 [==============================] - 19s 15ms/step - loss: 0.4155 - accuracy: 0.8519 - val_loss: 0.3981 - val_accuracy: 0.8612\n",
      "Epoch 5/10\n",
      "1250/1250 [==============================] - 19s 15ms/step - loss: 0.3933 - accuracy: 0.8623 - val_loss: 0.3881 - val_accuracy: 0.8646\n",
      "Epoch 6/10\n",
      "1250/1250 [==============================] - 20s 16ms/step - loss: 0.3728 - accuracy: 0.8676 - val_loss: 0.3632 - val_accuracy: 0.8713\n",
      "Epoch 7/10\n",
      "1250/1250 [==============================] - 19s 15ms/step - loss: 0.3568 - accuracy: 0.8729 - val_loss: 0.3547 - val_accuracy: 0.8748\n",
      "Epoch 8/10\n",
      "1250/1250 [==============================] - 19s 16ms/step - loss: 0.3421 - accuracy: 0.8783 - val_loss: 0.3478 - val_accuracy: 0.8752\n",
      "Epoch 9/10\n",
      "1250/1250 [==============================] - 19s 15ms/step - loss: 0.3299 - accuracy: 0.8832 - val_loss: 0.3448 - val_accuracy: 0.8757\n",
      "Epoch 10/10\n",
      "1250/1250 [==============================] - 20s 16ms/step - loss: 0.3185 - accuracy: 0.8850 - val_loss: 0.3288 - val_accuracy: 0.8839\n",
      "313/313 [==============================] - 2s 6ms/step - loss: 0.3335 - accuracy: 0.8812\n",
      "n_neurons: 100, opt_type: sgd\n",
      "Epoch 1/10\n",
      "1250/1250 [==============================] - 20s 15ms/step - loss: 0.7701 - accuracy: 0.7368 - val_loss: 0.5616 - val_accuracy: 0.7894\n",
      "Epoch 2/10\n",
      "1250/1250 [==============================] - 19s 15ms/step - loss: 0.5189 - accuracy: 0.8123 - val_loss: 0.5274 - val_accuracy: 0.8053\n",
      "Epoch 3/10\n",
      "1250/1250 [==============================] - 19s 15ms/step - loss: 0.4663 - accuracy: 0.8332 - val_loss: 0.4355 - val_accuracy: 0.8456\n",
      "Epoch 4/10\n",
      "1250/1250 [==============================] - 19s 15ms/step - loss: 0.4329 - accuracy: 0.8464 - val_loss: 0.4121 - val_accuracy: 0.8515\n",
      "Epoch 5/10\n",
      "1250/1250 [==============================] - 19s 15ms/step - loss: 0.4094 - accuracy: 0.8544 - val_loss: 0.4031 - val_accuracy: 0.8554\n",
      "Epoch 6/10\n",
      "1250/1250 [==============================] - 19s 15ms/step - loss: 0.3883 - accuracy: 0.8611 - val_loss: 0.3671 - val_accuracy: 0.8712\n",
      "Epoch 7/10\n",
      "1250/1250 [==============================] - 19s 15ms/step - loss: 0.3718 - accuracy: 0.8673 - val_loss: 0.3778 - val_accuracy: 0.8659\n",
      "Epoch 8/10\n",
      "1250/1250 [==============================] - 20s 16ms/step - loss: 0.3570 - accuracy: 0.8731 - val_loss: 0.3468 - val_accuracy: 0.8780\n",
      "Epoch 9/10\n",
      "1250/1250 [==============================] - 19s 15ms/step - loss: 0.3439 - accuracy: 0.8766 - val_loss: 0.3535 - val_accuracy: 0.8764\n",
      "Epoch 10/10\n",
      "1250/1250 [==============================] - 19s 15ms/step - loss: 0.3327 - accuracy: 0.8793 - val_loss: 0.3348 - val_accuracy: 0.8823\n",
      "313/313 [==============================] - 2s 6ms/step - loss: 0.3384 - accuracy: 0.8850\n",
      "n_neurons: 100, opt_type: sgd\n",
      "Epoch 1/10\n",
      "1250/1250 [==============================] - 20s 16ms/step - loss: 0.7612 - accuracy: 0.7389 - val_loss: 0.5749 - val_accuracy: 0.7897\n",
      "Epoch 2/10\n",
      "1250/1250 [==============================] - 19s 16ms/step - loss: 0.5116 - accuracy: 0.8175 - val_loss: 0.4622 - val_accuracy: 0.8346\n",
      "Epoch 3/10\n",
      "1250/1250 [==============================] - 20s 16ms/step - loss: 0.4578 - accuracy: 0.8371 - val_loss: 0.4294 - val_accuracy: 0.8466\n",
      "Epoch 4/10\n",
      "1250/1250 [==============================] - 20s 16ms/step - loss: 0.4219 - accuracy: 0.8507 - val_loss: 0.4076 - val_accuracy: 0.8515\n",
      "Epoch 5/10\n",
      "1250/1250 [==============================] - 20s 16ms/step - loss: 0.3967 - accuracy: 0.8592 - val_loss: 0.3839 - val_accuracy: 0.8659\n",
      "Epoch 6/10\n",
      "1250/1250 [==============================] - 20s 16ms/step - loss: 0.3761 - accuracy: 0.8650 - val_loss: 0.3643 - val_accuracy: 0.8720\n",
      "Epoch 7/10\n",
      "1250/1250 [==============================] - 20s 16ms/step - loss: 0.3589 - accuracy: 0.8719 - val_loss: 0.3588 - val_accuracy: 0.8733\n",
      "Epoch 8/10\n",
      "1250/1250 [==============================] - 21s 17ms/step - loss: 0.3442 - accuracy: 0.8766 - val_loss: 0.3478 - val_accuracy: 0.8766\n",
      "Epoch 9/10\n",
      "1250/1250 [==============================] - 20s 16ms/step - loss: 0.3310 - accuracy: 0.8803 - val_loss: 0.3355 - val_accuracy: 0.8820\n",
      "Epoch 10/10\n",
      "1250/1250 [==============================] - 19s 15ms/step - loss: 0.3206 - accuracy: 0.8837 - val_loss: 0.3330 - val_accuracy: 0.8814\n",
      "313/313 [==============================] - 2s 5ms/step - loss: 0.3316 - accuracy: 0.8822\n",
      "n_neurons: 100, opt_type: sgd\n",
      "Epoch 1/10\n",
      "1250/1250 [==============================] - 20s 15ms/step - loss: 0.7803 - accuracy: 0.7331 - val_loss: 0.5692 - val_accuracy: 0.7908\n",
      "Epoch 2/10\n",
      "1250/1250 [==============================] - 32s 26ms/step - loss: 0.5196 - accuracy: 0.8141 - val_loss: 0.4822 - val_accuracy: 0.8253\n",
      "Epoch 3/10\n",
      "1250/1250 [==============================] - 28s 22ms/step - loss: 0.4665 - accuracy: 0.8325 - val_loss: 0.4282 - val_accuracy: 0.8514\n",
      "Epoch 4/10\n",
      "1250/1250 [==============================] - 24s 19ms/step - loss: 0.4304 - accuracy: 0.8479 - val_loss: 0.4224 - val_accuracy: 0.8455\n",
      "Epoch 5/10\n",
      "1250/1250 [==============================] - 24s 19ms/step - loss: 0.4049 - accuracy: 0.8570 - val_loss: 0.3893 - val_accuracy: 0.8602\n",
      "Epoch 6/10\n",
      "1250/1250 [==============================] - 24s 19ms/step - loss: 0.3853 - accuracy: 0.8623 - val_loss: 0.4021 - val_accuracy: 0.8531\n",
      "Epoch 7/10\n",
      "1250/1250 [==============================] - 27s 22ms/step - loss: 0.3666 - accuracy: 0.8680 - val_loss: 0.3723 - val_accuracy: 0.8665\n",
      "Epoch 8/10\n",
      "1250/1250 [==============================] - 22s 18ms/step - loss: 0.3528 - accuracy: 0.8757 - val_loss: 0.3515 - val_accuracy: 0.8743\n",
      "Epoch 9/10\n",
      "1250/1250 [==============================] - 27s 21ms/step - loss: 0.3408 - accuracy: 0.8780 - val_loss: 0.3669 - val_accuracy: 0.8674\n",
      "Epoch 10/10\n",
      "1250/1250 [==============================] - 23s 18ms/step - loss: 0.3294 - accuracy: 0.8818 - val_loss: 0.3412 - val_accuracy: 0.8775\n",
      "313/313 [==============================] - 2s 6ms/step - loss: 0.3398 - accuracy: 0.8792\n",
      "n_neurons: 100, opt_type: sgd\n",
      "Epoch 1/10\n",
      "1250/1250 [==============================] - 26s 21ms/step - loss: 0.7647 - accuracy: 0.7418 - val_loss: 0.5408 - val_accuracy: 0.8121\n",
      "Epoch 2/10\n",
      "1250/1250 [==============================] - 25s 20ms/step - loss: 0.5074 - accuracy: 0.8183 - val_loss: 0.4810 - val_accuracy: 0.8251\n",
      "Epoch 3/10\n",
      "1250/1250 [==============================] - 25s 20ms/step - loss: 0.4530 - accuracy: 0.8404 - val_loss: 0.4261 - val_accuracy: 0.8538\n",
      "Epoch 4/10\n",
      "1250/1250 [==============================] - 20s 16ms/step - loss: 0.4175 - accuracy: 0.8535 - val_loss: 0.3982 - val_accuracy: 0.8608\n",
      "Epoch 5/10\n",
      "1250/1250 [==============================] - 19s 16ms/step - loss: 0.3913 - accuracy: 0.8617 - val_loss: 0.3722 - val_accuracy: 0.8710\n",
      "Epoch 6/10\n",
      "1250/1250 [==============================] - 20s 16ms/step - loss: 0.3721 - accuracy: 0.8677 - val_loss: 0.3993 - val_accuracy: 0.8528\n",
      "Epoch 7/10\n",
      "1250/1250 [==============================] - 20s 16ms/step - loss: 0.3535 - accuracy: 0.8758 - val_loss: 0.3657 - val_accuracy: 0.8713\n",
      "Epoch 8/10\n",
      "1250/1250 [==============================] - 20s 16ms/step - loss: 0.3393 - accuracy: 0.8801 - val_loss: 0.3456 - val_accuracy: 0.8792\n",
      "Epoch 9/10\n",
      "1250/1250 [==============================] - 20s 16ms/step - loss: 0.3287 - accuracy: 0.8831 - val_loss: 0.3419 - val_accuracy: 0.8799\n",
      "Epoch 10/10\n",
      "1250/1250 [==============================] - 21s 17ms/step - loss: 0.3170 - accuracy: 0.8867 - val_loss: 0.3309 - val_accuracy: 0.8822\n",
      "313/313 [==============================] - 2s 7ms/step - loss: 0.3427 - accuracy: 0.8751\n",
      "n_neurons: 100, opt_type: adam\n",
      "Epoch 1/10\n",
      "1250/1250 [==============================] - 21s 16ms/step - loss: 0.4169 - accuracy: 0.8522 - val_loss: 0.3102 - val_accuracy: 0.8929\n",
      "Epoch 2/10\n",
      "1250/1250 [==============================] - 21s 17ms/step - loss: 0.2792 - accuracy: 0.8989 - val_loss: 0.2786 - val_accuracy: 0.8996\n"
     ]
    },
    {
     "name": "stdout",
     "output_type": "stream",
     "text": [
      "Epoch 3/10\n",
      "1250/1250 [==============================] - 22s 17ms/step - loss: 0.2355 - accuracy: 0.9143 - val_loss: 0.2630 - val_accuracy: 0.9042\n",
      "Epoch 4/10\n",
      "1250/1250 [==============================] - 21s 16ms/step - loss: 0.2043 - accuracy: 0.9248 - val_loss: 0.2539 - val_accuracy: 0.9058\n",
      "Epoch 5/10\n",
      "1250/1250 [==============================] - 21s 17ms/step - loss: 0.1728 - accuracy: 0.9386 - val_loss: 0.2627 - val_accuracy: 0.9099\n",
      "Epoch 6/10\n",
      "1250/1250 [==============================] - 21s 16ms/step - loss: 0.1502 - accuracy: 0.9449 - val_loss: 0.2453 - val_accuracy: 0.9140\n",
      "Epoch 7/10\n",
      "1250/1250 [==============================] - 21s 17ms/step - loss: 0.1319 - accuracy: 0.9513 - val_loss: 0.2662 - val_accuracy: 0.9122\n",
      "Epoch 8/10\n",
      "1250/1250 [==============================] - 21s 17ms/step - loss: 0.1113 - accuracy: 0.9597 - val_loss: 0.2635 - val_accuracy: 0.9185\n",
      "Epoch 9/10\n",
      "1250/1250 [==============================] - 24s 19ms/step - loss: 0.0942 - accuracy: 0.9653 - val_loss: 0.2762 - val_accuracy: 0.9158\n",
      "Epoch 10/10\n",
      "1250/1250 [==============================] - 25s 20ms/step - loss: 0.0793 - accuracy: 0.9711 - val_loss: 0.2983 - val_accuracy: 0.9186\n",
      "313/313 [==============================] - 2s 6ms/step - loss: 0.3057 - accuracy: 0.9130\n",
      "n_neurons: 100, opt_type: adam\n",
      "Epoch 1/10\n",
      "1250/1250 [==============================] - 29s 23ms/step - loss: 0.4220 - accuracy: 0.8504 - val_loss: 0.3226 - val_accuracy: 0.8845\n",
      "Epoch 2/10\n",
      "1250/1250 [==============================] - 23s 19ms/step - loss: 0.2853 - accuracy: 0.8951 - val_loss: 0.2763 - val_accuracy: 0.9016\n",
      "Epoch 3/10\n",
      "1250/1250 [==============================] - 25s 20ms/step - loss: 0.2412 - accuracy: 0.9124 - val_loss: 0.2592 - val_accuracy: 0.9033\n",
      "Epoch 4/10\n",
      "1250/1250 [==============================] - 28s 22ms/step - loss: 0.2080 - accuracy: 0.9231 - val_loss: 0.2611 - val_accuracy: 0.9055\n",
      "Epoch 5/10\n",
      "1250/1250 [==============================] - 26s 21ms/step - loss: 0.1788 - accuracy: 0.9348 - val_loss: 0.2554 - val_accuracy: 0.9101\n",
      "Epoch 6/10\n",
      "1250/1250 [==============================] - 26s 21ms/step - loss: 0.1554 - accuracy: 0.9433 - val_loss: 0.2445 - val_accuracy: 0.9148\n",
      "Epoch 7/10\n",
      "1250/1250 [==============================] - 27s 22ms/step - loss: 0.1352 - accuracy: 0.9496 - val_loss: 0.2616 - val_accuracy: 0.9102\n",
      "Epoch 8/10\n",
      "1250/1250 [==============================] - 25s 20ms/step - loss: 0.1149 - accuracy: 0.9584 - val_loss: 0.2545 - val_accuracy: 0.9162\n",
      "Epoch 9/10\n",
      "1250/1250 [==============================] - 31s 25ms/step - loss: 0.0982 - accuracy: 0.9643 - val_loss: 0.2837 - val_accuracy: 0.9122\n",
      "Epoch 10/10\n",
      "1250/1250 [==============================] - 26s 21ms/step - loss: 0.0838 - accuracy: 0.9692 - val_loss: 0.2787 - val_accuracy: 0.9160\n",
      "313/313 [==============================] - 2s 6ms/step - loss: 0.2889 - accuracy: 0.9134\n",
      "n_neurons: 100, opt_type: adam\n",
      "Epoch 1/10\n",
      "1250/1250 [==============================] - 25s 20ms/step - loss: 0.4365 - accuracy: 0.8450 - val_loss: 0.3245 - val_accuracy: 0.8905\n",
      "Epoch 2/10\n",
      "1250/1250 [==============================] - 25s 20ms/step - loss: 0.2926 - accuracy: 0.8936 - val_loss: 0.2781 - val_accuracy: 0.9026\n",
      "Epoch 3/10\n",
      "1250/1250 [==============================] - 21s 17ms/step - loss: 0.2466 - accuracy: 0.9100 - val_loss: 0.2624 - val_accuracy: 0.9064\n",
      "Epoch 4/10\n",
      "1250/1250 [==============================] - 25s 20ms/step - loss: 0.2148 - accuracy: 0.9207 - val_loss: 0.2745 - val_accuracy: 0.9006\n",
      "Epoch 5/10\n",
      "1250/1250 [==============================] - 23s 18ms/step - loss: 0.1872 - accuracy: 0.9297 - val_loss: 0.2587 - val_accuracy: 0.9090\n",
      "Epoch 6/10\n",
      "1250/1250 [==============================] - 24s 19ms/step - loss: 0.1615 - accuracy: 0.9402 - val_loss: 0.2429 - val_accuracy: 0.9132\n",
      "Epoch 7/10\n",
      "1250/1250 [==============================] - 23s 18ms/step - loss: 0.1406 - accuracy: 0.9482 - val_loss: 0.2642 - val_accuracy: 0.9131\n",
      "Epoch 8/10\n",
      "1250/1250 [==============================] - 24s 19ms/step - loss: 0.1231 - accuracy: 0.9542 - val_loss: 0.2629 - val_accuracy: 0.9151\n",
      "Epoch 9/10\n",
      "1250/1250 [==============================] - 20s 16ms/step - loss: 0.1040 - accuracy: 0.9614 - val_loss: 0.2780 - val_accuracy: 0.9100\n",
      "Epoch 10/10\n",
      "1250/1250 [==============================] - 22s 18ms/step - loss: 0.0914 - accuracy: 0.9663 - val_loss: 0.2782 - val_accuracy: 0.9169\n",
      "313/313 [==============================] - 2s 7ms/step - loss: 0.2950 - accuracy: 0.9183\n",
      "n_neurons: 100, opt_type: adam\n",
      "Epoch 1/10\n",
      "1250/1250 [==============================] - 23s 18ms/step - loss: 0.4162 - accuracy: 0.8518 - val_loss: 0.3193 - val_accuracy: 0.8873\n",
      "Epoch 2/10\n",
      "1250/1250 [==============================] - 23s 19ms/step - loss: 0.2803 - accuracy: 0.8979 - val_loss: 0.2726 - val_accuracy: 0.9037\n",
      "Epoch 3/10\n",
      "1250/1250 [==============================] - 23s 18ms/step - loss: 0.2352 - accuracy: 0.9149 - val_loss: 0.2592 - val_accuracy: 0.9090\n",
      "Epoch 4/10\n",
      "1250/1250 [==============================] - 22s 18ms/step - loss: 0.2020 - accuracy: 0.9260 - val_loss: 0.2576 - val_accuracy: 0.9085\n",
      "Epoch 5/10\n",
      "1250/1250 [==============================] - 23s 19ms/step - loss: 0.1758 - accuracy: 0.9352 - val_loss: 0.2423 - val_accuracy: 0.9149\n",
      "Epoch 6/10\n",
      "1250/1250 [==============================] - 24s 19ms/step - loss: 0.1499 - accuracy: 0.9440 - val_loss: 0.2474 - val_accuracy: 0.9148\n",
      "Epoch 7/10\n",
      "1250/1250 [==============================] - 25s 20ms/step - loss: 0.1278 - accuracy: 0.9522 - val_loss: 0.2527 - val_accuracy: 0.9182\n",
      "Epoch 8/10\n",
      "1250/1250 [==============================] - 27s 21ms/step - loss: 0.1114 - accuracy: 0.9594 - val_loss: 0.2673 - val_accuracy: 0.9169\n",
      "Epoch 9/10\n",
      "1250/1250 [==============================] - 34s 28ms/step - loss: 0.0947 - accuracy: 0.9656 - val_loss: 0.3023 - val_accuracy: 0.9086\n",
      "Epoch 10/10\n",
      "1250/1250 [==============================] - 24s 20ms/step - loss: 0.0804 - accuracy: 0.9701 - val_loss: 0.2909 - val_accuracy: 0.9155\n",
      "313/313 [==============================] - 2s 7ms/step - loss: 0.3018 - accuracy: 0.9151\n",
      "n_neurons: 100, opt_type: adam\n",
      "Epoch 1/10\n",
      "1250/1250 [==============================] - 25s 20ms/step - loss: 0.4287 - accuracy: 0.8501 - val_loss: 0.3224 - val_accuracy: 0.8886\n",
      "Epoch 2/10\n",
      "1250/1250 [==============================] - 24s 19ms/step - loss: 0.2894 - accuracy: 0.8953 - val_loss: 0.2861 - val_accuracy: 0.8958\n",
      "Epoch 3/10\n",
      "1250/1250 [==============================] - 21s 17ms/step - loss: 0.2414 - accuracy: 0.9129 - val_loss: 0.2632 - val_accuracy: 0.9043\n",
      "Epoch 4/10\n",
      "1250/1250 [==============================] - 21s 17ms/step - loss: 0.2114 - accuracy: 0.9228 - val_loss: 0.2528 - val_accuracy: 0.9097\n",
      "Epoch 5/10\n",
      "1250/1250 [==============================] - 22s 18ms/step - loss: 0.1826 - accuracy: 0.9320 - val_loss: 0.2645 - val_accuracy: 0.9072\n",
      "Epoch 6/10\n",
      "1250/1250 [==============================] - 22s 17ms/step - loss: 0.1589 - accuracy: 0.9418 - val_loss: 0.2451 - val_accuracy: 0.9150\n",
      "Epoch 7/10\n",
      "1250/1250 [==============================] - 22s 18ms/step - loss: 0.1364 - accuracy: 0.9497 - val_loss: 0.2512 - val_accuracy: 0.9172\n",
      "Epoch 8/10\n",
      "1250/1250 [==============================] - 23s 18ms/step - loss: 0.1167 - accuracy: 0.9581 - val_loss: 0.2779 - val_accuracy: 0.9120\n",
      "Epoch 9/10\n",
      "1250/1250 [==============================] - 21s 17ms/step - loss: 0.1011 - accuracy: 0.9639 - val_loss: 0.2822 - val_accuracy: 0.9139\n",
      "Epoch 10/10\n",
      "1250/1250 [==============================] - 23s 19ms/step - loss: 0.0882 - accuracy: 0.9681 - val_loss: 0.2762 - val_accuracy: 0.9188\n",
      "313/313 [==============================] - 2s 6ms/step - loss: 0.3074 - accuracy: 0.9104\n",
      "n_neurons: 200, opt_type: sgd\n",
      "Epoch 1/10\n",
      "1250/1250 [==============================] - 29s 23ms/step - loss: 0.7558 - accuracy: 0.7453 - val_loss: 0.4998 - val_accuracy: 0.8266\n",
      "Epoch 2/10\n",
      "1250/1250 [==============================] - 26s 21ms/step - loss: 0.4900 - accuracy: 0.8266 - val_loss: 0.4859 - val_accuracy: 0.8251\n",
      "Epoch 3/10\n",
      "1250/1250 [==============================] - 23s 18ms/step - loss: 0.4366 - accuracy: 0.8440 - val_loss: 0.4154 - val_accuracy: 0.8539\n",
      "Epoch 4/10\n",
      "1250/1250 [==============================] - 24s 19ms/step - loss: 0.4014 - accuracy: 0.8575 - val_loss: 0.3868 - val_accuracy: 0.8632\n"
     ]
    },
    {
     "name": "stdout",
     "output_type": "stream",
     "text": [
      "Epoch 5/10\n",
      "1250/1250 [==============================] - 22s 17ms/step - loss: 0.3788 - accuracy: 0.8662 - val_loss: 0.3768 - val_accuracy: 0.8677\n",
      "Epoch 6/10\n",
      "1250/1250 [==============================] - 22s 18ms/step - loss: 0.3580 - accuracy: 0.8731 - val_loss: 0.3487 - val_accuracy: 0.8767\n",
      "Epoch 7/10\n",
      "1250/1250 [==============================] - 21s 17ms/step - loss: 0.3433 - accuracy: 0.8780 - val_loss: 0.3429 - val_accuracy: 0.8795\n",
      "Epoch 8/10\n",
      "1250/1250 [==============================] - 22s 18ms/step - loss: 0.3288 - accuracy: 0.8832 - val_loss: 0.3359 - val_accuracy: 0.8814\n",
      "Epoch 9/10\n",
      "1250/1250 [==============================] - 22s 18ms/step - loss: 0.3172 - accuracy: 0.8870 - val_loss: 0.3352 - val_accuracy: 0.8805\n",
      "Epoch 10/10\n",
      "1250/1250 [==============================] - 22s 18ms/step - loss: 0.3063 - accuracy: 0.8895 - val_loss: 0.3186 - val_accuracy: 0.8892\n",
      "313/313 [==============================] - 2s 6ms/step - loss: 0.3219 - accuracy: 0.8849\n",
      "n_neurons: 200, opt_type: sgd\n",
      "Epoch 1/10\n",
      "1250/1250 [==============================] - 22s 17ms/step - loss: 0.7512 - accuracy: 0.7454 - val_loss: 0.5511 - val_accuracy: 0.7970\n",
      "Epoch 2/10\n",
      "1250/1250 [==============================] - 22s 18ms/step - loss: 0.5058 - accuracy: 0.8191 - val_loss: 0.5120 - val_accuracy: 0.8149\n",
      "Epoch 3/10\n",
      "1250/1250 [==============================] - 22s 18ms/step - loss: 0.4493 - accuracy: 0.8398 - val_loss: 0.4195 - val_accuracy: 0.8522\n",
      "Epoch 4/10\n",
      "1250/1250 [==============================] - 22s 17ms/step - loss: 0.4141 - accuracy: 0.8533 - val_loss: 0.3971 - val_accuracy: 0.8560\n",
      "Epoch 5/10\n",
      "1250/1250 [==============================] - 23s 18ms/step - loss: 0.3905 - accuracy: 0.8613 - val_loss: 0.3836 - val_accuracy: 0.8651\n",
      "Epoch 6/10\n",
      "1250/1250 [==============================] - 22s 17ms/step - loss: 0.3691 - accuracy: 0.8683 - val_loss: 0.3519 - val_accuracy: 0.8764\n",
      "Epoch 7/10\n",
      "1250/1250 [==============================] - 22s 18ms/step - loss: 0.3533 - accuracy: 0.8748 - val_loss: 0.3665 - val_accuracy: 0.8704\n",
      "Epoch 8/10\n",
      "1250/1250 [==============================] - 22s 17ms/step - loss: 0.3390 - accuracy: 0.8784 - val_loss: 0.3362 - val_accuracy: 0.8792\n",
      "Epoch 9/10\n",
      "1250/1250 [==============================] - 22s 17ms/step - loss: 0.3258 - accuracy: 0.8828 - val_loss: 0.3420 - val_accuracy: 0.8782\n",
      "Epoch 10/10\n",
      "1250/1250 [==============================] - 22s 18ms/step - loss: 0.3151 - accuracy: 0.8866 - val_loss: 0.3218 - val_accuracy: 0.8861\n",
      "313/313 [==============================] - 2s 6ms/step - loss: 0.3202 - accuracy: 0.8888\n",
      "n_neurons: 200, opt_type: sgd\n",
      "Epoch 1/10\n",
      "1250/1250 [==============================] - 24s 19ms/step - loss: 0.7638 - accuracy: 0.7393 - val_loss: 0.5575 - val_accuracy: 0.7948\n",
      "Epoch 2/10\n",
      "1250/1250 [==============================] - 22s 17ms/step - loss: 0.5070 - accuracy: 0.8193 - val_loss: 0.4559 - val_accuracy: 0.8369\n",
      "Epoch 3/10\n",
      "1250/1250 [==============================] - 23s 18ms/step - loss: 0.4546 - accuracy: 0.8379 - val_loss: 0.4280 - val_accuracy: 0.8485\n",
      "Epoch 4/10\n",
      "1250/1250 [==============================] - 23s 18ms/step - loss: 0.4210 - accuracy: 0.8500 - val_loss: 0.4013 - val_accuracy: 0.8527\n",
      "Epoch 5/10\n",
      "1250/1250 [==============================] - 23s 18ms/step - loss: 0.3957 - accuracy: 0.8600 - val_loss: 0.3800 - val_accuracy: 0.8665\n",
      "Epoch 6/10\n",
      "1250/1250 [==============================] - 23s 18ms/step - loss: 0.3758 - accuracy: 0.8665 - val_loss: 0.3625 - val_accuracy: 0.8723\n",
      "Epoch 7/10\n",
      "1250/1250 [==============================] - 23s 18ms/step - loss: 0.3593 - accuracy: 0.8716 - val_loss: 0.3589 - val_accuracy: 0.8740\n",
      "Epoch 8/10\n",
      "1250/1250 [==============================] - 23s 18ms/step - loss: 0.3449 - accuracy: 0.8773 - val_loss: 0.3438 - val_accuracy: 0.8801\n",
      "Epoch 9/10\n",
      "1250/1250 [==============================] - 22s 18ms/step - loss: 0.3311 - accuracy: 0.8810 - val_loss: 0.3303 - val_accuracy: 0.8857\n",
      "Epoch 10/10\n",
      "1250/1250 [==============================] - 23s 18ms/step - loss: 0.3203 - accuracy: 0.8848 - val_loss: 0.3287 - val_accuracy: 0.8831\n",
      "313/313 [==============================] - 2s 6ms/step - loss: 0.3282 - accuracy: 0.8828\n",
      "n_neurons: 200, opt_type: sgd\n",
      "Epoch 1/10\n",
      "1250/1250 [==============================] - 24s 18ms/step - loss: 0.7488 - accuracy: 0.7464 - val_loss: 0.5351 - val_accuracy: 0.8049\n",
      "Epoch 2/10\n",
      "1250/1250 [==============================] - 22s 17ms/step - loss: 0.5009 - accuracy: 0.8199 - val_loss: 0.4680 - val_accuracy: 0.8292\n",
      "Epoch 3/10\n",
      "1250/1250 [==============================] - 21s 17ms/step - loss: 0.4516 - accuracy: 0.8383 - val_loss: 0.4126 - val_accuracy: 0.8557\n",
      "Epoch 4/10\n",
      "1250/1250 [==============================] - 21s 17ms/step - loss: 0.4167 - accuracy: 0.8536 - val_loss: 0.4143 - val_accuracy: 0.8466\n",
      "Epoch 5/10\n",
      "1250/1250 [==============================] - 22s 18ms/step - loss: 0.3906 - accuracy: 0.8625 - val_loss: 0.3736 - val_accuracy: 0.8674\n",
      "Epoch 6/10\n",
      "1250/1250 [==============================] - 22s 18ms/step - loss: 0.3715 - accuracy: 0.8669 - val_loss: 0.3794 - val_accuracy: 0.8633\n",
      "Epoch 7/10\n",
      "1250/1250 [==============================] - 22s 17ms/step - loss: 0.3531 - accuracy: 0.8732 - val_loss: 0.3694 - val_accuracy: 0.8662\n",
      "Epoch 8/10\n",
      "1250/1250 [==============================] - 22s 17ms/step - loss: 0.3400 - accuracy: 0.8792 - val_loss: 0.3434 - val_accuracy: 0.8781\n",
      "Epoch 9/10\n",
      "1250/1250 [==============================] - 22s 18ms/step - loss: 0.3277 - accuracy: 0.8820 - val_loss: 0.3503 - val_accuracy: 0.8762\n",
      "Epoch 10/10\n",
      "1250/1250 [==============================] - 22s 18ms/step - loss: 0.3171 - accuracy: 0.8857 - val_loss: 0.3266 - val_accuracy: 0.8822\n",
      "313/313 [==============================] - 2s 6ms/step - loss: 0.3281 - accuracy: 0.8829\n",
      "n_neurons: 200, opt_type: sgd\n",
      "Epoch 1/10\n",
      "1250/1250 [==============================] - 23s 18ms/step - loss: 0.7378 - accuracy: 0.7498 - val_loss: 0.5214 - val_accuracy: 0.8182\n",
      "Epoch 2/10\n",
      "1250/1250 [==============================] - 22s 18ms/step - loss: 0.4955 - accuracy: 0.8218 - val_loss: 0.4718 - val_accuracy: 0.8282\n",
      "Epoch 3/10\n",
      "1250/1250 [==============================] - 22s 18ms/step - loss: 0.4431 - accuracy: 0.8429 - val_loss: 0.4256 - val_accuracy: 0.8513\n",
      "Epoch 4/10\n",
      "1250/1250 [==============================] - 22s 18ms/step - loss: 0.4091 - accuracy: 0.8559 - val_loss: 0.3904 - val_accuracy: 0.8614\n",
      "Epoch 5/10\n",
      "1250/1250 [==============================] - 23s 18ms/step - loss: 0.3839 - accuracy: 0.8633 - val_loss: 0.3658 - val_accuracy: 0.8711\n",
      "Epoch 6/10\n",
      "1250/1250 [==============================] - 23s 18ms/step - loss: 0.3651 - accuracy: 0.8692 - val_loss: 0.3927 - val_accuracy: 0.8570\n",
      "Epoch 7/10\n",
      "1250/1250 [==============================] - 23s 18ms/step - loss: 0.3468 - accuracy: 0.8756 - val_loss: 0.3582 - val_accuracy: 0.8733\n",
      "Epoch 8/10\n",
      "1250/1250 [==============================] - 24s 19ms/step - loss: 0.3327 - accuracy: 0.8813 - val_loss: 0.3392 - val_accuracy: 0.8800\n",
      "Epoch 9/10\n",
      "1250/1250 [==============================] - 23s 18ms/step - loss: 0.3219 - accuracy: 0.8839 - val_loss: 0.3412 - val_accuracy: 0.8805\n",
      "Epoch 10/10\n",
      "1250/1250 [==============================] - 22s 18ms/step - loss: 0.3105 - accuracy: 0.8892 - val_loss: 0.3280 - val_accuracy: 0.8824\n",
      "313/313 [==============================] - 2s 6ms/step - loss: 0.3391 - accuracy: 0.8742\n",
      "n_neurons: 200, opt_type: adam\n",
      "Epoch 1/10\n",
      "1250/1250 [==============================] - 25s 20ms/step - loss: 0.4091 - accuracy: 0.8558 - val_loss: 0.3022 - val_accuracy: 0.8941\n",
      "Epoch 2/10\n",
      "1250/1250 [==============================] - 25s 20ms/step - loss: 0.2726 - accuracy: 0.8999 - val_loss: 0.2731 - val_accuracy: 0.9034\n",
      "Epoch 3/10\n",
      "1250/1250 [==============================] - 25s 20ms/step - loss: 0.2250 - accuracy: 0.9174 - val_loss: 0.2540 - val_accuracy: 0.9041\n",
      "Epoch 4/10\n",
      "1250/1250 [==============================] - 25s 20ms/step - loss: 0.1896 - accuracy: 0.9311 - val_loss: 0.2609 - val_accuracy: 0.9054\n",
      "Epoch 5/10\n",
      "1250/1250 [==============================] - 25s 20ms/step - loss: 0.1564 - accuracy: 0.9434 - val_loss: 0.2487 - val_accuracy: 0.9103\n",
      "Epoch 6/10\n",
      "1250/1250 [==============================] - 26s 21ms/step - loss: 0.1341 - accuracy: 0.9512 - val_loss: 0.2444 - val_accuracy: 0.9160\n"
     ]
    },
    {
     "name": "stdout",
     "output_type": "stream",
     "text": [
      "Epoch 7/10\n",
      "1250/1250 [==============================] - 24s 19ms/step - loss: 0.1141 - accuracy: 0.9570 - val_loss: 0.2646 - val_accuracy: 0.9159\n",
      "Epoch 8/10\n",
      "1250/1250 [==============================] - 24s 19ms/step - loss: 0.0933 - accuracy: 0.9665 - val_loss: 0.2612 - val_accuracy: 0.9158\n",
      "Epoch 9/10\n",
      "1250/1250 [==============================] - 24s 19ms/step - loss: 0.0761 - accuracy: 0.9716 - val_loss: 0.2862 - val_accuracy: 0.9163\n",
      "Epoch 10/10\n",
      "1250/1250 [==============================] - 24s 19ms/step - loss: 0.0648 - accuracy: 0.9768 - val_loss: 0.3027 - val_accuracy: 0.9179\n",
      "313/313 [==============================] - 2s 5ms/step - loss: 0.3294 - accuracy: 0.9136\n",
      "n_neurons: 200, opt_type: adam\n",
      "Epoch 1/10\n",
      "1250/1250 [==============================] - 24s 19ms/step - loss: 0.4086 - accuracy: 0.8553 - val_loss: 0.3021 - val_accuracy: 0.8928\n",
      "Epoch 2/10\n",
      "1250/1250 [==============================] - 24s 19ms/step - loss: 0.2722 - accuracy: 0.9007 - val_loss: 0.2641 - val_accuracy: 0.9036\n",
      "Epoch 3/10\n",
      "1250/1250 [==============================] - 24s 19ms/step - loss: 0.2249 - accuracy: 0.9164 - val_loss: 0.2494 - val_accuracy: 0.9064\n",
      "Epoch 4/10\n",
      "1250/1250 [==============================] - 24s 19ms/step - loss: 0.1882 - accuracy: 0.9312 - val_loss: 0.2452 - val_accuracy: 0.9104\n",
      "Epoch 5/10\n",
      "1250/1250 [==============================] - 24s 19ms/step - loss: 0.1565 - accuracy: 0.9421 - val_loss: 0.2474 - val_accuracy: 0.9135\n",
      "Epoch 6/10\n",
      "1250/1250 [==============================] - 24s 19ms/step - loss: 0.1299 - accuracy: 0.9536 - val_loss: 0.2403 - val_accuracy: 0.9195\n",
      "Epoch 7/10\n",
      "1250/1250 [==============================] - 24s 19ms/step - loss: 0.1088 - accuracy: 0.9597 - val_loss: 0.2662 - val_accuracy: 0.9164\n",
      "Epoch 8/10\n",
      "1250/1250 [==============================] - 24s 19ms/step - loss: 0.0892 - accuracy: 0.9672 - val_loss: 0.2591 - val_accuracy: 0.9202\n",
      "Epoch 9/10\n",
      "1250/1250 [==============================] - 24s 19ms/step - loss: 0.0699 - accuracy: 0.9746 - val_loss: 0.3058 - val_accuracy: 0.9143\n",
      "Epoch 10/10\n",
      "1250/1250 [==============================] - 24s 19ms/step - loss: 0.0571 - accuracy: 0.9794 - val_loss: 0.3113 - val_accuracy: 0.9170\n",
      "313/313 [==============================] - 2s 6ms/step - loss: 0.3131 - accuracy: 0.9195\n",
      "n_neurons: 200, opt_type: adam\n",
      "Epoch 1/10\n",
      "1250/1250 [==============================] - 24s 19ms/step - loss: 0.4073 - accuracy: 0.8550 - val_loss: 0.2958 - val_accuracy: 0.8983\n",
      "Epoch 2/10\n",
      "1250/1250 [==============================] - 24s 19ms/step - loss: 0.2723 - accuracy: 0.8995 - val_loss: 0.2640 - val_accuracy: 0.9046\n",
      "Epoch 3/10\n",
      "1250/1250 [==============================] - 24s 19ms/step - loss: 0.2241 - accuracy: 0.9169 - val_loss: 0.2500 - val_accuracy: 0.9093\n",
      "Epoch 4/10\n",
      "1250/1250 [==============================] - 24s 19ms/step - loss: 0.1905 - accuracy: 0.9302 - val_loss: 0.2695 - val_accuracy: 0.9030\n",
      "Epoch 5/10\n",
      "1250/1250 [==============================] - 25s 20ms/step - loss: 0.1594 - accuracy: 0.9412 - val_loss: 0.2711 - val_accuracy: 0.9069\n",
      "Epoch 6/10\n",
      "1250/1250 [==============================] - 24s 19ms/step - loss: 0.1312 - accuracy: 0.9524 - val_loss: 0.2381 - val_accuracy: 0.9181\n",
      "Epoch 7/10\n",
      "1250/1250 [==============================] - 24s 19ms/step - loss: 0.1082 - accuracy: 0.9602 - val_loss: 0.2527 - val_accuracy: 0.9174\n",
      "Epoch 8/10\n",
      "1250/1250 [==============================] - 24s 19ms/step - loss: 0.0897 - accuracy: 0.9672 - val_loss: 0.2781 - val_accuracy: 0.9170\n",
      "Epoch 9/10\n",
      "1250/1250 [==============================] - 24s 19ms/step - loss: 0.0731 - accuracy: 0.9736 - val_loss: 0.3088 - val_accuracy: 0.9118\n",
      "Epoch 10/10\n",
      "1250/1250 [==============================] - 26s 20ms/step - loss: 0.0582 - accuracy: 0.9792 - val_loss: 0.2955 - val_accuracy: 0.9196\n",
      "313/313 [==============================] - 2s 6ms/step - loss: 0.3230 - accuracy: 0.9184\n",
      "n_neurons: 200, opt_type: adam\n",
      "Epoch 1/10\n",
      "1250/1250 [==============================] - 27s 21ms/step - loss: 0.4082 - accuracy: 0.8543 - val_loss: 0.3100 - val_accuracy: 0.8891\n",
      "Epoch 2/10\n",
      "1250/1250 [==============================] - 25s 20ms/step - loss: 0.2725 - accuracy: 0.9004 - val_loss: 0.2604 - val_accuracy: 0.9081\n",
      "Epoch 3/10\n",
      "1250/1250 [==============================] - 26s 21ms/step - loss: 0.2243 - accuracy: 0.9185 - val_loss: 0.2427 - val_accuracy: 0.9121\n",
      "Epoch 4/10\n",
      "1250/1250 [==============================] - 25s 20ms/step - loss: 0.1896 - accuracy: 0.9307 - val_loss: 0.2462 - val_accuracy: 0.9111\n",
      "Epoch 5/10\n",
      "1250/1250 [==============================] - 25s 20ms/step - loss: 0.1614 - accuracy: 0.9401 - val_loss: 0.2577 - val_accuracy: 0.9111\n",
      "Epoch 6/10\n",
      "1250/1250 [==============================] - 25s 20ms/step - loss: 0.1327 - accuracy: 0.9512 - val_loss: 0.2470 - val_accuracy: 0.9147\n",
      "Epoch 7/10\n",
      "1250/1250 [==============================] - 26s 20ms/step - loss: 0.1090 - accuracy: 0.9607 - val_loss: 0.2534 - val_accuracy: 0.9181\n",
      "Epoch 8/10\n",
      "1250/1250 [==============================] - 25s 20ms/step - loss: 0.0912 - accuracy: 0.9665 - val_loss: 0.2766 - val_accuracy: 0.9171\n",
      "313/313 [==============================] - 2s 6ms/step - loss: 0.2975 - accuracy: 0.9151\n",
      "n_neurons: 200, opt_type: adam\n",
      "Epoch 1/10\n",
      "1250/1250 [==============================] - 26s 20ms/step - loss: 0.4180 - accuracy: 0.8516 - val_loss: 0.3129 - val_accuracy: 0.8885\n",
      "Epoch 2/10\n",
      "1250/1250 [==============================] - 25s 20ms/step - loss: 0.2777 - accuracy: 0.9000 - val_loss: 0.2822 - val_accuracy: 0.8943\n",
      "Epoch 3/10\n",
      "1250/1250 [==============================] - 25s 20ms/step - loss: 0.2264 - accuracy: 0.9173 - val_loss: 0.2547 - val_accuracy: 0.9068\n",
      "Epoch 4/10\n",
      "1250/1250 [==============================] - 25s 20ms/step - loss: 0.1932 - accuracy: 0.9297 - val_loss: 0.2401 - val_accuracy: 0.9132\n",
      "Epoch 5/10\n",
      "1250/1250 [==============================] - 25s 20ms/step - loss: 0.1631 - accuracy: 0.9395 - val_loss: 0.2489 - val_accuracy: 0.9147\n",
      "Epoch 6/10\n",
      "1250/1250 [==============================] - 26s 21ms/step - loss: 0.1350 - accuracy: 0.9508 - val_loss: 0.2493 - val_accuracy: 0.9148\n",
      "Epoch 7/10\n",
      "1250/1250 [==============================] - 25s 20ms/step - loss: 0.1111 - accuracy: 0.9588 - val_loss: 0.2591 - val_accuracy: 0.9188\n",
      "Epoch 8/10\n",
      "1250/1250 [==============================] - 25s 20ms/step - loss: 0.0916 - accuracy: 0.9665 - val_loss: 0.2743 - val_accuracy: 0.9152\n",
      "Epoch 9/10\n",
      "1250/1250 [==============================] - 25s 20ms/step - loss: 0.0768 - accuracy: 0.9725 - val_loss: 0.3086 - val_accuracy: 0.9089\n",
      "313/313 [==============================] - 2s 6ms/step - loss: 0.3323 - accuracy: 0.9058\n",
      "n_neurons: 200, opt_type: adam\n",
      "Epoch 1/10\n",
      "1563/1563 [==============================] - 32s 20ms/step - loss: 0.3951 - accuracy: 0.8580 - val_loss: 0.2908 - val_accuracy: 0.9020\n",
      "Epoch 2/10\n",
      "1563/1563 [==============================] - 32s 20ms/step - loss: 0.2675 - accuracy: 0.9010 - val_loss: 0.2596 - val_accuracy: 0.9053\n",
      "Epoch 3/10\n",
      "1563/1563 [==============================] - 32s 20ms/step - loss: 0.2206 - accuracy: 0.9178 - val_loss: 0.2465 - val_accuracy: 0.9093\n",
      "Epoch 4/10\n",
      "1563/1563 [==============================] - 32s 20ms/step - loss: 0.1852 - accuracy: 0.9327 - val_loss: 0.2406 - val_accuracy: 0.9139\n",
      "Epoch 5/10\n",
      "1563/1563 [==============================] - 32s 21ms/step - loss: 0.1591 - accuracy: 0.9398 - val_loss: 0.2327 - val_accuracy: 0.9193\n",
      "Epoch 6/10\n",
      "1563/1563 [==============================] - 32s 21ms/step - loss: 0.1313 - accuracy: 0.9511 - val_loss: 0.2339 - val_accuracy: 0.9165\n",
      "Epoch 7/10\n",
      "1563/1563 [==============================] - 32s 20ms/step - loss: 0.1098 - accuracy: 0.9599 - val_loss: 0.2424 - val_accuracy: 0.9218\n",
      "Epoch 8/10\n",
      "1563/1563 [==============================] - 32s 21ms/step - loss: 0.0893 - accuracy: 0.9678 - val_loss: 0.2617 - val_accuracy: 0.9212\n",
      "Epoch 9/10\n",
      "1563/1563 [==============================] - 32s 20ms/step - loss: 0.0748 - accuracy: 0.9729 - val_loss: 0.2872 - val_accuracy: 0.9187\n",
      "Epoch 10/10\n",
      "1563/1563 [==============================] - 32s 20ms/step - loss: 0.0603 - accuracy: 0.9782 - val_loss: 0.2936 - val_accuracy: 0.9191\n"
     ]
    },
    {
     "data": {
      "text/html": [
       "<style>#sk-container-id-1 {color: black;background-color: white;}#sk-container-id-1 pre{padding: 0;}#sk-container-id-1 div.sk-toggleable {background-color: white;}#sk-container-id-1 label.sk-toggleable__label {cursor: pointer;display: block;width: 100%;margin-bottom: 0;padding: 0.3em;box-sizing: border-box;text-align: center;}#sk-container-id-1 label.sk-toggleable__label-arrow:before {content: \"▸\";float: left;margin-right: 0.25em;color: #696969;}#sk-container-id-1 label.sk-toggleable__label-arrow:hover:before {color: black;}#sk-container-id-1 div.sk-estimator:hover label.sk-toggleable__label-arrow:before {color: black;}#sk-container-id-1 div.sk-toggleable__content {max-height: 0;max-width: 0;overflow: hidden;text-align: left;background-color: #f0f8ff;}#sk-container-id-1 div.sk-toggleable__content pre {margin: 0.2em;color: black;border-radius: 0.25em;background-color: #f0f8ff;}#sk-container-id-1 input.sk-toggleable__control:checked~div.sk-toggleable__content {max-height: 200px;max-width: 100%;overflow: auto;}#sk-container-id-1 input.sk-toggleable__control:checked~label.sk-toggleable__label-arrow:before {content: \"▾\";}#sk-container-id-1 div.sk-estimator input.sk-toggleable__control:checked~label.sk-toggleable__label {background-color: #d4ebff;}#sk-container-id-1 div.sk-label input.sk-toggleable__control:checked~label.sk-toggleable__label {background-color: #d4ebff;}#sk-container-id-1 input.sk-hidden--visually {border: 0;clip: rect(1px 1px 1px 1px);clip: rect(1px, 1px, 1px, 1px);height: 1px;margin: -1px;overflow: hidden;padding: 0;position: absolute;width: 1px;}#sk-container-id-1 div.sk-estimator {font-family: monospace;background-color: #f0f8ff;border: 1px dotted black;border-radius: 0.25em;box-sizing: border-box;margin-bottom: 0.5em;}#sk-container-id-1 div.sk-estimator:hover {background-color: #d4ebff;}#sk-container-id-1 div.sk-parallel-item::after {content: \"\";width: 100%;border-bottom: 1px solid gray;flex-grow: 1;}#sk-container-id-1 div.sk-label:hover label.sk-toggleable__label {background-color: #d4ebff;}#sk-container-id-1 div.sk-serial::before {content: \"\";position: absolute;border-left: 1px solid gray;box-sizing: border-box;top: 0;bottom: 0;left: 50%;z-index: 0;}#sk-container-id-1 div.sk-serial {display: flex;flex-direction: column;align-items: center;background-color: white;padding-right: 0.2em;padding-left: 0.2em;position: relative;}#sk-container-id-1 div.sk-item {position: relative;z-index: 1;}#sk-container-id-1 div.sk-parallel {display: flex;align-items: stretch;justify-content: center;background-color: white;position: relative;}#sk-container-id-1 div.sk-item::before, #sk-container-id-1 div.sk-parallel-item::before {content: \"\";position: absolute;border-left: 1px solid gray;box-sizing: border-box;top: 0;bottom: 0;left: 50%;z-index: -1;}#sk-container-id-1 div.sk-parallel-item {display: flex;flex-direction: column;z-index: 1;position: relative;background-color: white;}#sk-container-id-1 div.sk-parallel-item:first-child::after {align-self: flex-end;width: 50%;}#sk-container-id-1 div.sk-parallel-item:last-child::after {align-self: flex-start;width: 50%;}#sk-container-id-1 div.sk-parallel-item:only-child::after {width: 0;}#sk-container-id-1 div.sk-dashed-wrapped {border: 1px dashed gray;margin: 0 0.4em 0.5em 0.4em;box-sizing: border-box;padding-bottom: 0.4em;background-color: white;}#sk-container-id-1 div.sk-label label {font-family: monospace;font-weight: bold;display: inline-block;line-height: 1.2em;}#sk-container-id-1 div.sk-label-container {text-align: center;}#sk-container-id-1 div.sk-container {/* jupyter's `normalize.less` sets `[hidden] { display: none; }` but bootstrap.min.css set `[hidden] { display: none !important; }` so we also need the `!important` here to be able to override the default hidden behavior on the sphinx rendered scikit-learn.org. See: https://github.com/scikit-learn/scikit-learn/issues/21755 */display: inline-block !important;position: relative;}#sk-container-id-1 div.sk-text-repr-fallback {display: none;}</style><div id=\"sk-container-id-1\" class=\"sk-top-container\"><div class=\"sk-text-repr-fallback\"><pre>GridSearchCV(cv=5,\n",
       "             estimator=&lt;keras.wrappers.scikit_learn.KerasClassifier object at 0x7f7eb53b7e50&gt;,\n",
       "             param_grid={&#x27;n_neurons&#x27;: [100, 200], &#x27;opt_type&#x27;: [&#x27;sgd&#x27;, &#x27;adam&#x27;]})</pre><b>In a Jupyter environment, please rerun this cell to show the HTML representation or trust the notebook. <br />On GitHub, the HTML representation is unable to render, please try loading this page with nbviewer.org.</b></div><div class=\"sk-container\" hidden><div class=\"sk-item sk-dashed-wrapped\"><div class=\"sk-label-container\"><div class=\"sk-label sk-toggleable\"><input class=\"sk-toggleable__control sk-hidden--visually\" id=\"sk-estimator-id-1\" type=\"checkbox\" ><label for=\"sk-estimator-id-1\" class=\"sk-toggleable__label sk-toggleable__label-arrow\">GridSearchCV</label><div class=\"sk-toggleable__content\"><pre>GridSearchCV(cv=5,\n",
       "             estimator=&lt;keras.wrappers.scikit_learn.KerasClassifier object at 0x7f7eb53b7e50&gt;,\n",
       "             param_grid={&#x27;n_neurons&#x27;: [100, 200], &#x27;opt_type&#x27;: [&#x27;sgd&#x27;, &#x27;adam&#x27;]})</pre></div></div></div><div class=\"sk-parallel\"><div class=\"sk-parallel-item\"><div class=\"sk-item\"><div class=\"sk-label-container\"><div class=\"sk-label sk-toggleable\"><input class=\"sk-toggleable__control sk-hidden--visually\" id=\"sk-estimator-id-2\" type=\"checkbox\" ><label for=\"sk-estimator-id-2\" class=\"sk-toggleable__label sk-toggleable__label-arrow\">estimator: KerasClassifier</label><div class=\"sk-toggleable__content\"><pre>&lt;keras.wrappers.scikit_learn.KerasClassifier object at 0x7f7eb53b7e50&gt;</pre></div></div></div><div class=\"sk-serial\"><div class=\"sk-item\"><div class=\"sk-estimator sk-toggleable\"><input class=\"sk-toggleable__control sk-hidden--visually\" id=\"sk-estimator-id-3\" type=\"checkbox\" ><label for=\"sk-estimator-id-3\" class=\"sk-toggleable__label sk-toggleable__label-arrow\">KerasClassifier</label><div class=\"sk-toggleable__content\"><pre>&lt;keras.wrappers.scikit_learn.KerasClassifier object at 0x7f7eb53b7e50&gt;</pre></div></div></div></div></div></div></div></div></div></div>"
      ],
      "text/plain": [
       "GridSearchCV(cv=5,\n",
       "             estimator=<keras.wrappers.scikit_learn.KerasClassifier object at 0x7f7eb53b7e50>,\n",
       "             param_grid={'n_neurons': [100, 200], 'opt_type': ['sgd', 'adam']})"
      ]
     },
     "execution_count": 25,
     "metadata": {},
     "output_type": "execute_result"
    }
   ],
   "source": [
    "grid_search = GridSearchCV(keras_classifier, parameters, cv=5)\n",
    "\n",
    "grid_search.fit(X_train, \n",
    "                y_train, \n",
    "                epochs=10, \n",
    "                validation_data = (X_valid, y_valid), \n",
    "                callbacks=EarlyStopping(patience=5))"
   ]
  },
  {
   "cell_type": "markdown",
   "id": "8dffe563",
   "metadata": {},
   "source": [
    "Having finished the hyperparameter fine tuning, the best parameters determined are as follows."
   ]
  },
  {
   "cell_type": "code",
   "execution_count": 26,
   "id": "22ae5783",
   "metadata": {},
   "outputs": [
    {
     "data": {
      "text/plain": [
       "{'n_neurons': 200, 'opt_type': 'adam'}"
      ]
     },
     "execution_count": 26,
     "metadata": {},
     "output_type": "execute_result"
    }
   ],
   "source": [
    "grid_search.best_params_"
   ]
  },
  {
   "cell_type": "markdown",
   "id": "e3996e64",
   "metadata": {},
   "source": [
    "These parameters have achieved the following validation score."
   ]
  },
  {
   "cell_type": "code",
   "execution_count": 27,
   "id": "7e5bea69",
   "metadata": {},
   "outputs": [
    {
     "data": {
      "text/plain": [
       "0.9144799947738648"
      ]
     },
     "execution_count": 27,
     "metadata": {},
     "output_type": "execute_result"
    }
   ],
   "source": [
    "grid_search.best_score_"
   ]
  },
  {
   "cell_type": "markdown",
   "id": "38a2be8c",
   "metadata": {},
   "source": [
    "## Optimial Model"
   ]
  },
  {
   "cell_type": "markdown",
   "id": "0e395b31",
   "metadata": {},
   "source": [
    "Using this optimal model, we finally assess the performance on the test set."
   ]
  },
  {
   "cell_type": "code",
   "execution_count": 28,
   "id": "fc5eff59",
   "metadata": {},
   "outputs": [],
   "source": [
    "optimal_model = grid_search.best_estimator_.model"
   ]
  },
  {
   "cell_type": "code",
   "execution_count": 29,
   "id": "a51dfad4",
   "metadata": {},
   "outputs": [
    {
     "name": "stdout",
     "output_type": "stream",
     "text": [
      "Model: \"sequential_21\"\n",
      "_________________________________________________________________\n",
      " Layer (type)                Output Shape              Param #   \n",
      "=================================================================\n",
      " conv2d_21 (Conv2D)          (None, 28, 28, 32)        320       \n",
      "                                                                 \n",
      " max_pooling2d_21 (MaxPoolin  (None, 14, 14, 32)       0         \n",
      " g2D)                                                            \n",
      "                                                                 \n",
      " flatten_21 (Flatten)        (None, 6272)              0         \n",
      "                                                                 \n",
      " dense_42 (Dense)            (None, 200)               1254600   \n",
      "                                                                 \n",
      " dense_43 (Dense)            (None, 10)                2010      \n",
      "                                                                 \n",
      "=================================================================\n",
      "Total params: 1,256,930\n",
      "Trainable params: 1,256,930\n",
      "Non-trainable params: 0\n",
      "_________________________________________________________________\n"
     ]
    }
   ],
   "source": [
    "optimal_model.summary()"
   ]
  },
  {
   "cell_type": "code",
   "execution_count": 30,
   "id": "40dba60c",
   "metadata": {},
   "outputs": [
    {
     "name": "stdout",
     "output_type": "stream",
     "text": [
      "313/313 [==============================] - 2s 6ms/step - loss: 0.3319 - accuracy: 0.9132\n"
     ]
    },
    {
     "data": {
      "text/plain": [
       "[0.33188846707344055, 0.9132000207901001]"
      ]
     },
     "execution_count": 30,
     "metadata": {},
     "output_type": "execute_result"
    }
   ],
   "source": [
    "optimal_model.evaluate(X_test, y_test)"
   ]
  },
  {
   "cell_type": "markdown",
   "id": "dd38ccee",
   "metadata": {},
   "source": [
    "As we can see, this has achieved a slightly better performance on the test dataset. Overall, we achieved very strong classification performance on the MNIST Fashion Dataset."
   ]
  }
 ],
 "metadata": {
  "kernelspec": {
   "display_name": "myenv",
   "language": "python",
   "name": "myenv"
  },
  "language_info": {
   "codemirror_mode": {
    "name": "ipython",
    "version": 3
   },
   "file_extension": ".py",
   "mimetype": "text/x-python",
   "name": "python",
   "nbconvert_exporter": "python",
   "pygments_lexer": "ipython3",
   "version": "3.9.12"
  }
 },
 "nbformat": 4,
 "nbformat_minor": 5
}
