{
 "cells": [
  {
   "cell_type": "markdown",
   "id": "3a6db2cd",
   "metadata": {},
   "source": [
    "## David Barranquero"
   ]
  },
  {
   "cell_type": "code",
   "execution_count": 1,
   "id": "f30e2fc8",
   "metadata": {},
   "outputs": [
    {
     "name": "stderr",
     "output_type": "stream",
     "text": [
      "2023-01-25 19:31:06.382847: I tensorflow/core/platform/cpu_feature_guard.cc:193] This TensorFlow binary is optimized with oneAPI Deep Neural Network Library (oneDNN) to use the following CPU instructions in performance-critical operations:  AVX2 FMA\n",
      "To enable them in other operations, rebuild TensorFlow with the appropriate compiler flags.\n"
     ]
    }
   ],
   "source": [
    "import numpy as np\n",
    "import pandas as pd\n",
    "import matplotlib.pyplot as plt\n",
    "import tensorflow as tf\n",
    "from tensorflow import keras\n",
    "from keras.utils import to_categorical\n",
    "from keras.layers import Conv2D, MaxPooling2D, Dense, Flatten, Dropout\n",
    "from keras.callbacks import EarlyStopping\n",
    "from sklearn.model_selection import GridSearchCV\n",
    "from scikeras.wrappers import KerasClassifier"
   ]
  },
  {
   "cell_type": "code",
   "execution_count": 2,
   "id": "eb57c00f",
   "metadata": {},
   "outputs": [],
   "source": [
    "%matplotlib inline"
   ]
  },
  {
   "cell_type": "code",
   "execution_count": 3,
   "id": "eba00a4b",
   "metadata": {},
   "outputs": [
    {
     "name": "stdout",
     "output_type": "stream",
     "text": [
      "2.10.0\n"
     ]
    }
   ],
   "source": [
    "print(tf.__version__)"
   ]
  },
  {
   "cell_type": "markdown",
   "id": "043ee764",
   "metadata": {},
   "source": [
    "Setting a random seed."
   ]
  },
  {
   "cell_type": "code",
   "execution_count": 4,
   "id": "6ceaab73",
   "metadata": {},
   "outputs": [],
   "source": [
    "seed = 54321\n",
    "np.random.seed(seed)\n",
    "tf.random.set_seed(seed)"
   ]
  },
  {
   "cell_type": "markdown",
   "id": "2f90e096",
   "metadata": {},
   "source": [
    "We're going to build a convolutional neural network for image classification. The dataset we will use is the MNIST Fashion Dataset, which contains 60,000 training images and 10,000 test images, all 28x28 and in greyscale. The dataset contains an equal amount of images of 10 different clothing articles. We begin first by reading in the dataset."
   ]
  },
  {
   "cell_type": "code",
   "execution_count": 5,
   "id": "cfba2b87",
   "metadata": {},
   "outputs": [],
   "source": [
    "(X_train, y_train), (X_test, y_test) = keras.datasets.fashion_mnist.load_data()"
   ]
  },
  {
   "cell_type": "code",
   "execution_count": 6,
   "id": "d7e8379c",
   "metadata": {},
   "outputs": [],
   "source": [
    "class_names = [\"T-shirt/top\", \n",
    "               \"Trouser\", \n",
    "               \"Pullover\", \n",
    "               \"Dress\", \n",
    "               \"Coat\", \n",
    "               \"Sandal\", \n",
    "               \"Shirt\", \n",
    "               \"Sneaker\", \n",
    "               \"Bag\", \n",
    "               \"Ankle boot\"]"
   ]
  },
  {
   "cell_type": "markdown",
   "id": "4d163b6e",
   "metadata": {},
   "source": [
    "Next, we visualise our dataset, viewing the first entry in the test dataset."
   ]
  },
  {
   "cell_type": "code",
   "execution_count": 7,
   "id": "7c8493d7",
   "metadata": {},
   "outputs": [
    {
     "name": "stdout",
     "output_type": "stream",
     "text": [
      "Ankle boot\n"
     ]
    }
   ],
   "source": [
    "print(class_names[y_train[0]])"
   ]
  },
  {
   "cell_type": "markdown",
   "id": "ebba0a0e",
   "metadata": {},
   "source": [
    "As well as visualising the image itself."
   ]
  },
  {
   "cell_type": "code",
   "execution_count": 8,
   "id": "25109b72",
   "metadata": {},
   "outputs": [
    {
     "data": {
      "text/plain": [
       "<matplotlib.image.AxesImage at 0x7ff1e770f4f0>"
      ]
     },
     "execution_count": 8,
     "metadata": {},
     "output_type": "execute_result"
    },
    {
     "data": {
      "image/png": "[encoded data removed]",
      "text/plain": [
       "<Figure size 432x288 with 1 Axes>"
      ]
     },
     "metadata": {
      "needs_background": "light"
     },
     "output_type": "display_data"
    }
   ],
   "source": [
    "plt.imshow(X_train[0], cmap='Greys')"
   ]
  },
  {
   "cell_type": "markdown",
   "id": "80a4d2b9",
   "metadata": {},
   "source": [
    "## Pre-processing"
   ]
  },
  {
   "cell_type": "markdown",
   "id": "106a258c",
   "metadata": {},
   "source": [
    "Firstly, we must perform pre-processing on the dataset. We are going to employ Min-Max normalisation on the dataset to place all values between 0 and 1. By normalising, the network will achieve a faster convergence to the local minimum. Fortunately, because of the 256 pixel values ranging from 0 to 255, the normalisation effect is achieved by simply dividing the dataset by 255. To do so, we first convert the dataset type to float, and then perform the normalisation. Furthermore, as general practice for when we deal with colour images and have three RGB colour channels, we reshape the dataset to include this information. We define a function for this preprocessing."
   ]
  },
  {
   "cell_type": "code",
   "execution_count": 9,
   "id": "6d8cb2e4",
   "metadata": {},
   "outputs": [],
   "source": [
    "def normalise_data(dataset):\n",
    "    dataset = dataset.reshape((dataset.shape[0], 28, 28, 1))\n",
    "    dataset = dataset.astype('float32')\n",
    "    dataset /= 255\n",
    "    \n",
    "    return dataset"
   ]
  },
  {
   "cell_type": "code",
   "execution_count": 10,
   "id": "b00a8e30",
   "metadata": {},
   "outputs": [],
   "source": [
    "X_train = normalise_data(X_train)\n",
    "X_test = normalise_data(X_test)"
   ]
  },
  {
   "cell_type": "markdown",
   "id": "8ea5b543",
   "metadata": {},
   "source": [
    "Furthermore, we define a validation set using the first 10000 images of the training dataset. Ideally, when creating a validation set, it is wise to perform stratified sampling on your dataset. When there are large class imbalances, stratified sampling lowers the sampling variance of dataset split, which translates to better performance for the image classification model. However, if we look at the unique counts of the first 10000 images, we can see that there is a fairly uniform distribution of roughly a thousand per image, so the advantage of stratified sampling is minimal over simple random sampling."
   ]
  },
  {
   "cell_type": "code",
   "execution_count": 11,
   "id": "ada10d99",
   "metadata": {},
   "outputs": [
    {
     "data": {
      "text/plain": [
       "(array([0, 1, 2, 3, 4, 5, 6, 7, 8, 9], dtype=uint8),\n",
       " array([ 942, 1027, 1016, 1019,  974,  989, 1021, 1022,  990, 1000]))"
      ]
     },
     "execution_count": 11,
     "metadata": {},
     "output_type": "execute_result"
    }
   ],
   "source": [
    "np.unique(y_train[:10000], return_counts=True)"
   ]
  },
  {
   "cell_type": "markdown",
   "id": "f0000eb1",
   "metadata": {},
   "source": [
    "For this reason, we will use the first 10000 images for our validation set, and the remaining 50000 for our training set."
   ]
  },
  {
   "cell_type": "code",
   "execution_count": 12,
   "id": "7bfe256a",
   "metadata": {},
   "outputs": [],
   "source": [
    "X_valid, X_train = X_train[:10000], X_train[10000:]\n",
    "y_valid, y_train = y_train[:10000], y_train[10000:]"
   ]
  },
  {
   "cell_type": "markdown",
   "id": "8d5bd634",
   "metadata": {},
   "source": [
    "Finally, we confirm the set sizes and shapes of our data"
   ]
  },
  {
   "cell_type": "code",
   "execution_count": 13,
   "id": "58fcf2b7",
   "metadata": {},
   "outputs": [
    {
     "name": "stdout",
     "output_type": "stream",
     "text": [
      "(50000, 28, 28, 1)\n",
      "(50000,)\n"
     ]
    }
   ],
   "source": [
    "print(X_train.shape)\n",
    "print(y_train.shape)"
   ]
  },
  {
   "cell_type": "code",
   "execution_count": 14,
   "id": "ba49bd54",
   "metadata": {},
   "outputs": [
    {
     "name": "stdout",
     "output_type": "stream",
     "text": [
      "(10000, 28, 28, 1)\n",
      "(10000,)\n"
     ]
    }
   ],
   "source": [
    "print(X_valid.shape)\n",
    "print(y_valid.shape)"
   ]
  },
  {
   "cell_type": "code",
   "execution_count": 15,
   "id": "1073c466",
   "metadata": {},
   "outputs": [
    {
     "name": "stdout",
     "output_type": "stream",
     "text": [
      "(10000, 28, 28, 1)\n",
      "(10000,)\n"
     ]
    }
   ],
   "source": [
    "print(X_test.shape)\n",
    "print(y_test.shape)"
   ]
  },
  {
   "cell_type": "markdown",
   "id": "c8023b0a",
   "metadata": {},
   "source": [
    "## Building the Model"
   ]
  },
  {
   "cell_type": "markdown",
   "id": "3208414d",
   "metadata": {},
   "source": [
    "For image classification tasks, convolutional neural networks consistently provide the best performance.\n",
    "\n",
    "Our model will consist of a convolutional layer with 32 filters and the standard 3x3 kernel size, with a stride of 1. We will use a layer of padding to ensure that the output is of the same shape and information is not lost. Finally, for our activation function we will use ReLU. ReLU is defined as ReLU(a) = max(0,a). It leads to faster convergence by promoting sparsity in the model, as well as avoiding the vanishing/exploding gradients issue of other activation functions. \n",
    "\n",
    "Next, we employ a pooling layer using max pooling, again using the standard 2x2 pool size with a step size of 2. Pooling layers are effective at reducing the dimensionality of the dataset while retaining the most important information.\n",
    "\n",
    "This convolution and pooling is then repeated again, with 64 kernels, to capture more complex shapes and images.\n",
    "\n",
    "Finally, we flatten the dataset in order to use the dense layers of standard feed-forward neural networks for the classification. We will use two fully connected layers with 100 neurons each, and the ReLU activation. Each will have a dropout layer with a rate of 25% to create a more robust classifier. Finally, we add an output layer, with the softmax activation, as this is a multi-class classification task."
   ]
  },
  {
   "cell_type": "code",
   "execution_count": 16,
   "id": "8e2f6143",
   "metadata": {},
   "outputs": [
    {
     "name": "stderr",
     "output_type": "stream",
     "text": [
      "2023-01-25 19:31:17.487533: I tensorflow/core/platform/cpu_feature_guard.cc:193] This TensorFlow binary is optimized with oneAPI Deep Neural Network Library (oneDNN) to use the following CPU instructions in performance-critical operations:  AVX2 FMA\n",
      "To enable them in other operations, rebuild TensorFlow with the appropriate compiler flags.\n"
     ]
    }
   ],
   "source": [
    "model = keras.models.Sequential()\n",
    "\n",
    "model.add(Conv2D(32, kernel_size=(3,3), strides=1, padding=\"same\", activation=\"relu\", input_shape=(28,28,1)))\n",
    "model.add(MaxPooling2D(pool_size=(2,2)))\n",
    "model.add(Conv2D(64, kernel_size=(3,3), strides=1, padding=\"same\", activation=\"relu\"))\n",
    "model.add(MaxPooling2D(pool_size=(2,2)))\n",
    "model.add(Flatten())\n",
    "model.add(Dense(100, activation=\"relu\"))\n",
    "model.add(Dropout(0.25))\n",
    "model.add(Dense(100, activation=\"relu\"))\n",
    "model.add(Dropout(0.25))\n",
    "model.add(Dense(10, activation=\"softmax\"))"
   ]
  },
  {
   "cell_type": "markdown",
   "id": "d6bb7505",
   "metadata": {},
   "source": [
    "Our loss function for this model will be sparse categorical crossentropy, as the target variable contains only the sparse label vector position. We use stochastic gradient descent as our optimiser, which aids in speeding up the convergence to the local minima by taking faster, imprecise steps, rather than slow, precise steps of gradient descent. Finally, we use accuracy as our performance metric."
   ]
  },
  {
   "cell_type": "code",
   "execution_count": 17,
   "id": "459eea65",
   "metadata": {},
   "outputs": [],
   "source": [
    "model.compile(loss=\"sparse_categorical_crossentropy\", optimizer=\"sgd\", metrics=[\"accuracy\"])"
   ]
  },
  {
   "cell_type": "markdown",
   "id": "1f843930",
   "metadata": {},
   "source": [
    "We can display a summary of our model as follows"
   ]
  },
  {
   "cell_type": "code",
   "execution_count": 18,
   "id": "4e4e206d",
   "metadata": {},
   "outputs": [
    {
     "name": "stdout",
     "output_type": "stream",
     "text": [
      "Model: \"sequential\"\n",
      "_________________________________________________________________\n",
      " Layer (type)                Output Shape              Param #   \n",
      "=================================================================\n",
      " conv2d (Conv2D)             (None, 28, 28, 32)        320       \n",
      "                                                                 \n",
      " max_pooling2d (MaxPooling2D  (None, 14, 14, 32)       0         \n",
      " )                                                               \n",
      "                                                                 \n",
      " conv2d_1 (Conv2D)           (None, 14, 14, 64)        18496     \n",
      "                                                                 \n",
      " max_pooling2d_1 (MaxPooling  (None, 7, 7, 64)         0         \n",
      " 2D)                                                             \n",
      "                                                                 \n",
      " flatten (Flatten)           (None, 3136)              0         \n",
      "                                                                 \n",
      " dense (Dense)               (None, 100)               313700    \n",
      "                                                                 \n",
      " dropout (Dropout)           (None, 100)               0         \n",
      "                                                                 \n",
      " dense_1 (Dense)             (None, 100)               10100     \n",
      "                                                                 \n",
      " dropout_1 (Dropout)         (None, 100)               0         \n",
      "                                                                 \n",
      " dense_2 (Dense)             (None, 10)                1010      \n",
      "                                                                 \n",
      "=================================================================\n",
      "Total params: 343,626\n",
      "Trainable params: 343,626\n",
      "Non-trainable params: 0\n",
      "_________________________________________________________________\n"
     ]
    }
   ],
   "source": [
    "model.summary()"
   ]
  },
  {
   "cell_type": "markdown",
   "id": "95f36dea",
   "metadata": {},
   "source": [
    "Next, we fit the model and assess it's performance on the validation set. We will perform 10 sweeps over the entire dataset for training."
   ]
  },
  {
   "cell_type": "code",
   "execution_count": 19,
   "id": "42257441",
   "metadata": {},
   "outputs": [
    {
     "name": "stdout",
     "output_type": "stream",
     "text": [
      "Epoch 1/10\n",
      "1563/1563 [==============================] - 45s 29ms/step - loss: 1.0758 - accuracy: 0.6052 - val_loss: 0.6264 - val_accuracy: 0.7586\n",
      "Epoch 2/10\n",
      "1563/1563 [==============================] - 45s 29ms/step - loss: 0.6423 - accuracy: 0.7630 - val_loss: 0.5286 - val_accuracy: 0.7959\n",
      "Epoch 3/10\n",
      "1563/1563 [==============================] - 45s 29ms/step - loss: 0.5554 - accuracy: 0.7950 - val_loss: 0.4618 - val_accuracy: 0.8269\n",
      "Epoch 4/10\n",
      "1563/1563 [==============================] - 45s 29ms/step - loss: 0.4976 - accuracy: 0.8183 - val_loss: 0.4274 - val_accuracy: 0.8376\n",
      "Epoch 5/10\n",
      "1563/1563 [==============================] - 45s 28ms/step - loss: 0.4569 - accuracy: 0.8346 - val_loss: 0.3817 - val_accuracy: 0.8627\n",
      "Epoch 6/10\n",
      "1563/1563 [==============================] - 45s 29ms/step - loss: 0.4324 - accuracy: 0.8439 - val_loss: 0.3986 - val_accuracy: 0.8494\n",
      "Epoch 7/10\n",
      "1563/1563 [==============================] - 45s 29ms/step - loss: 0.4089 - accuracy: 0.8515 - val_loss: 0.3556 - val_accuracy: 0.8701\n",
      "Epoch 8/10\n",
      "1563/1563 [==============================] - 45s 28ms/step - loss: 0.3895 - accuracy: 0.8586 - val_loss: 0.3335 - val_accuracy: 0.8780\n",
      "Epoch 9/10\n",
      "1563/1563 [==============================] - 45s 29ms/step - loss: 0.3766 - accuracy: 0.8641 - val_loss: 0.3131 - val_accuracy: 0.8850\n",
      "Epoch 10/10\n",
      "1563/1563 [==============================] - 45s 29ms/step - loss: 0.3637 - accuracy: 0.8683 - val_loss: 0.3127 - val_accuracy: 0.8867\n"
     ]
    }
   ],
   "source": [
    "model_fit = model.fit(X_train, y_train, epochs=10, validation_data = (X_valid, y_valid))"
   ]
  },
  {
   "cell_type": "markdown",
   "id": "baf6358f",
   "metadata": {},
   "source": [
    "And plot the performance of this model fit."
   ]
  },
  {
   "cell_type": "code",
   "execution_count": 20,
   "id": "c4cfdd4b",
   "metadata": {},
   "outputs": [
    {
     "data": {
      "text/plain": [
       "<AxesSubplot:>"
      ]
     },
     "execution_count": 20,
     "metadata": {},
     "output_type": "execute_result"
    },
    {
     "data": {
      "image/png": "[encoded data removed]",
      "text/plain": [
       "<Figure size 432x288 with 1 Axes>"
      ]
     },
     "metadata": {
      "needs_background": "light"
     },
     "output_type": "display_data"
    }
   ],
   "source": [
    "pd.DataFrame(model_fit.history).plot()"
   ]
  },
  {
   "cell_type": "markdown",
   "id": "378d8361",
   "metadata": {},
   "source": [
    "From the plot above, we can see that the training and validation accuracy has consistently increased and the training and validation loss have consistently decreased, which indicates that our model is learning correctly. Furthermore, the closeness of the training and validation curves indicate that our model is not overfitting, but generalising well to unseen data. Finally, we assess the performance of our model on the test dataset."
   ]
  },
  {
   "cell_type": "code",
   "execution_count": 21,
   "id": "c59797ca",
   "metadata": {},
   "outputs": [
    {
     "name": "stdout",
     "output_type": "stream",
     "text": [
      "313/313 [==============================] - 2s 8ms/step - loss: 0.3370 - accuracy: 0.8764\n"
     ]
    },
    {
     "data": {
      "text/plain": [
       "[0.3370104134082794, 0.8763999938964844]"
      ]
     },
     "execution_count": 21,
     "metadata": {},
     "output_type": "execute_result"
    }
   ],
   "source": [
    "model.evaluate(X_test, y_test)"
   ]
  },
  {
   "cell_type": "markdown",
   "id": "b83016f7",
   "metadata": {},
   "source": [
    "## Fine-Tuning the Model"
   ]
  },
  {
   "cell_type": "markdown",
   "id": "e14ab159",
   "metadata": {},
   "source": [
    "Having built our base model, we are now going to fine-tune our hyperparameters. For this we will define a function to build the model, and then use a scikit-learn wrapper so that we can use GridSearchCV for our grid search."
   ]
  },
  {
   "cell_type": "code",
   "execution_count": 22,
   "id": "81110e23",
   "metadata": {},
   "outputs": [],
   "source": [
    "def build_model(n_neurons, opt_type):\n",
    "    \n",
    "    print('n_neurons: {0}, opt_type: {1}'.format(n_neurons, opt_type))\n",
    "    \n",
    "    model = keras.models.Sequential()\n",
    "    model.add(Conv2D(32, kernel_size=(3,3), strides=1, padding=\"same\", activation=\"relu\", input_shape=(28,28,1)))\n",
    "    model.add(MaxPooling2D(pool_size=(2,2)))\n",
    "    model.add(Conv2D(64, kernel_size=(3,3), strides=1, padding=\"same\", activation=\"relu\"))\n",
    "    model.add(MaxPooling2D(pool_size=(2,2)))\n",
    "    model.add(Flatten())\n",
    "    model.add(Dense(n_neurons, activation=\"relu\"))\n",
    "    model.add(Dropout(0.25))\n",
    "    model.add(Dense(n_neurons, activation=\"relu\"))\n",
    "    model.add(Dropout(0.25))\n",
    "    model.add(Dense(10, activation=\"softmax\"))\n",
    "    \n",
    "    model.compile(loss=\"sparse_categorical_crossentropy\", optimizer=opt_type, metrics=[\"accuracy\"])\n",
    "    \n",
    "    return model"
   ]
  },
  {
   "cell_type": "code",
   "execution_count": 23,
   "id": "4aa605c6",
   "metadata": {},
   "outputs": [],
   "source": [
    "keras_classifier = KerasClassifier(model=build_model, n_neurons=100, opt_type=\"sgd\")"
   ]
  },
  {
   "cell_type": "markdown",
   "id": "93925c0a",
   "metadata": {},
   "source": [
    "While there are numerous hyperparameters we could optimise, for the sake of computational time and complexity, we are only going to optimise two, the number of neurons in the dense layer, and the optimiser used for the model. Adaptive Momentum Estimation (Adam) is another popular optimiser and is generally considered one of the best performing optimisers for deep learning. We will compare it's performance to SGD."
   ]
  },
  {
   "cell_type": "code",
   "execution_count": 24,
   "id": "83989e92",
   "metadata": {},
   "outputs": [],
   "source": [
    "parameters = {\n",
    "    \"n_neurons\": [100, 200],\n",
    "    \"opt_type\": [\"sgd\", \"adam\"]\n",
    "}"
   ]
  },
  {
   "cell_type": "markdown",
   "id": "e600ec66",
   "metadata": {},
   "source": [
    "For 4 potential hyperparameters, using 5-fold cross validaiton, 10 epochs and roughly 45 seconds training per epoch, the grid search should take about 2.5 hours."
   ]
  },
  {
   "cell_type": "code",
   "execution_count": 25,
   "id": "01d487f3",
   "metadata": {},
   "outputs": [
    {
     "name": "stdout",
     "output_type": "stream",
     "text": [
      "n_neurons: 100, opt_type: sgd\n",
      "Epoch 1/10\n",
      "1250/1250 [==============================] - 37s 30ms/step - loss: 1.1857 - accuracy: 0.5619 - val_loss: 0.6675 - val_accuracy: 0.7456\n",
      "Epoch 2/10\n",
      "1250/1250 [==============================] - 36s 29ms/step - loss: 0.7041 - accuracy: 0.7343 - val_loss: 0.5575 - val_accuracy: 0.7847\n",
      "Epoch 3/10\n",
      "1250/1250 [==============================] - 37s 29ms/step - loss: 0.5996 - accuracy: 0.7778 - val_loss: 0.5016 - val_accuracy: 0.8078\n",
      "Epoch 4/10\n",
      "1250/1250 [==============================] - 38s 30ms/step - loss: 0.5422 - accuracy: 0.7987 - val_loss: 0.4446 - val_accuracy: 0.8400\n",
      "Epoch 5/10\n",
      "1250/1250 [==============================] - 37s 30ms/step - loss: 0.5003 - accuracy: 0.8168 - val_loss: 0.4214 - val_accuracy: 0.8453\n",
      "Epoch 6/10\n",
      "1250/1250 [==============================] - 37s 30ms/step - loss: 0.4652 - accuracy: 0.8315 - val_loss: 0.3945 - val_accuracy: 0.8558\n",
      "Epoch 7/10\n",
      "1250/1250 [==============================] - 37s 30ms/step - loss: 0.4420 - accuracy: 0.8399 - val_loss: 0.3715 - val_accuracy: 0.8640\n",
      "Epoch 8/10\n",
      "1250/1250 [==============================] - 38s 30ms/step - loss: 0.4214 - accuracy: 0.8483 - val_loss: 0.3666 - val_accuracy: 0.8653\n",
      "Epoch 9/10\n",
      "1250/1250 [==============================] - 38s 31ms/step - loss: 0.4035 - accuracy: 0.8558 - val_loss: 0.3465 - val_accuracy: 0.8744\n",
      "Epoch 10/10\n",
      "1250/1250 [==============================] - 38s 30ms/step - loss: 0.3902 - accuracy: 0.8597 - val_loss: 0.3340 - val_accuracy: 0.8793\n",
      "313/313 [==============================] - 3s 8ms/step\n",
      "n_neurons: 100, opt_type: sgd\n",
      "Epoch 1/10\n",
      "1250/1250 [==============================] - 38s 30ms/step - loss: 1.2199 - accuracy: 0.5514 - val_loss: 0.6782 - val_accuracy: 0.7519\n",
      "Epoch 2/10\n",
      "1250/1250 [==============================] - 39s 31ms/step - loss: 0.7066 - accuracy: 0.7366 - val_loss: 0.5589 - val_accuracy: 0.7905\n",
      "Epoch 3/10\n",
      "1250/1250 [==============================] - 38s 31ms/step - loss: 0.6064 - accuracy: 0.7743 - val_loss: 0.4800 - val_accuracy: 0.8228\n",
      "Epoch 4/10\n",
      "1250/1250 [==============================] - 38s 30ms/step - loss: 0.5419 - accuracy: 0.8002 - val_loss: 0.4426 - val_accuracy: 0.8341\n",
      "Epoch 5/10\n",
      "1250/1250 [==============================] - 38s 30ms/step - loss: 0.5018 - accuracy: 0.8154 - val_loss: 0.4338 - val_accuracy: 0.8341\n",
      "Epoch 6/10\n",
      "1250/1250 [==============================] - 38s 30ms/step - loss: 0.4734 - accuracy: 0.8273 - val_loss: 0.3951 - val_accuracy: 0.8582\n",
      "Epoch 7/10\n",
      "1250/1250 [==============================] - 38s 30ms/step - loss: 0.4470 - accuracy: 0.8383 - val_loss: 0.3831 - val_accuracy: 0.8605\n",
      "Epoch 8/10\n",
      "1250/1250 [==============================] - 38s 31ms/step - loss: 0.4274 - accuracy: 0.8454 - val_loss: 0.3674 - val_accuracy: 0.8654\n",
      "Epoch 9/10\n",
      "1250/1250 [==============================] - 38s 30ms/step - loss: 0.4101 - accuracy: 0.8523 - val_loss: 0.3543 - val_accuracy: 0.8712\n",
      "Epoch 10/10\n",
      "1250/1250 [==============================] - 38s 31ms/step - loss: 0.3932 - accuracy: 0.8574 - val_loss: 0.3374 - val_accuracy: 0.8781\n",
      "313/313 [==============================] - 3s 8ms/step\n",
      "n_neurons: 100, opt_type: sgd\n",
      "Epoch 1/10\n",
      "1250/1250 [==============================] - 39s 31ms/step - loss: 1.1401 - accuracy: 0.5806 - val_loss: 0.7204 - val_accuracy: 0.7289\n",
      "Epoch 2/10\n",
      "1250/1250 [==============================] - 38s 31ms/step - loss: 0.7022 - accuracy: 0.7369 - val_loss: 0.5592 - val_accuracy: 0.7921\n",
      "Epoch 3/10\n",
      "1250/1250 [==============================] - 39s 31ms/step - loss: 0.6057 - accuracy: 0.7746 - val_loss: 0.4978 - val_accuracy: 0.8179\n",
      "Epoch 4/10\n",
      "1250/1250 [==============================] - 39s 31ms/step - loss: 0.5466 - accuracy: 0.7989 - val_loss: 0.4610 - val_accuracy: 0.8255\n",
      "Epoch 5/10\n",
      "1250/1250 [==============================] - 39s 31ms/step - loss: 0.5087 - accuracy: 0.8163 - val_loss: 0.4331 - val_accuracy: 0.8402\n",
      "Epoch 6/10\n",
      "1250/1250 [==============================] - 39s 31ms/step - loss: 0.4788 - accuracy: 0.8257 - val_loss: 0.4031 - val_accuracy: 0.8530\n",
      "Epoch 7/10\n",
      "1250/1250 [==============================] - 39s 31ms/step - loss: 0.4525 - accuracy: 0.8367 - val_loss: 0.3948 - val_accuracy: 0.8548\n",
      "Epoch 8/10\n",
      "1250/1250 [==============================] - 39s 31ms/step - loss: 0.4317 - accuracy: 0.8440 - val_loss: 0.3704 - val_accuracy: 0.8647\n",
      "Epoch 9/10\n",
      "1250/1250 [==============================] - 39s 31ms/step - loss: 0.4164 - accuracy: 0.8502 - val_loss: 0.3600 - val_accuracy: 0.8696\n",
      "Epoch 10/10\n",
      "1250/1250 [==============================] - 39s 31ms/step - loss: 0.3999 - accuracy: 0.8529 - val_loss: 0.3427 - val_accuracy: 0.8754\n",
      "313/313 [==============================] - 3s 9ms/step\n",
      "n_neurons: 100, opt_type: sgd\n",
      "Epoch 1/10\n",
      "1250/1250 [==============================] - 39s 31ms/step - loss: 1.1960 - accuracy: 0.5541 - val_loss: 0.6847 - val_accuracy: 0.7493\n",
      "Epoch 2/10\n",
      "1250/1250 [==============================] - 39s 31ms/step - loss: 0.7024 - accuracy: 0.7400 - val_loss: 0.5425 - val_accuracy: 0.7981\n",
      "Epoch 3/10\n",
      "1250/1250 [==============================] - 39s 31ms/step - loss: 0.5977 - accuracy: 0.7804 - val_loss: 0.4875 - val_accuracy: 0.8241\n",
      "Epoch 4/10\n",
      "1250/1250 [==============================] - 38s 31ms/step - loss: 0.5392 - accuracy: 0.8047 - val_loss: 0.4519 - val_accuracy: 0.8297\n",
      "Epoch 5/10\n",
      "1250/1250 [==============================] - 39s 31ms/step - loss: 0.4977 - accuracy: 0.8199 - val_loss: 0.4167 - val_accuracy: 0.8440\n",
      "Epoch 6/10\n",
      "1250/1250 [==============================] - 38s 31ms/step - loss: 0.4719 - accuracy: 0.8291 - val_loss: 0.3972 - val_accuracy: 0.8565\n",
      "Epoch 7/10\n",
      "1250/1250 [==============================] - 39s 31ms/step - loss: 0.4450 - accuracy: 0.8424 - val_loss: 0.3830 - val_accuracy: 0.8577\n",
      "Epoch 8/10\n",
      "1250/1250 [==============================] - 39s 31ms/step - loss: 0.4304 - accuracy: 0.8442 - val_loss: 0.3593 - val_accuracy: 0.8684\n",
      "Epoch 9/10\n",
      "1250/1250 [==============================] - 40s 32ms/step - loss: 0.4134 - accuracy: 0.8487 - val_loss: 0.3537 - val_accuracy: 0.8713\n",
      "Epoch 10/10\n",
      "1250/1250 [==============================] - 39s 31ms/step - loss: 0.4010 - accuracy: 0.8577 - val_loss: 0.3426 - val_accuracy: 0.8734\n",
      "313/313 [==============================] - 3s 8ms/step\n",
      "n_neurons: 100, opt_type: sgd\n",
      "Epoch 1/10\n",
      "1250/1250 [==============================] - 39s 31ms/step - loss: 1.1861 - accuracy: 0.5634 - val_loss: 0.6641 - val_accuracy: 0.7574\n",
      "Epoch 2/10\n",
      "1250/1250 [==============================] - 39s 31ms/step - loss: 0.6903 - accuracy: 0.7424 - val_loss: 0.5299 - val_accuracy: 0.8030\n",
      "Epoch 3/10\n",
      "1250/1250 [==============================] - 39s 31ms/step - loss: 0.5892 - accuracy: 0.7809 - val_loss: 0.4815 - val_accuracy: 0.8267\n",
      "Epoch 4/10\n",
      "1250/1250 [==============================] - 40s 32ms/step - loss: 0.5335 - accuracy: 0.8047 - val_loss: 0.4429 - val_accuracy: 0.8378\n",
      "Epoch 5/10\n",
      "1250/1250 [==============================] - 40s 32ms/step - loss: 0.4910 - accuracy: 0.8199 - val_loss: 0.4459 - val_accuracy: 0.8324\n",
      "Epoch 6/10\n",
      "1250/1250 [==============================] - 39s 31ms/step - loss: 0.4582 - accuracy: 0.8337 - val_loss: 0.3983 - val_accuracy: 0.8579\n",
      "Epoch 7/10\n",
      "1250/1250 [==============================] - 39s 31ms/step - loss: 0.4390 - accuracy: 0.8414 - val_loss: 0.3820 - val_accuracy: 0.8624\n",
      "Epoch 8/10\n",
      "1250/1250 [==============================] - 39s 31ms/step - loss: 0.4208 - accuracy: 0.8475 - val_loss: 0.3756 - val_accuracy: 0.8599\n",
      "Epoch 9/10\n",
      "1250/1250 [==============================] - 39s 31ms/step - loss: 0.4053 - accuracy: 0.8540 - val_loss: 0.3535 - val_accuracy: 0.8703\n",
      "Epoch 10/10\n",
      "1250/1250 [==============================] - 39s 31ms/step - loss: 0.3910 - accuracy: 0.8605 - val_loss: 0.3417 - val_accuracy: 0.8755\n",
      "313/313 [==============================] - 3s 8ms/step\n",
      "n_neurons: 100, opt_type: adam\n",
      "Epoch 1/10\n",
      "1250/1250 [==============================] - 40s 32ms/step - loss: 0.5692 - accuracy: 0.7941 - val_loss: 0.3439 - val_accuracy: 0.8758\n",
      "Epoch 2/10\n",
      "1250/1250 [==============================] - 40s 32ms/step - loss: 0.3599 - accuracy: 0.8718 - val_loss: 0.2880 - val_accuracy: 0.8933\n",
      "Epoch 3/10\n",
      "1250/1250 [==============================] - 40s 32ms/step - loss: 0.3035 - accuracy: 0.8909 - val_loss: 0.2654 - val_accuracy: 0.9051\n"
     ]
    },
    {
     "name": "stdout",
     "output_type": "stream",
     "text": [
      "Epoch 4/10\n",
      "1250/1250 [==============================] - 37s 30ms/step - loss: 0.2733 - accuracy: 0.9005 - val_loss: 0.2496 - val_accuracy: 0.9072\n",
      "Epoch 5/10\n",
      "1250/1250 [==============================] - 38s 30ms/step - loss: 0.2416 - accuracy: 0.9117 - val_loss: 0.2336 - val_accuracy: 0.9142\n",
      "Epoch 6/10\n",
      "1250/1250 [==============================] - 38s 30ms/step - loss: 0.2226 - accuracy: 0.9199 - val_loss: 0.2363 - val_accuracy: 0.9173\n",
      "Epoch 7/10\n",
      "1250/1250 [==============================] - 38s 31ms/step - loss: 0.2038 - accuracy: 0.9260 - val_loss: 0.2413 - val_accuracy: 0.9133\n",
      "Epoch 8/10\n",
      "1250/1250 [==============================] - 37s 30ms/step - loss: 0.1885 - accuracy: 0.9327 - val_loss: 0.2298 - val_accuracy: 0.9191\n",
      "Epoch 9/10\n",
      "1250/1250 [==============================] - 37s 30ms/step - loss: 0.1734 - accuracy: 0.9359 - val_loss: 0.2439 - val_accuracy: 0.9173\n",
      "Epoch 10/10\n",
      "1250/1250 [==============================] - 37s 30ms/step - loss: 0.1622 - accuracy: 0.9390 - val_loss: 0.2460 - val_accuracy: 0.9172\n",
      "313/313 [==============================] - 2s 8ms/step\n",
      "n_neurons: 100, opt_type: adam\n",
      "Epoch 1/10\n",
      "1250/1250 [==============================] - 38s 30ms/step - loss: 0.5805 - accuracy: 0.7870 - val_loss: 0.3426 - val_accuracy: 0.8762\n",
      "Epoch 2/10\n",
      "1250/1250 [==============================] - 39s 31ms/step - loss: 0.3628 - accuracy: 0.8710 - val_loss: 0.2963 - val_accuracy: 0.8913\n",
      "Epoch 3/10\n",
      "1250/1250 [==============================] - 38s 31ms/step - loss: 0.3072 - accuracy: 0.8899 - val_loss: 0.2655 - val_accuracy: 0.9044\n",
      "Epoch 4/10\n",
      "1250/1250 [==============================] - 38s 30ms/step - loss: 0.2767 - accuracy: 0.8993 - val_loss: 0.2501 - val_accuracy: 0.9086\n",
      "Epoch 5/10\n",
      "1250/1250 [==============================] - 39s 31ms/step - loss: 0.2457 - accuracy: 0.9105 - val_loss: 0.2582 - val_accuracy: 0.9076\n",
      "Epoch 6/10\n",
      "1250/1250 [==============================] - 38s 30ms/step - loss: 0.2245 - accuracy: 0.9183 - val_loss: 0.2443 - val_accuracy: 0.9129\n",
      "Epoch 7/10\n",
      "1250/1250 [==============================] - 39s 31ms/step - loss: 0.2046 - accuracy: 0.9243 - val_loss: 0.2397 - val_accuracy: 0.9123\n",
      "Epoch 8/10\n",
      "1250/1250 [==============================] - 38s 30ms/step - loss: 0.1886 - accuracy: 0.9303 - val_loss: 0.2179 - val_accuracy: 0.9231\n",
      "Epoch 9/10\n",
      "1250/1250 [==============================] - 37s 30ms/step - loss: 0.1749 - accuracy: 0.9338 - val_loss: 0.2281 - val_accuracy: 0.9201\n",
      "Epoch 10/10\n",
      "1250/1250 [==============================] - 37s 30ms/step - loss: 0.1626 - accuracy: 0.9395 - val_loss: 0.2258 - val_accuracy: 0.9222\n",
      "313/313 [==============================] - 3s 8ms/step\n",
      "n_neurons: 100, opt_type: adam\n",
      "Epoch 1/10\n",
      "1250/1250 [==============================] - 40s 31ms/step - loss: 0.5865 - accuracy: 0.7858 - val_loss: 0.3397 - val_accuracy: 0.8749\n",
      "Epoch 2/10\n",
      "1250/1250 [==============================] - 39s 31ms/step - loss: 0.3634 - accuracy: 0.8706 - val_loss: 0.2923 - val_accuracy: 0.8954\n",
      "Epoch 3/10\n",
      "1250/1250 [==============================] - 40s 32ms/step - loss: 0.3073 - accuracy: 0.8893 - val_loss: 0.2670 - val_accuracy: 0.9038\n",
      "Epoch 4/10\n",
      "1250/1250 [==============================] - 39s 31ms/step - loss: 0.2717 - accuracy: 0.9008 - val_loss: 0.2553 - val_accuracy: 0.9108\n",
      "Epoch 5/10\n",
      "1250/1250 [==============================] - 38s 31ms/step - loss: 0.2421 - accuracy: 0.9118 - val_loss: 0.2340 - val_accuracy: 0.9172\n",
      "Epoch 6/10\n",
      "1250/1250 [==============================] - 38s 30ms/step - loss: 0.2235 - accuracy: 0.9200 - val_loss: 0.2353 - val_accuracy: 0.9157\n",
      "Epoch 7/10\n",
      "1250/1250 [==============================] - 38s 30ms/step - loss: 0.2013 - accuracy: 0.9255 - val_loss: 0.2266 - val_accuracy: 0.9185\n",
      "Epoch 8/10\n",
      "1250/1250 [==============================] - 38s 30ms/step - loss: 0.1875 - accuracy: 0.9302 - val_loss: 0.2214 - val_accuracy: 0.9215\n",
      "Epoch 9/10\n",
      "1250/1250 [==============================] - 38s 31ms/step - loss: 0.1719 - accuracy: 0.9370 - val_loss: 0.2323 - val_accuracy: 0.9183\n",
      "Epoch 10/10\n",
      "1250/1250 [==============================] - 39s 31ms/step - loss: 0.1572 - accuracy: 0.9430 - val_loss: 0.2281 - val_accuracy: 0.9233\n",
      "313/313 [==============================] - 3s 8ms/step\n",
      "n_neurons: 100, opt_type: adam\n",
      "Epoch 1/10\n",
      "1250/1250 [==============================] - 39s 31ms/step - loss: 0.5889 - accuracy: 0.7892 - val_loss: 0.3510 - val_accuracy: 0.8751\n",
      "Epoch 2/10\n",
      "1250/1250 [==============================] - 38s 30ms/step - loss: 0.3637 - accuracy: 0.8714 - val_loss: 0.3044 - val_accuracy: 0.8852\n",
      "Epoch 3/10\n",
      "1250/1250 [==============================] - 38s 30ms/step - loss: 0.3067 - accuracy: 0.8911 - val_loss: 0.2586 - val_accuracy: 0.9067\n",
      "Epoch 4/10\n",
      "1250/1250 [==============================] - 38s 30ms/step - loss: 0.2717 - accuracy: 0.9021 - val_loss: 0.2483 - val_accuracy: 0.9103\n",
      "Epoch 5/10\n",
      "1250/1250 [==============================] - 38s 30ms/step - loss: 0.2484 - accuracy: 0.9114 - val_loss: 0.2379 - val_accuracy: 0.9165\n",
      "Epoch 6/10\n",
      "1250/1250 [==============================] - 39s 31ms/step - loss: 0.2247 - accuracy: 0.9179 - val_loss: 0.2361 - val_accuracy: 0.9100\n",
      "Epoch 7/10\n",
      "1250/1250 [==============================] - 38s 30ms/step - loss: 0.2019 - accuracy: 0.9264 - val_loss: 0.2385 - val_accuracy: 0.9159\n",
      "Epoch 8/10\n",
      "1250/1250 [==============================] - 39s 31ms/step - loss: 0.1894 - accuracy: 0.9301 - val_loss: 0.2264 - val_accuracy: 0.9202\n",
      "Epoch 9/10\n",
      "1250/1250 [==============================] - 38s 30ms/step - loss: 0.1736 - accuracy: 0.9360 - val_loss: 0.2442 - val_accuracy: 0.9155\n",
      "Epoch 10/10\n",
      "1250/1250 [==============================] - 39s 31ms/step - loss: 0.1562 - accuracy: 0.9427 - val_loss: 0.2281 - val_accuracy: 0.9229\n",
      "313/313 [==============================] - 2s 8ms/step\n",
      "n_neurons: 100, opt_type: adam\n",
      "Epoch 1/10\n",
      "1250/1250 [==============================] - 38s 30ms/step - loss: 0.5610 - accuracy: 0.7960 - val_loss: 0.3405 - val_accuracy: 0.8777\n",
      "Epoch 2/10\n",
      "1250/1250 [==============================] - 38s 30ms/step - loss: 0.3478 - accuracy: 0.8759 - val_loss: 0.2817 - val_accuracy: 0.8943\n",
      "Epoch 3/10\n",
      "1250/1250 [==============================] - 38s 30ms/step - loss: 0.2937 - accuracy: 0.8947 - val_loss: 0.2492 - val_accuracy: 0.9106\n",
      "Epoch 4/10\n",
      "1250/1250 [==============================] - 39s 31ms/step - loss: 0.2619 - accuracy: 0.9061 - val_loss: 0.2351 - val_accuracy: 0.9150\n",
      "Epoch 5/10\n",
      "1250/1250 [==============================] - 38s 30ms/step - loss: 0.2351 - accuracy: 0.9129 - val_loss: 0.2449 - val_accuracy: 0.9098\n",
      "Epoch 6/10\n",
      "1250/1250 [==============================] - 40s 32ms/step - loss: 0.2132 - accuracy: 0.9216 - val_loss: 0.2223 - val_accuracy: 0.9190\n",
      "Epoch 7/10\n",
      "1250/1250 [==============================] - 39s 31ms/step - loss: 0.1939 - accuracy: 0.9289 - val_loss: 0.2354 - val_accuracy: 0.9167\n",
      "Epoch 8/10\n",
      "1250/1250 [==============================] - 39s 31ms/step - loss: 0.1754 - accuracy: 0.9359 - val_loss: 0.2368 - val_accuracy: 0.9159\n",
      "Epoch 9/10\n",
      "1250/1250 [==============================] - 38s 30ms/step - loss: 0.1635 - accuracy: 0.9395 - val_loss: 0.2338 - val_accuracy: 0.9224\n",
      "Epoch 10/10\n",
      "1250/1250 [==============================] - 38s 31ms/step - loss: 0.1506 - accuracy: 0.9444 - val_loss: 0.2345 - val_accuracy: 0.9213\n",
      "313/313 [==============================] - 3s 8ms/step\n",
      "n_neurons: 200, opt_type: sgd\n",
      "Epoch 1/10\n",
      "1250/1250 [==============================] - 41s 33ms/step - loss: 1.0565 - accuracy: 0.6131 - val_loss: 0.6115 - val_accuracy: 0.7734\n",
      "Epoch 2/10\n",
      "1250/1250 [==============================] - 41s 33ms/step - loss: 0.6318 - accuracy: 0.7666 - val_loss: 0.5320 - val_accuracy: 0.7955\n",
      "Epoch 3/10\n",
      "1250/1250 [==============================] - 41s 33ms/step - loss: 0.5426 - accuracy: 0.7998 - val_loss: 0.4529 - val_accuracy: 0.8288\n",
      "Epoch 4/10\n",
      "1250/1250 [==============================] - 41s 33ms/step - loss: 0.4855 - accuracy: 0.8214 - val_loss: 0.4162 - val_accuracy: 0.8463\n",
      "Epoch 5/10\n",
      "1250/1250 [==============================] - 41s 33ms/step - loss: 0.4455 - accuracy: 0.8387 - val_loss: 0.3883 - val_accuracy: 0.8583\n",
      "Epoch 6/10\n",
      "1250/1250 [==============================] - 41s 33ms/step - loss: 0.4204 - accuracy: 0.8468 - val_loss: 0.3691 - val_accuracy: 0.8649\n",
      "Epoch 7/10\n"
     ]
    },
    {
     "name": "stdout",
     "output_type": "stream",
     "text": [
      "1250/1250 [==============================] - 40s 32ms/step - loss: 0.4024 - accuracy: 0.8541 - val_loss: 0.3577 - val_accuracy: 0.8702\n",
      "Epoch 8/10\n",
      "1250/1250 [==============================] - 40s 32ms/step - loss: 0.3830 - accuracy: 0.8600 - val_loss: 0.3438 - val_accuracy: 0.8728\n",
      "Epoch 9/10\n",
      "1250/1250 [==============================] - 41s 32ms/step - loss: 0.3675 - accuracy: 0.8674 - val_loss: 0.3343 - val_accuracy: 0.8761\n",
      "Epoch 10/10\n",
      "1250/1250 [==============================] - 41s 33ms/step - loss: 0.3557 - accuracy: 0.8717 - val_loss: 0.3141 - val_accuracy: 0.8873\n",
      "313/313 [==============================] - 3s 8ms/step\n",
      "n_neurons: 200, opt_type: sgd\n",
      "Epoch 1/10\n",
      "1250/1250 [==============================] - 40s 32ms/step - loss: 1.0141 - accuracy: 0.6196 - val_loss: 0.6641 - val_accuracy: 0.7523\n",
      "Epoch 2/10\n",
      "1250/1250 [==============================] - 39s 31ms/step - loss: 0.6544 - accuracy: 0.7566 - val_loss: 0.5655 - val_accuracy: 0.7810\n",
      "Epoch 3/10\n",
      "1250/1250 [==============================] - 39s 31ms/step - loss: 0.5581 - accuracy: 0.7919 - val_loss: 0.4588 - val_accuracy: 0.8278\n",
      "Epoch 4/10\n",
      "1250/1250 [==============================] - 40s 32ms/step - loss: 0.5029 - accuracy: 0.8134 - val_loss: 0.4209 - val_accuracy: 0.8452\n",
      "Epoch 5/10\n",
      "1250/1250 [==============================] - 39s 31ms/step - loss: 0.4623 - accuracy: 0.8301 - val_loss: 0.4115 - val_accuracy: 0.8462\n",
      "Epoch 6/10\n",
      "1250/1250 [==============================] - 39s 31ms/step - loss: 0.4349 - accuracy: 0.8417 - val_loss: 0.3831 - val_accuracy: 0.8593\n",
      "Epoch 7/10\n",
      "1250/1250 [==============================] - 39s 31ms/step - loss: 0.4133 - accuracy: 0.8503 - val_loss: 0.3673 - val_accuracy: 0.8673\n",
      "Epoch 8/10\n",
      "1250/1250 [==============================] - 39s 32ms/step - loss: 0.3937 - accuracy: 0.8553 - val_loss: 0.3407 - val_accuracy: 0.8759\n",
      "Epoch 9/10\n",
      "1250/1250 [==============================] - 39s 32ms/step - loss: 0.3778 - accuracy: 0.8627 - val_loss: 0.3403 - val_accuracy: 0.8750\n",
      "Epoch 10/10\n",
      "1250/1250 [==============================] - 39s 32ms/step - loss: 0.3639 - accuracy: 0.8683 - val_loss: 0.3229 - val_accuracy: 0.8837\n",
      "313/313 [==============================] - 3s 8ms/step\n",
      "n_neurons: 200, opt_type: sgd\n",
      "Epoch 1/10\n",
      "1250/1250 [==============================] - 41s 32ms/step - loss: 1.0840 - accuracy: 0.5999 - val_loss: 0.6632 - val_accuracy: 0.7622\n",
      "Epoch 2/10\n",
      "1250/1250 [==============================] - 41s 33ms/step - loss: 0.6545 - accuracy: 0.7543 - val_loss: 0.5423 - val_accuracy: 0.7964\n",
      "Epoch 3/10\n",
      "1250/1250 [==============================] - 40s 32ms/step - loss: 0.5651 - accuracy: 0.7895 - val_loss: 0.4714 - val_accuracy: 0.8272\n",
      "Epoch 4/10\n",
      "1250/1250 [==============================] - 40s 32ms/step - loss: 0.5102 - accuracy: 0.8126 - val_loss: 0.4276 - val_accuracy: 0.8406\n",
      "Epoch 5/10\n",
      "1250/1250 [==============================] - 41s 33ms/step - loss: 0.4659 - accuracy: 0.8294 - val_loss: 0.4027 - val_accuracy: 0.8515\n",
      "Epoch 6/10\n",
      "1250/1250 [==============================] - 40s 32ms/step - loss: 0.4344 - accuracy: 0.8409 - val_loss: 0.3764 - val_accuracy: 0.8629\n",
      "Epoch 7/10\n",
      "1250/1250 [==============================] - 40s 32ms/step - loss: 0.4151 - accuracy: 0.8497 - val_loss: 0.3724 - val_accuracy: 0.8633\n",
      "Epoch 8/10\n",
      "1250/1250 [==============================] - 41s 33ms/step - loss: 0.3949 - accuracy: 0.8572 - val_loss: 0.3425 - val_accuracy: 0.8758\n",
      "Epoch 9/10\n",
      "1250/1250 [==============================] - 41s 33ms/step - loss: 0.3775 - accuracy: 0.8630 - val_loss: 0.3365 - val_accuracy: 0.8780\n",
      "Epoch 10/10\n",
      "1250/1250 [==============================] - 41s 33ms/step - loss: 0.3635 - accuracy: 0.8670 - val_loss: 0.3196 - val_accuracy: 0.8834\n",
      "313/313 [==============================] - 3s 8ms/step\n",
      "n_neurons: 200, opt_type: sgd\n",
      "Epoch 1/10\n",
      "1250/1250 [==============================] - 42s 33ms/step - loss: 1.0676 - accuracy: 0.6082 - val_loss: 0.6183 - val_accuracy: 0.7742\n",
      "Epoch 2/10\n",
      "1250/1250 [==============================] - 41s 33ms/step - loss: 0.6300 - accuracy: 0.7656 - val_loss: 0.5025 - val_accuracy: 0.8116\n",
      "Epoch 3/10\n",
      "1250/1250 [==============================] - 41s 32ms/step - loss: 0.5332 - accuracy: 0.8024 - val_loss: 0.4390 - val_accuracy: 0.8397\n",
      "Epoch 4/10\n",
      "1250/1250 [==============================] - 41s 33ms/step - loss: 0.4804 - accuracy: 0.8240 - val_loss: 0.4175 - val_accuracy: 0.8435\n",
      "Epoch 5/10\n",
      "1250/1250 [==============================] - 41s 33ms/step - loss: 0.4427 - accuracy: 0.8401 - val_loss: 0.3923 - val_accuracy: 0.8566\n",
      "Epoch 6/10\n",
      "1250/1250 [==============================] - 41s 33ms/step - loss: 0.4212 - accuracy: 0.8483 - val_loss: 0.3597 - val_accuracy: 0.8714\n",
      "Epoch 7/10\n",
      "1250/1250 [==============================] - 41s 33ms/step - loss: 0.3983 - accuracy: 0.8559 - val_loss: 0.3634 - val_accuracy: 0.8651\n",
      "Epoch 8/10\n",
      "1250/1250 [==============================] - 41s 33ms/step - loss: 0.3800 - accuracy: 0.8626 - val_loss: 0.3372 - val_accuracy: 0.8763\n",
      "Epoch 9/10\n",
      "1250/1250 [==============================] - 41s 33ms/step - loss: 0.3702 - accuracy: 0.8660 - val_loss: 0.3353 - val_accuracy: 0.8743\n",
      "Epoch 10/10\n",
      "1250/1250 [==============================] - 41s 33ms/step - loss: 0.3547 - accuracy: 0.8699 - val_loss: 0.3259 - val_accuracy: 0.8781\n",
      "313/313 [==============================] - 3s 8ms/step\n",
      "n_neurons: 200, opt_type: sgd\n",
      "Epoch 1/10\n",
      "1250/1250 [==============================] - 42s 33ms/step - loss: 1.0359 - accuracy: 0.6186 - val_loss: 0.6188 - val_accuracy: 0.7753\n",
      "Epoch 2/10\n",
      "1250/1250 [==============================] - 41s 33ms/step - loss: 0.6338 - accuracy: 0.7629 - val_loss: 0.5179 - val_accuracy: 0.8050\n",
      "Epoch 3/10\n",
      "1250/1250 [==============================] - 41s 33ms/step - loss: 0.5431 - accuracy: 0.7987 - val_loss: 0.4614 - val_accuracy: 0.8334\n",
      "Epoch 4/10\n",
      "1250/1250 [==============================] - 41s 33ms/step - loss: 0.4932 - accuracy: 0.8169 - val_loss: 0.4297 - val_accuracy: 0.8377\n",
      "Epoch 5/10\n",
      "1250/1250 [==============================] - 41s 33ms/step - loss: 0.4544 - accuracy: 0.8352 - val_loss: 0.4015 - val_accuracy: 0.8513\n",
      "Epoch 6/10\n",
      "1250/1250 [==============================] - 41s 33ms/step - loss: 0.4299 - accuracy: 0.8467 - val_loss: 0.3763 - val_accuracy: 0.8643\n",
      "Epoch 7/10\n",
      "1250/1250 [==============================] - 41s 33ms/step - loss: 0.4047 - accuracy: 0.8537 - val_loss: 0.3756 - val_accuracy: 0.8588\n",
      "Epoch 8/10\n",
      "1250/1250 [==============================] - 42s 33ms/step - loss: 0.3895 - accuracy: 0.8611 - val_loss: 0.3482 - val_accuracy: 0.8728\n",
      "Epoch 9/10\n",
      "1250/1250 [==============================] - 41s 33ms/step - loss: 0.3750 - accuracy: 0.8627 - val_loss: 0.3249 - val_accuracy: 0.8839\n",
      "Epoch 10/10\n",
      "1250/1250 [==============================] - 41s 32ms/step - loss: 0.3596 - accuracy: 0.8694 - val_loss: 0.3208 - val_accuracy: 0.8818\n",
      "313/313 [==============================] - 3s 8ms/step\n",
      "n_neurons: 200, opt_type: adam\n",
      "Epoch 1/10\n",
      "1250/1250 [==============================] - 42s 33ms/step - loss: 0.4992 - accuracy: 0.8206 - val_loss: 0.3177 - val_accuracy: 0.8846\n",
      "Epoch 2/10\n",
      "1250/1250 [==============================] - 42s 33ms/step - loss: 0.3114 - accuracy: 0.8857 - val_loss: 0.2599 - val_accuracy: 0.9063\n",
      "Epoch 3/10\n",
      "1250/1250 [==============================] - 42s 33ms/step - loss: 0.2629 - accuracy: 0.9058 - val_loss: 0.2444 - val_accuracy: 0.9134\n",
      "Epoch 4/10\n",
      "1250/1250 [==============================] - 42s 34ms/step - loss: 0.2286 - accuracy: 0.9164 - val_loss: 0.2326 - val_accuracy: 0.9125\n",
      "Epoch 5/10\n",
      "1250/1250 [==============================] - 42s 34ms/step - loss: 0.1974 - accuracy: 0.9273 - val_loss: 0.2274 - val_accuracy: 0.9160\n",
      "Epoch 6/10\n",
      "1250/1250 [==============================] - 41s 33ms/step - loss: 0.1782 - accuracy: 0.9347 - val_loss: 0.2214 - val_accuracy: 0.9224\n",
      "Epoch 7/10\n",
      "1250/1250 [==============================] - 42s 33ms/step - loss: 0.1563 - accuracy: 0.9417 - val_loss: 0.2431 - val_accuracy: 0.9120\n",
      "Epoch 8/10\n",
      "1250/1250 [==============================] - 41s 33ms/step - loss: 0.1424 - accuracy: 0.9464 - val_loss: 0.2293 - val_accuracy: 0.9238\n",
      "Epoch 9/10\n",
      "1250/1250 [==============================] - 42s 33ms/step - loss: 0.1254 - accuracy: 0.9539 - val_loss: 0.2306 - val_accuracy: 0.9237\n",
      "Epoch 10/10\n"
     ]
    },
    {
     "name": "stdout",
     "output_type": "stream",
     "text": [
      "1250/1250 [==============================] - 41s 33ms/step - loss: 0.1118 - accuracy: 0.9579 - val_loss: 0.2568 - val_accuracy: 0.9219\n",
      "313/313 [==============================] - 3s 8ms/step\n",
      "n_neurons: 200, opt_type: adam\n",
      "Epoch 1/10\n",
      "1250/1250 [==============================] - 42s 33ms/step - loss: 0.5129 - accuracy: 0.8140 - val_loss: 0.3194 - val_accuracy: 0.8831\n",
      "Epoch 2/10\n",
      "1250/1250 [==============================] - 41s 33ms/step - loss: 0.3237 - accuracy: 0.8826 - val_loss: 0.2665 - val_accuracy: 0.8991\n",
      "Epoch 3/10\n",
      "1250/1250 [==============================] - 41s 33ms/step - loss: 0.2717 - accuracy: 0.9018 - val_loss: 0.2502 - val_accuracy: 0.9085\n",
      "Epoch 4/10\n",
      "1250/1250 [==============================] - 41s 33ms/step - loss: 0.2375 - accuracy: 0.9130 - val_loss: 0.2517 - val_accuracy: 0.9081\n",
      "Epoch 5/10\n",
      "1250/1250 [==============================] - 41s 33ms/step - loss: 0.2086 - accuracy: 0.9226 - val_loss: 0.2249 - val_accuracy: 0.9177\n",
      "Epoch 6/10\n",
      "1250/1250 [==============================] - 41s 33ms/step - loss: 0.1840 - accuracy: 0.9318 - val_loss: 0.2271 - val_accuracy: 0.9215\n",
      "Epoch 7/10\n",
      "1250/1250 [==============================] - 41s 33ms/step - loss: 0.1670 - accuracy: 0.9382 - val_loss: 0.2274 - val_accuracy: 0.9191\n",
      "Epoch 8/10\n",
      "1250/1250 [==============================] - 41s 33ms/step - loss: 0.1467 - accuracy: 0.9456 - val_loss: 0.2422 - val_accuracy: 0.9202\n",
      "Epoch 9/10\n",
      "1250/1250 [==============================] - 41s 33ms/step - loss: 0.1320 - accuracy: 0.9516 - val_loss: 0.2506 - val_accuracy: 0.9208\n",
      "Epoch 10/10\n",
      "1250/1250 [==============================] - 41s 33ms/step - loss: 0.1204 - accuracy: 0.9550 - val_loss: 0.2524 - val_accuracy: 0.9238\n",
      "313/313 [==============================] - 3s 8ms/step\n",
      "n_neurons: 200, opt_type: adam\n",
      "Epoch 1/10\n",
      "1250/1250 [==============================] - 42s 33ms/step - loss: 0.5086 - accuracy: 0.8130 - val_loss: 0.3036 - val_accuracy: 0.8923\n",
      "Epoch 2/10\n",
      "1250/1250 [==============================] - 42s 33ms/step - loss: 0.3130 - accuracy: 0.8854 - val_loss: 0.2652 - val_accuracy: 0.9044\n",
      "Epoch 3/10\n",
      "1250/1250 [==============================] - 41s 33ms/step - loss: 0.2624 - accuracy: 0.9041 - val_loss: 0.2495 - val_accuracy: 0.9091\n",
      "Epoch 4/10\n",
      "1250/1250 [==============================] - 41s 33ms/step - loss: 0.2301 - accuracy: 0.9151 - val_loss: 0.2337 - val_accuracy: 0.9156\n",
      "Epoch 5/10\n",
      "1250/1250 [==============================] - 41s 33ms/step - loss: 0.2018 - accuracy: 0.9253 - val_loss: 0.2370 - val_accuracy: 0.9160\n",
      "Epoch 6/10\n",
      "1250/1250 [==============================] - 41s 33ms/step - loss: 0.1786 - accuracy: 0.9326 - val_loss: 0.2306 - val_accuracy: 0.9127\n",
      "Epoch 7/10\n",
      "1250/1250 [==============================] - 41s 33ms/step - loss: 0.1559 - accuracy: 0.9422 - val_loss: 0.2281 - val_accuracy: 0.9218\n",
      "Epoch 8/10\n",
      "1250/1250 [==============================] - 41s 33ms/step - loss: 0.1385 - accuracy: 0.9494 - val_loss: 0.2232 - val_accuracy: 0.9244\n",
      "Epoch 9/10\n",
      "1250/1250 [==============================] - 41s 33ms/step - loss: 0.1247 - accuracy: 0.9545 - val_loss: 0.2495 - val_accuracy: 0.9224\n",
      "Epoch 10/10\n",
      "1250/1250 [==============================] - 41s 33ms/step - loss: 0.1112 - accuracy: 0.9587 - val_loss: 0.2464 - val_accuracy: 0.9250\n",
      "313/313 [==============================] - 3s 8ms/step\n",
      "n_neurons: 200, opt_type: adam\n",
      "Epoch 1/10\n",
      "1250/1250 [==============================] - 42s 33ms/step - loss: 0.5049 - accuracy: 0.8157 - val_loss: 0.3186 - val_accuracy: 0.8849\n",
      "Epoch 2/10\n",
      "1250/1250 [==============================] - 42s 33ms/step - loss: 0.3146 - accuracy: 0.8860 - val_loss: 0.2761 - val_accuracy: 0.8997\n",
      "Epoch 3/10\n",
      "1250/1250 [==============================] - 41s 33ms/step - loss: 0.2623 - accuracy: 0.9040 - val_loss: 0.2569 - val_accuracy: 0.9065\n",
      "Epoch 4/10\n",
      "1250/1250 [==============================] - 41s 33ms/step - loss: 0.2290 - accuracy: 0.9144 - val_loss: 0.2310 - val_accuracy: 0.9141\n",
      "Epoch 5/10\n",
      "1250/1250 [==============================] - 41s 33ms/step - loss: 0.2035 - accuracy: 0.9249 - val_loss: 0.2359 - val_accuracy: 0.9146\n",
      "Epoch 6/10\n",
      "1250/1250 [==============================] - 41s 33ms/step - loss: 0.1777 - accuracy: 0.9350 - val_loss: 0.2199 - val_accuracy: 0.9220\n",
      "Epoch 7/10\n",
      "1250/1250 [==============================] - 42s 33ms/step - loss: 0.1604 - accuracy: 0.9414 - val_loss: 0.2401 - val_accuracy: 0.9204\n",
      "Epoch 8/10\n",
      "1250/1250 [==============================] - 41s 33ms/step - loss: 0.1425 - accuracy: 0.9460 - val_loss: 0.2605 - val_accuracy: 0.9155\n",
      "Epoch 9/10\n",
      "1250/1250 [==============================] - 42s 34ms/step - loss: 0.1292 - accuracy: 0.9512 - val_loss: 0.2661 - val_accuracy: 0.9217\n",
      "Epoch 10/10\n",
      "1250/1250 [==============================] - 43s 35ms/step - loss: 0.1174 - accuracy: 0.9563 - val_loss: 0.2544 - val_accuracy: 0.9241\n",
      "313/313 [==============================] - 3s 9ms/step\n",
      "n_neurons: 200, opt_type: adam\n",
      "Epoch 1/10\n",
      "1250/1250 [==============================] - 44s 35ms/step - loss: 0.5026 - accuracy: 0.8175 - val_loss: 0.3271 - val_accuracy: 0.8805\n",
      "Epoch 2/10\n",
      "1250/1250 [==============================] - 43s 34ms/step - loss: 0.3131 - accuracy: 0.8871 - val_loss: 0.2551 - val_accuracy: 0.9076\n",
      "Epoch 3/10\n",
      "1250/1250 [==============================] - 42s 34ms/step - loss: 0.2680 - accuracy: 0.9015 - val_loss: 0.2453 - val_accuracy: 0.9124\n",
      "Epoch 4/10\n",
      "1250/1250 [==============================] - 43s 34ms/step - loss: 0.2317 - accuracy: 0.9159 - val_loss: 0.2321 - val_accuracy: 0.9152\n",
      "Epoch 5/10\n",
      "1250/1250 [==============================] - 43s 34ms/step - loss: 0.2074 - accuracy: 0.9244 - val_loss: 0.2357 - val_accuracy: 0.9149\n",
      "Epoch 6/10\n",
      "1250/1250 [==============================] - 43s 34ms/step - loss: 0.1827 - accuracy: 0.9318 - val_loss: 0.2247 - val_accuracy: 0.9177\n",
      "Epoch 7/10\n",
      "1250/1250 [==============================] - 43s 34ms/step - loss: 0.1626 - accuracy: 0.9413 - val_loss: 0.2449 - val_accuracy: 0.9175\n",
      "Epoch 8/10\n",
      "1250/1250 [==============================] - 42s 34ms/step - loss: 0.1437 - accuracy: 0.9474 - val_loss: 0.2341 - val_accuracy: 0.9189\n",
      "Epoch 9/10\n",
      "1250/1250 [==============================] - 43s 34ms/step - loss: 0.1308 - accuracy: 0.9513 - val_loss: 0.2547 - val_accuracy: 0.9216\n",
      "Epoch 10/10\n",
      "1250/1250 [==============================] - 43s 34ms/step - loss: 0.1175 - accuracy: 0.9572 - val_loss: 0.2520 - val_accuracy: 0.9201\n",
      "313/313 [==============================] - 3s 9ms/step\n",
      "n_neurons: 200, opt_type: adam\n",
      "Epoch 1/10\n",
      "1563/1563 [==============================] - 55s 35ms/step - loss: 0.4831 - accuracy: 0.8217 - val_loss: 0.3111 - val_accuracy: 0.8871\n",
      "Epoch 2/10\n",
      "1563/1563 [==============================] - 51s 33ms/step - loss: 0.3104 - accuracy: 0.8857 - val_loss: 0.2722 - val_accuracy: 0.9024\n",
      "Epoch 3/10\n",
      "1563/1563 [==============================] - 52s 33ms/step - loss: 0.2624 - accuracy: 0.9040 - val_loss: 0.2540 - val_accuracy: 0.9067\n",
      "Epoch 4/10\n",
      "1563/1563 [==============================] - 51s 33ms/step - loss: 0.2303 - accuracy: 0.9152 - val_loss: 0.2643 - val_accuracy: 0.9035\n",
      "Epoch 5/10\n",
      "1563/1563 [==============================] - 51s 33ms/step - loss: 0.2063 - accuracy: 0.9232 - val_loss: 0.2204 - val_accuracy: 0.9186\n",
      "Epoch 6/10\n",
      "1563/1563 [==============================] - 51s 33ms/step - loss: 0.1849 - accuracy: 0.9315 - val_loss: 0.2249 - val_accuracy: 0.9168\n",
      "Epoch 7/10\n",
      "1563/1563 [==============================] - 52s 33ms/step - loss: 0.1688 - accuracy: 0.9377 - val_loss: 0.2253 - val_accuracy: 0.9186\n",
      "Epoch 8/10\n",
      "1563/1563 [==============================] - 51s 33ms/step - loss: 0.1502 - accuracy: 0.9433 - val_loss: 0.2372 - val_accuracy: 0.9216\n",
      "Epoch 9/10\n",
      "1563/1563 [==============================] - 51s 33ms/step - loss: 0.1371 - accuracy: 0.9485 - val_loss: 0.2398 - val_accuracy: 0.9222\n",
      "Epoch 10/10\n",
      "1563/1563 [==============================] - 51s 33ms/step - loss: 0.1229 - accuracy: 0.9537 - val_loss: 0.2530 - val_accuracy: 0.9212\n"
     ]
    },
    {
     "data": {
      "text/html": [
       "<style>#sk-container-id-1 {color: black;background-color: white;}#sk-container-id-1 pre{padding: 0;}#sk-container-id-1 div.sk-toggleable {background-color: white;}#sk-container-id-1 label.sk-toggleable__label {cursor: pointer;display: block;width: 100%;margin-bottom: 0;padding: 0.3em;box-sizing: border-box;text-align: center;}#sk-container-id-1 label.sk-toggleable__label-arrow:before {content: \"▸\";float: left;margin-right: 0.25em;color: #696969;}#sk-container-id-1 label.sk-toggleable__label-arrow:hover:before {color: black;}#sk-container-id-1 div.sk-estimator:hover label.sk-toggleable__label-arrow:before {color: black;}#sk-container-id-1 div.sk-toggleable__content {max-height: 0;max-width: 0;overflow: hidden;text-align: left;background-color: #f0f8ff;}#sk-container-id-1 div.sk-toggleable__content pre {margin: 0.2em;color: black;border-radius: 0.25em;background-color: #f0f8ff;}#sk-container-id-1 input.sk-toggleable__control:checked~div.sk-toggleable__content {max-height: 200px;max-width: 100%;overflow: auto;}#sk-container-id-1 input.sk-toggleable__control:checked~label.sk-toggleable__label-arrow:before {content: \"▾\";}#sk-container-id-1 div.sk-estimator input.sk-toggleable__control:checked~label.sk-toggleable__label {background-color: #d4ebff;}#sk-container-id-1 div.sk-label input.sk-toggleable__control:checked~label.sk-toggleable__label {background-color: #d4ebff;}#sk-container-id-1 input.sk-hidden--visually {border: 0;clip: rect(1px 1px 1px 1px);clip: rect(1px, 1px, 1px, 1px);height: 1px;margin: -1px;overflow: hidden;padding: 0;position: absolute;width: 1px;}#sk-container-id-1 div.sk-estimator {font-family: monospace;background-color: #f0f8ff;border: 1px dotted black;border-radius: 0.25em;box-sizing: border-box;margin-bottom: 0.5em;}#sk-container-id-1 div.sk-estimator:hover {background-color: #d4ebff;}#sk-container-id-1 div.sk-parallel-item::after {content: \"\";width: 100%;border-bottom: 1px solid gray;flex-grow: 1;}#sk-container-id-1 div.sk-label:hover label.sk-toggleable__label {background-color: #d4ebff;}#sk-container-id-1 div.sk-serial::before {content: \"\";position: absolute;border-left: 1px solid gray;box-sizing: border-box;top: 0;bottom: 0;left: 50%;z-index: 0;}#sk-container-id-1 div.sk-serial {display: flex;flex-direction: column;align-items: center;background-color: white;padding-right: 0.2em;padding-left: 0.2em;position: relative;}#sk-container-id-1 div.sk-item {position: relative;z-index: 1;}#sk-container-id-1 div.sk-parallel {display: flex;align-items: stretch;justify-content: center;background-color: white;position: relative;}#sk-container-id-1 div.sk-item::before, #sk-container-id-1 div.sk-parallel-item::before {content: \"\";position: absolute;border-left: 1px solid gray;box-sizing: border-box;top: 0;bottom: 0;left: 50%;z-index: -1;}#sk-container-id-1 div.sk-parallel-item {display: flex;flex-direction: column;z-index: 1;position: relative;background-color: white;}#sk-container-id-1 div.sk-parallel-item:first-child::after {align-self: flex-end;width: 50%;}#sk-container-id-1 div.sk-parallel-item:last-child::after {align-self: flex-start;width: 50%;}#sk-container-id-1 div.sk-parallel-item:only-child::after {width: 0;}#sk-container-id-1 div.sk-dashed-wrapped {border: 1px dashed gray;margin: 0 0.4em 0.5em 0.4em;box-sizing: border-box;padding-bottom: 0.4em;background-color: white;}#sk-container-id-1 div.sk-label label {font-family: monospace;font-weight: bold;display: inline-block;line-height: 1.2em;}#sk-container-id-1 div.sk-label-container {text-align: center;}#sk-container-id-1 div.sk-container {/* jupyter's `normalize.less` sets `[hidden] { display: none; }` but bootstrap.min.css set `[hidden] { display: none !important; }` so we also need the `!important` here to be able to override the default hidden behavior on the sphinx rendered scikit-learn.org. See: https://github.com/scikit-learn/scikit-learn/issues/21755 */display: inline-block !important;position: relative;}#sk-container-id-1 div.sk-text-repr-fallback {display: none;}</style><div id=\"sk-container-id-1\" class=\"sk-top-container\"><div class=\"sk-text-repr-fallback\"><pre>GridSearchCV(cv=5,\n",
       "             estimator=KerasClassifier(model=&lt;function build_model at 0x7ff1e252a310&gt;, n_neurons=100, opt_type=&#x27;sgd&#x27;),\n",
       "             param_grid={&#x27;n_neurons&#x27;: [100, 200], &#x27;opt_type&#x27;: [&#x27;sgd&#x27;, &#x27;adam&#x27;]})</pre><b>In a Jupyter environment, please rerun this cell to show the HTML representation or trust the notebook. <br />On GitHub, the HTML representation is unable to render, please try loading this page with nbviewer.org.</b></div><div class=\"sk-container\" hidden><div class=\"sk-item sk-dashed-wrapped\"><div class=\"sk-label-container\"><div class=\"sk-label sk-toggleable\"><input class=\"sk-toggleable__control sk-hidden--visually\" id=\"sk-estimator-id-1\" type=\"checkbox\" ><label for=\"sk-estimator-id-1\" class=\"sk-toggleable__label sk-toggleable__label-arrow\">GridSearchCV</label><div class=\"sk-toggleable__content\"><pre>GridSearchCV(cv=5,\n",
       "             estimator=KerasClassifier(model=&lt;function build_model at 0x7ff1e252a310&gt;, n_neurons=100, opt_type=&#x27;sgd&#x27;),\n",
       "             param_grid={&#x27;n_neurons&#x27;: [100, 200], &#x27;opt_type&#x27;: [&#x27;sgd&#x27;, &#x27;adam&#x27;]})</pre></div></div></div><div class=\"sk-parallel\"><div class=\"sk-parallel-item\"><div class=\"sk-item\"><div class=\"sk-label-container\"><div class=\"sk-label sk-toggleable\"><input class=\"sk-toggleable__control sk-hidden--visually\" id=\"sk-estimator-id-2\" type=\"checkbox\" ><label for=\"sk-estimator-id-2\" class=\"sk-toggleable__label sk-toggleable__label-arrow\">estimator: KerasClassifier</label><div class=\"sk-toggleable__content\"><pre>KerasClassifier(\n",
       "\tmodel=&lt;function build_model at 0x7ff1e252a310&gt;\n",
       "\tbuild_fn=None\n",
       "\twarm_start=False\n",
       "\trandom_state=None\n",
       "\toptimizer=rmsprop\n",
       "\tloss=None\n",
       "\tmetrics=None\n",
       "\tbatch_size=None\n",
       "\tvalidation_batch_size=None\n",
       "\tverbose=1\n",
       "\tcallbacks=None\n",
       "\tvalidation_split=0.0\n",
       "\tshuffle=True\n",
       "\trun_eagerly=False\n",
       "\tepochs=1\n",
       "\tn_neurons=100\n",
       "\topt_type=sgd\n",
       "\tclass_weight=None\n",
       ")</pre></div></div></div><div class=\"sk-serial\"><div class=\"sk-item\"><div class=\"sk-estimator sk-toggleable\"><input class=\"sk-toggleable__control sk-hidden--visually\" id=\"sk-estimator-id-3\" type=\"checkbox\" ><label for=\"sk-estimator-id-3\" class=\"sk-toggleable__label sk-toggleable__label-arrow\">KerasClassifier</label><div class=\"sk-toggleable__content\"><pre>KerasClassifier(\n",
       "\tmodel=&lt;function build_model at 0x7ff1e252a310&gt;\n",
       "\tbuild_fn=None\n",
       "\twarm_start=False\n",
       "\trandom_state=None\n",
       "\toptimizer=rmsprop\n",
       "\tloss=None\n",
       "\tmetrics=None\n",
       "\tbatch_size=None\n",
       "\tvalidation_batch_size=None\n",
       "\tverbose=1\n",
       "\tcallbacks=None\n",
       "\tvalidation_split=0.0\n",
       "\tshuffle=True\n",
       "\trun_eagerly=False\n",
       "\tepochs=1\n",
       "\tn_neurons=100\n",
       "\topt_type=sgd\n",
       "\tclass_weight=None\n",
       ")</pre></div></div></div></div></div></div></div></div></div></div>"
      ],
      "text/plain": [
       "GridSearchCV(cv=5,\n",
       "             estimator=KerasClassifier(model=<function build_model at 0x7ff1e252a310>, n_neurons=100, opt_type='sgd'),\n",
       "             param_grid={'n_neurons': [100, 200], 'opt_type': ['sgd', 'adam']})"
      ]
     },
     "execution_count": 25,
     "metadata": {},
     "output_type": "execute_result"
    }
   ],
   "source": [
    "grid_search = GridSearchCV(keras_classifier, parameters, cv=5)\n",
    "\n",
    "grid_search.fit(X_train, \n",
    "                y_train, \n",
    "                epochs=10, \n",
    "                validation_data = (X_valid, y_valid), \n",
    "                callbacks=EarlyStopping(patience=5))"
   ]
  },
  {
   "cell_type": "markdown",
   "id": "8dffe563",
   "metadata": {},
   "source": [
    "Having finished the hyperparameter fine tuning, the best parameters determined are as follows."
   ]
  },
  {
   "cell_type": "code",
   "execution_count": 26,
   "id": "22ae5783",
   "metadata": {},
   "outputs": [
    {
     "data": {
      "text/plain": [
       "{'n_neurons': 200, 'opt_type': 'adam'}"
      ]
     },
     "execution_count": 26,
     "metadata": {},
     "output_type": "execute_result"
    }
   ],
   "source": [
    "grid_search.best_params_"
   ]
  },
  {
   "cell_type": "markdown",
   "id": "38a2be8c",
   "metadata": {},
   "source": [
    "## Optimial Model"
   ]
  },
  {
   "cell_type": "markdown",
   "id": "0e395b31",
   "metadata": {},
   "source": [
    "Using this optimal model, we finally assess the performance on the test set."
   ]
  },
  {
   "cell_type": "code",
   "execution_count": 27,
   "id": "fc5eff59",
   "metadata": {},
   "outputs": [
    {
     "name": "stdout",
     "output_type": "stream",
     "text": [
      "n_neurons: 200, opt_type: adam\n"
     ]
    }
   ],
   "source": [
    "optimal_model = build_model(grid_search.best_params_['n_neurons'], grid_search.best_params_['opt_type'])"
   ]
  },
  {
   "cell_type": "code",
   "execution_count": 28,
   "id": "a51dfad4",
   "metadata": {},
   "outputs": [
    {
     "name": "stdout",
     "output_type": "stream",
     "text": [
      "Model: \"sequential_22\"\n",
      "_________________________________________________________________\n",
      " Layer (type)                Output Shape              Param #   \n",
      "=================================================================\n",
      " conv2d_44 (Conv2D)          (None, 28, 28, 32)        320       \n",
      "                                                                 \n",
      " max_pooling2d_44 (MaxPoolin  (None, 14, 14, 32)       0         \n",
      " g2D)                                                            \n",
      "                                                                 \n",
      " conv2d_45 (Conv2D)          (None, 14, 14, 64)        18496     \n",
      "                                                                 \n",
      " max_pooling2d_45 (MaxPoolin  (None, 7, 7, 64)         0         \n",
      " g2D)                                                            \n",
      "                                                                 \n",
      " flatten_22 (Flatten)        (None, 3136)              0         \n",
      "                                                                 \n",
      " dense_66 (Dense)            (None, 200)               627400    \n",
      "                                                                 \n",
      " dropout_44 (Dropout)        (None, 200)               0         \n",
      "                                                                 \n",
      " dense_67 (Dense)            (None, 200)               40200     \n",
      "                                                                 \n",
      " dropout_45 (Dropout)        (None, 200)               0         \n",
      "                                                                 \n",
      " dense_68 (Dense)            (None, 10)                2010      \n",
      "                                                                 \n",
      "=================================================================\n",
      "Total params: 688,426\n",
      "Trainable params: 688,426\n",
      "Non-trainable params: 0\n",
      "_________________________________________________________________\n"
     ]
    }
   ],
   "source": [
    "optimal_model.summary()"
   ]
  },
  {
   "cell_type": "code",
   "execution_count": 29,
   "id": "cb2878ea",
   "metadata": {},
   "outputs": [
    {
     "name": "stdout",
     "output_type": "stream",
     "text": [
      "Epoch 1/10\n",
      "1563/1563 [==============================] - 50s 32ms/step - loss: 0.4751 - accuracy: 0.8283 - val_loss: 0.3074 - val_accuracy: 0.8928\n",
      "Epoch 2/10\n",
      "1563/1563 [==============================] - 49s 31ms/step - loss: 0.3067 - accuracy: 0.8877 - val_loss: 0.2583 - val_accuracy: 0.9031\n",
      "Epoch 3/10\n",
      "1563/1563 [==============================] - 49s 31ms/step - loss: 0.2607 - accuracy: 0.9044 - val_loss: 0.2499 - val_accuracy: 0.9100\n",
      "Epoch 4/10\n",
      "1563/1563 [==============================] - 49s 32ms/step - loss: 0.2293 - accuracy: 0.9171 - val_loss: 0.2312 - val_accuracy: 0.9173\n",
      "Epoch 5/10\n",
      "1563/1563 [==============================] - 49s 31ms/step - loss: 0.2017 - accuracy: 0.9245 - val_loss: 0.2196 - val_accuracy: 0.9226\n",
      "Epoch 6/10\n",
      "1563/1563 [==============================] - 49s 31ms/step - loss: 0.1810 - accuracy: 0.9325 - val_loss: 0.2213 - val_accuracy: 0.9174\n",
      "Epoch 7/10\n",
      "1563/1563 [==============================] - 50s 32ms/step - loss: 0.1621 - accuracy: 0.9386 - val_loss: 0.2342 - val_accuracy: 0.9181\n",
      "Epoch 8/10\n",
      "1563/1563 [==============================] - 51s 32ms/step - loss: 0.1457 - accuracy: 0.9451 - val_loss: 0.2214 - val_accuracy: 0.9218\n",
      "Epoch 9/10\n",
      "1563/1563 [==============================] - 51s 32ms/step - loss: 0.1330 - accuracy: 0.9501 - val_loss: 0.2451 - val_accuracy: 0.9215\n",
      "Epoch 10/10\n",
      "1563/1563 [==============================] - 50s 32ms/step - loss: 0.1208 - accuracy: 0.9547 - val_loss: 0.2488 - val_accuracy: 0.9233\n"
     ]
    },
    {
     "data": {
      "text/plain": [
       "<keras.callbacks.History at 0x7ff1b07b42e0>"
      ]
     },
     "execution_count": 29,
     "metadata": {},
     "output_type": "execute_result"
    }
   ],
   "source": [
    "optimal_model.fit(X_train, y_train, epochs=10, validation_data = (X_valid, y_valid))"
   ]
  },
  {
   "cell_type": "code",
   "execution_count": 30,
   "id": "40dba60c",
   "metadata": {},
   "outputs": [
    {
     "name": "stdout",
     "output_type": "stream",
     "text": [
      "313/313 [==============================] - 3s 8ms/step - loss: 0.2889 - accuracy: 0.9172\n"
     ]
    },
    {
     "data": {
      "text/plain": [
       "[0.28894561529159546, 0.9172000288963318]"
      ]
     },
     "execution_count": 30,
     "metadata": {},
     "output_type": "execute_result"
    }
   ],
   "source": [
    "optimal_model.evaluate(X_test, y_test)"
   ]
  },
  {
   "cell_type": "markdown",
   "id": "dd38ccee",
   "metadata": {},
   "source": [
    "As we can see, this has achieved a slightly better performance on the test dataset. Overall, we achieved very strong classification performance on the MNIST Fashion Dataset."
   ]
  }
 ],
 "metadata": {
  "kernelspec": {
   "display_name": "myenv",
   "language": "python",
   "name": "myenv"
  },
  "language_info": {
   "codemirror_mode": {
    "name": "ipython",
    "version": 3
   },
   "file_extension": ".py",
   "mimetype": "text/x-python",
   "name": "python",
   "nbconvert_exporter": "python",
   "pygments_lexer": "ipython3",
   "version": "3.9.12"
  }
 },
 "nbformat": 4,
 "nbformat_minor": 5
}
